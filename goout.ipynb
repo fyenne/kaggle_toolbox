{
 "cells": [
  {
   "cell_type": "code",
   "execution_count": 1,
   "metadata": {},
   "outputs": [],
   "source": [
    "import pandas as pd\n",
    "import requests\n",
    "from bs4 import BeautifulStoneSoup"
   ]
  },
  {
   "cell_type": "code",
   "execution_count": null,
   "metadata": {},
   "outputs": [],
   "source": []
  },
  {
   "cell_type": "code",
   "execution_count": null,
   "metadata": {},
   "outputs": [],
   "source": [
    "airports = pd.DataFrame(\n",
    "    requests.get(\n",
    "        \"https://www.ceair.com/common_source/ds_city/ds_cities_data_zh.json\"\n",
    "    ).json()\n",
    ")\n",
    "airports = pd.DataFrame(airports.loc[\"domesticCity\", \"data\"][\"cityMap\"][\"A\"])"
   ]
  },
  {
   "cell_type": "code",
   "execution_count": null,
   "metadata": {},
   "outputs": [],
   "source": [
    "url = \"https://www.ceair.com/portal/v3/shopping/briefInfo\"\n",
    "headers = {\n",
    "    \"accept\": \"application/json, text/plain, */*\",\n",
    "    \"accept-language\": \"en-US,en;q=0.9,zh-CN;q=0.8,zh;q=0.7\",\n",
    "    \"content-type\": \"application/json;charset=UTF-8;\",\n",
    "    \"currencycode\": \"CNY\",\n",
    "    \"languagecode\": \"zh\",\n",
    "    \"origin\": \"https://www.ceair.com\",\n",
    "    \"priority\": \"u=1, i\",\n",
    "    \"referer\": \"https://www.ceair.com/shopping\",\n",
    "    \"sec-ch-ua\": '\"Google Chrome\";v=\"131\", \"Chromium\";v=\"131\", \"Not_A Brand\";v=\"24\"',\n",
    "    \"sec-ch-ua-mobile\": \"?0\",\n",
    "    \"sec-ch-ua-platform\": '\"macOS\"',\n",
    "    \"sec-fetch-dest\": \"empty\",\n",
    "    \"sec-fetch-mode\": \"cors\",\n",
    "    \"sec-fetch-site\": \"same-origin\",\n",
    "    \"user-agent\": \"Mozilla/5.0 (Macintosh; Intel Mac OS X 10_15_7) AppleWebKit/537.36 (KHTML, like Gecko) Chrome/131.0.0.0 Safari/537.36\",\n",
    "    \"x-tingyun\": \"c=B|q-39mIdownM;x=d11b59e73dd04893\",\n",
    "    \"accept-encoding\": \"gzip, deflate, br\",\n",
    "    \"cookie\": \"inter=M2VjYjFiNTktMWFjNi00NjFlLWEzNDEtZDI1OGIwM2UwMTk0; HMF_CI=982ab7447032139f0e958398358da478a5bfe0025fdf7d18b86bef8da7564064292c2347aba26ee1607bfd79b19679f291e629f4ce62c291947085b2d292284f27; sajssdk_2015_cross_new_user=1; sensorsdata2015jssdkcross=%7B%22distinct_id%22%3A%2219435111b721d14-076c949d0a9aef4-1e525636-3686400-19435111b7322f9%22%2C%22first_id%22%3A%22%22%2C%22props%22%3A%7B%22%24latest_traffic_source_type%22%3A%22%E8%87%AA%E7%84%B6%E6%90%9C%E7%B4%A2%E6%B5%81%E9%87%8F%22%2C%22%24latest_search_keyword%22%3A%22%E6%9C%AA%E5%8F%96%E5%88%B0%E5%80%BC%22%2C%22%24latest_referrer%22%3A%22https%3A%2F%2Fwww.google.com%2F%22%7D%2C%22identities%22%3A%22eyIkaWRlbnRpdHlfY29va2llX2lkIjoiMTk0MzUxMTFiNzIxZDE0LTA3NmM5NDlkMGE5YWVmNC0xZTUyNTYzNi0zNjg2NDAwLTE5NDM1MTExYjczMjJmOSJ9%22%2C%22history_login_id%22%3A%7B%22name%22%3A%22%22%2C%22value%22%3A%22%22%7D%2C%22%24device_id%22%3A%2219435111b721d14-076c949d0a9aef4-1e525636-3686400-19435111b7322f9%22%7D; gioCookie=yes; gr_user_id=4e8e7cb1-3636-4359-9884-d7c5705121e4; CSH_DF=bl0ptMhVMdDUfPXG8XFkc+BbU/2Okt9hysH2LkXcNTwZc0rnNPY/seJzAl3QeEOvB4; CSH_UF=0845b309c7b9b957afd9ecf775a4c21f; arialoadData=true; ariawapChangeViewPort=false; i18n_site=zh_CNY; needDeleteItems=; ariauseGraymode=false; acw_tc=ac11000117360769167034024e6c48b265cb88e099eb71a6f5c17d04ae9fb4; HOY_TR=NQSWYHVOZAPMXIBJ,68ABDF032E47C519,gwjbminoacdhlptr; HBB_HC=7ed473a7954fc577d15adca837e0003dc0b820fd5d6d8e3906aca39ec166b0104f6f28123679282a4e85e06a3e2d69e1f5; 84bb15efa4e13721_gr_session_id=d77678d2-61ec-4f4d-b809-1ace6266b4fa; 84bb15efa4e13721_gr_session_id_sent_vst=d77678d2-61ec-4f4d-b809-1ace6266b4fa\",\n",
    "}\n",
    "data = {\n",
    "    \"adultCount\": 1,\n",
    "    \"arrCityCode\": \"CKG\",\n",
    "    \"arrCode\": \"CKG,CQW\",\n",
    "    \"arrDate\": \"\",\n",
    "    \"childCount\": 0,\n",
    "    \"depCityCode\": \"SHA\",\n",
    "    \"depCode\": \"SHA,PVG\",\n",
    "    \"depDate\": \"2025-01-05\",\n",
    "    \"infantCount\": 0,\n",
    "    \"routeType\": \"OW\",\n",
    "    \"onlyPlaneFlag\": False,\n",
    "    \"cabinLevel\": \"\",\n",
    "    \"verifyUrl\": \"/portal/v3/shopping/briefInfo?SHACKG2025-01-05\",\n",
    "}\n",
    "rb = requests.post(url, headers=headers, json=data)\n",
    "rb.status_code"
   ]
  },
  {
   "cell_type": "code",
   "execution_count": 134,
   "metadata": {},
   "outputs": [],
   "source": [
    "# rb.json()['data']['flightItems']\n"
   ]
  },
  {
   "cell_type": "code",
   "execution_count": null,
   "metadata": {},
   "outputs": [],
   "source": [
    "pd.DataFrame(rb.json()['data']['flightItems'])"
   ]
  },
  {
   "cell_type": "code",
   "execution_count": null,
   "metadata": {},
   "outputs": [],
   "source": []
  },
  {
   "cell_type": "code",
   "execution_count": 137,
   "metadata": {},
   "outputs": [],
   "source": [
    "# Define the URL\n",
    "url = \"https://www.ceair.com/portal/v3/shopping/querySummaryPrice\"\n",
    "\n",
    "# Define headers\n",
    "headers = {\n",
    "    \"accept\": \"application/json, text/plain, */*\",\n",
    "    \"accept-language\": \"en-US,en;q=0.9,zh-CN;q=0.8,zh;q=0.7\",\n",
    "    \"content-type\": \"application/json;charset=UTF-8;\",\n",
    "    \"currencycode\": \"CNY\",\n",
    "    \"languagecode\": \"zh\",\n",
    "    \"origin\": \"https://www.ceair.com\",\n",
    "    \"priority\": \"u=1, i\",\n",
    "    \"referer\": \"https://www.ceair.com/shopping\",\n",
    "    \"sec-ch-ua\": '\"Google Chrome\";v=\"131\", \"Chromium\";v=\"131\", \"Not_A Brand\";v=\"24\"',\n",
    "    \"sec-ch-ua-mobile\": \"?0\",\n",
    "    \"sec-ch-ua-platform\": '\"macOS\"',\n",
    "    \"sec-fetch-dest\": \"empty\",\n",
    "    \"sec-fetch-mode\": \"cors\",\n",
    "    \"sec-fetch-site\": \"same-origin\",\n",
    "    \"user-agent\": \"Mozilla/5.0 (Macintosh; Intel Mac OS X 10_15_7) AppleWebKit/537.36 (KHTML, like Gecko) Chrome/131.0.0.0 Safari/537.36\",\n",
    "    \"x-tingyun\": \"c=B|q-39mIdownM;x=d11b59e73dd04893\",\n",
    "    \"accept-encoding\": \"gzip, deflate, br\",\n",
    "    \"cookie\": \"inter=ZTk2MGJkMDQtYmZjYi00M2ZlLTg3NjktNjc3YmUyNDM0Njg1; HMF_CI=982ab7447032139f0e958398358da478a5bfe0025fdf7d18b86bef8da7564064292c2347aba26ee1607bfd79b19679f291e629f4ce62c291947085b2d292284f27; sajssdk_2015_cross_new_user=1; sensorsdata2015jssdkcross=%7B%22distinct_id%22%3A%2219435111b721d14-076c949d0a9aef4-1e525636-3686400-19435111b7322f9%22%2C%22first_id%22%3A%22%22%2C%22props%22%3A%7B%22%24latest_traffic_source_type%22%3A%22%E8%87%AA%E7%84%B6%E6%90%9C%E7%B4%A2%E6%B5%81%E9%87%8F%22%2C%22%24latest_search_keyword%22%3A%22%E6%9C%AA%E5%8F%96%E5%88%B0%E5%80%BC%22%2C%22%24latest_referrer%22%3A%22https%3A%2F%2Fwww.google.com%2F%22%7D%2C%22identities%22%3A%22eyIkaWRlbnRpdHlfY29va2llX2lkIjoiMTk0MzUxMTFiNzIxZDE0LTA3NmM5NDlkMGE5YWVmNC0xZTUyNTYzNi0zNjg2NDAwLTE5NDM1MTExYjczMjJmOSJ9%22%2C%22history_login_id%22%3A%7B%22name%22%3A%22%22%2C%22value%22%3A%22%22%7D%2C%22%24device_id%22%3A%2219435111b721d14-076c949d0a9aef4-1e525636-3686400-19435111b7322f9%22%7D; gioCookie=yes; gr_user_id=4e8e7cb1-3636-4359-9884-d7c5705121e4; 84bb15efa4e13721_gr_session_id=83fc1500-5ab3-4fbd-9885-9e25998ca7a5; CSH_DF=bl0ptMhVMdDUfPXG8XFkc+BbU/2Okt9hysH2LkXcNTwZc0rnNPY/seJzAl3QeEOvB4; CSH_UF=0845b309c7b9b957afd9ecf775a4c21f; ariauseGraymode=false; arialoadData=true; ariawapChangeViewPort=false; i18n_site=en_USD; 84bb15efa4e13721_gr_session_id_sent_vst=83fc1500-5ab3-4fbd-9885-9e25998ca7a5; acw_tc=ac11000117360605847574007e91066ee56063d2c60f3e757a4dbcd8f80241\",  # Replace with your actual cookie value\n",
    "}\n",
    "\n",
    "payload = {\n",
    "    \"segIndex\": 1,\n",
    "    \"flightItems\": [\n",
    "        {\n",
    "            \"depCode\": \"SHA,PVG\",\n",
    "            \"arrCode\": \"TYN\",\n",
    "            \"depCityCode\": \"SHA\",\n",
    "            \"arrCityCode\": \"TYN\",\n",
    "            \"depDt\": \"2025-01-22\",\n",
    "            \"index\": 1,\n",
    "        }\n",
    "    ],\n",
    "    \"preference\": {\"cabinRank\": \"F,J,Y\", \"currencyCode\": \"CNY\", \"lowestControl\": \"0\"},\n",
    "    \"routeType\": \"OW\",\n",
    "}\n",
    "\n",
    "# Make the POST request\n",
    "response = requests.post(url, headers=headers, json=payload)\n",
    "\n",
    "# # Print the response\n",
    "# if response.ok:\n",
    "#     try:\n",
    "#         print(response.json())  # Print response as JSON\n",
    "#     except ValueError:  # If JSON decoding fails\n",
    "#         print(\"Response is not in JSON format:\")\n",
    "#         print(response.text)\n",
    "# else:\n",
    "#     print(f\"Error: {response.status_code}\")\n",
    "#     print(response.text)"
   ]
  },
  {
   "cell_type": "code",
   "execution_count": null,
   "metadata": {},
   "outputs": [],
   "source": [
    "pd.DataFrame(response.json()[\"segmentLowestPriceList\"]).dropna(axis=1, how=\"all\")"
   ]
  },
  {
   "cell_type": "code",
   "execution_count": 2,
   "metadata": {},
   "outputs": [],
   "source": [
    "# import turtle\n",
    "\n",
    "# def turn(i):\n",
    "#     left = (((i & -i) << 1) & i) != 0\n",
    "#     return 'L' if left else 'R'\n",
    "\n",
    "# def curve(iteration):\n",
    "#     return ''.join([turn(i + 1) for i in range(2 ** iteration - 1)])\n",
    "\n",
    "# if __name__ == '__main__':\n",
    "#     turtle.showturtle()\n",
    "#     turtle.hideturtle()\n",
    "#     turtle.speed(0)\n",
    "#     i = 1\n",
    "#     while True:\n",
    "#         if turn(i) == 'L':\n",
    "#             turtle.circle(-4, 90, 36)\n",
    "#         else:\n",
    "#             turtle.circle(4, 90, 36)\n",
    "#         i += 1"
   ]
  },
  {
   "cell_type": "code",
   "execution_count": null,
   "metadata": {},
   "outputs": [],
   "source": []
  }
 ],
 "metadata": {
  "kernelspec": {
   "display_name": "samo",
   "language": "python",
   "name": "python3"
  },
  "language_info": {
   "codemirror_mode": {
    "name": "ipython",
    "version": 3
   },
   "file_extension": ".py",
   "mimetype": "text/x-python",
   "name": "python",
   "nbconvert_exporter": "python",
   "pygments_lexer": "ipython3",
   "version": "3.10.10"
  }
 },
 "nbformat": 4,
 "nbformat_minor": 2
}
