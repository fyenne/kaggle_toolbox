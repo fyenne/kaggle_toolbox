{
 "cells": [
  {
   "cell_type": "markdown",
   "id": "e21fb900",
   "metadata": {
    "papermill": {
     "duration": 0.008723,
     "end_time": "2025-01-05T21:11:34.352328",
     "exception": false,
     "start_time": "2025-01-05T21:11:34.343605",
     "status": "completed"
    },
    "tags": []
   },
   "source": [
    "# Forecasting using previous years as a baseline"
   ]
  },
  {
   "cell_type": "markdown",
   "id": "a6bdc52e",
   "metadata": {
    "papermill": {
     "duration": 0.007128,
     "end_time": "2025-01-05T21:11:34.367491",
     "exception": false,
     "start_time": "2025-01-05T21:11:34.360363",
     "status": "completed"
    },
    "tags": []
   },
   "source": [
    "See my EDA and Linear Regression baseline notebook for more information about this dataset:\n",
    "- https://www.kaggle.com/code/cabaxiom/s5e1-eda-and-linear-regression-baseline?scriptVersionId=216127469"
   ]
  },
  {
   "cell_type": "markdown",
   "id": "247fd15e",
   "metadata": {
    "papermill": {
     "duration": 0.007221,
     "end_time": "2025-01-05T21:11:34.382195",
     "exception": false,
     "start_time": "2025-01-05T21:11:34.374974",
     "status": "completed"
    },
    "tags": []
   },
   "source": [
    "This forecast contains much of the same first steps as my previous notebook - aggregating on country, product and store, then making the forecast for the daily number of sales for the next three years, before disagregating back to get the number of sales for each country, product and store.\n",
    "\n",
    "**Forecast:**\n",
    "\n",
    "The forecast in this notebook takes the mean number of sales for each day of the year for the previous x years and uses this as the forecast. **No model is used**.\n",
    "\n",
    "Day of the week has been considered."
   ]
  },
  {
   "cell_type": "markdown",
   "id": "745be4d8",
   "metadata": {
    "papermill": {
     "duration": 0.007014,
     "end_time": "2025-01-05T21:11:34.396499",
     "exception": false,
     "start_time": "2025-01-05T21:11:34.389485",
     "status": "completed"
    },
    "tags": []
   },
   "source": [
    "### Preliminaries"
   ]
  },
  {
   "cell_type": "code",
   "execution_count": 41,
   "id": "08ae1820",
   "metadata": {},
   "outputs": [],
   "source": [
    "#  pip install kaggle\n",
    "# kaggle competitions list"
   ]
  },
  {
   "cell_type": "code",
   "execution_count": 1,
   "id": "3fe7e021",
   "metadata": {
    "execution": {
     "iopub.execute_input": "2025-01-05T21:11:34.412507Z",
     "iopub.status.busy": "2025-01-05T21:11:34.412149Z",
     "iopub.status.idle": "2025-01-05T21:11:36.420209Z",
     "shell.execute_reply": "2025-01-05T21:11:36.419331Z"
    },
    "papermill": {
     "duration": 2.018261,
     "end_time": "2025-01-05T21:11:36.422007",
     "exception": false,
     "start_time": "2025-01-05T21:11:34.403746",
     "status": "completed"
    },
    "tags": []
   },
   "outputs": [],
   "source": [
    "import numpy as np\n",
    "import pandas as pd\n",
    "import matplotlib.pyplot as plt\n",
    "import seaborn as sns\n",
    "\n",
    "sns.set_style('whitegrid')"
   ]
  },
  {
   "cell_type": "code",
   "execution_count": 2,
   "id": "ce16e881",
   "metadata": {
    "_kg_hide-input": true,
    "execution": {
     "iopub.execute_input": "2025-01-05T21:11:36.439373Z",
     "iopub.status.busy": "2025-01-05T21:11:36.438854Z",
     "iopub.status.idle": "2025-01-05T21:11:36.443417Z",
     "shell.execute_reply": "2025-01-05T21:11:36.442529Z"
    },
    "papermill": {
     "duration": 0.014543,
     "end_time": "2025-01-05T21:11:36.444896",
     "exception": false,
     "start_time": "2025-01-05T21:11:36.430353",
     "status": "completed"
    },
    "tags": []
   },
   "outputs": [
    {
     "data": {
      "text/plain": [
       "['datadown',\n",
       " 'dataup',\n",
       " 'emsembler.ipynb',\n",
       " 'forecasting-sticker-sales-ensemble.ipynb',\n",
       " 'linearregression-subtract-bias-makes-lb-0-054.ipynb',\n",
       " 'models',\n",
       " 's51_samo.ipynb',\n",
       " 's5e1-previous-years-baseline-no-model.ipynb',\n",
       " 'submissions_1',\n",
       " 'submissions_2',\n",
       " 'submission_0']"
      ]
     },
     "execution_count": 2,
     "metadata": {},
     "output_type": "execute_result"
    }
   ],
   "source": [
    "import warnings\n",
    "import os\n",
    "import plotly.graph_objects as go\n",
    "\n",
    "warnings.filterwarnings(\"ignore\", category=FutureWarning, module=\"seaborn._oldcore\")\n",
    "os.listdir()"
   ]
  },
  {
   "cell_type": "code",
   "execution_count": 3,
   "id": "8159af99",
   "metadata": {
    "execution": {
     "iopub.execute_input": "2025-01-05T21:11:36.461637Z",
     "iopub.status.busy": "2025-01-05T21:11:36.461283Z",
     "iopub.status.idle": "2025-01-05T21:11:36.977975Z",
     "shell.execute_reply": "2025-01-05T21:11:36.976840Z"
    },
    "papermill": {
     "duration": 0.527072,
     "end_time": "2025-01-05T21:11:36.979829",
     "exception": false,
     "start_time": "2025-01-05T21:11:36.452757",
     "status": "completed"
    },
    "tags": []
   },
   "outputs": [],
   "source": [
    "try:\n",
    "    train_df = pd.read_csv(\"/kaggle/input/playground-series-s5e1/train.csv\", parse_dates=[\"date\"])\n",
    "    test_df = pd.read_csv(\"/kaggle/input/playground-series-s5e1/test.csv\", parse_dates=[\"date\"])\n",
    "except:\n",
    "    train_df = pd.read_csv(\"./datadown/train.csv\", parse_dates=[\"date\"])\n",
    "    test_df = pd.read_csv(\"./datadown/test.csv\", parse_dates=[\"date\"])\n"
   ]
  },
  {
   "cell_type": "code",
   "execution_count": 4,
   "id": "2d2b338e",
   "metadata": {
    "execution": {
     "iopub.execute_input": "2025-01-05T21:11:36.996332Z",
     "iopub.status.busy": "2025-01-05T21:11:36.995978Z",
     "iopub.status.idle": "2025-01-05T21:11:37.008236Z",
     "shell.execute_reply": "2025-01-05T21:11:37.007035Z"
    },
    "papermill": {
     "duration": 0.022775,
     "end_time": "2025-01-05T21:11:37.010305",
     "exception": false,
     "start_time": "2025-01-05T21:11:36.987530",
     "status": "completed"
    },
    "tags": []
   },
   "outputs": [
    {
     "name": "stdout",
     "output_type": "stream",
     "text": [
      "Train - Earliest date: 2010-01-01 00:00:00\n",
      "Train - Latest date: 2016-12-31 00:00:00\n",
      "Test - Earliest date: 2017-01-01 00:00:00\n",
      "Test - Latest date: 2019-12-31 00:00:00\n"
     ]
    }
   ],
   "source": [
    "print(\"Train - Earliest date:\", train_df[\"date\"].min())\n",
    "print(\"Train - Latest date:\", train_df[\"date\"].max())\n",
    "\n",
    "print(\"Test - Earliest date:\", test_df[\"date\"].min())\n",
    "print(\"Test - Latest date:\", test_df[\"date\"].max())"
   ]
  },
  {
   "cell_type": "code",
   "execution_count": 5,
   "id": "000c14ef",
   "metadata": {},
   "outputs": [],
   "source": [
    "# import kagglehub\n",
    "\n",
    "# # Download latest version\n",
    "# path = kagglehub.dataset_download(\"zgrcemta/world-gdpgdp-gdp-per-capita-and-annual-growths\")\n",
    "\n",
    "# print(\"Path to dataset files:\", path)"
   ]
  },
  {
   "cell_type": "markdown",
   "id": "2b87a76d",
   "metadata": {
    "papermill": {
     "duration": 0.007366,
     "end_time": "2025-01-05T21:11:37.025402",
     "exception": false,
     "start_time": "2025-01-05T21:11:37.018036",
     "status": "completed"
    },
    "tags": []
   },
   "source": [
    "## Country Weights"
   ]
  },
  {
   "cell_type": "markdown",
   "id": "f94fd662",
   "metadata": {
    "papermill": {
     "duration": 0.007674,
     "end_time": "2025-01-05T21:11:37.040759",
     "exception": false,
     "start_time": "2025-01-05T21:11:37.033085",
     "status": "completed"
    },
    "tags": []
   },
   "source": [
    "We aggregate the country variable when making the forecast as we found in my EDA [notebook](https://www.kaggle.com/code/cabaxiom/s5e1-eda-and-linear-regression-baseline?scriptVersionId=216127469). This works as the proportion of sales in each country for every year is equal to the proportion of GDP per captia for that country and year."
   ]
  },
  {
   "cell_type": "code",
   "execution_count": 6,
   "id": "d05232ae",
   "metadata": {
    "execution": {
     "iopub.execute_input": "2025-01-05T21:11:37.057132Z",
     "iopub.status.busy": "2025-01-05T21:11:37.056703Z",
     "iopub.status.idle": "2025-01-05T21:11:37.123764Z",
     "shell.execute_reply": "2025-01-05T21:11:37.122749Z"
    },
    "papermill": {
     "duration": 0.077573,
     "end_time": "2025-01-05T21:11:37.125747",
     "exception": false,
     "start_time": "2025-01-05T21:11:37.048174",
     "status": "completed"
    },
    "tags": []
   },
   "outputs": [],
   "source": [
    "gdp_per_capita_df = pd.read_csv(\"./datadown/gdp_per_capita.csv\")\n",
    "\n",
    "years =  [\"2010\", \"2011\", \"2012\", \"2013\", \"2014\", \"2015\", \"2016\", \"2017\", \"2018\", \"2019\", \"2020\"]\n",
    "gdp_per_capita_filtered_df = gdp_per_capita_df.loc[gdp_per_capita_df[\"Country Name\"].isin(train_df[\"country\"].unique()), [\"Country Name\"] + years].set_index(\"Country Name\")\n",
    "gdp_per_capita_filtered_df[\"2010_ratio\"] = gdp_per_capita_filtered_df[\"2010\"] / gdp_per_capita_filtered_df.sum()[\"2010\"]\n",
    "for year in years:\n",
    "    gdp_per_capita_filtered_df[f\"{year}_ratio\"] = gdp_per_capita_filtered_df[year] / gdp_per_capita_filtered_df.sum()[year]\n",
    "gdp_per_capita_filtered_ratios_df = gdp_per_capita_filtered_df[[i+\"_ratio\" for i in years]]\n",
    "gdp_per_capita_filtered_ratios_df.columns = [int(i) for i in years]\n",
    "gdp_per_capita_filtered_ratios_df = gdp_per_capita_filtered_ratios_df.unstack().reset_index().rename(columns = {\"level_0\": \"year\", 0: \"ratio\", \"Country Name\": \"country\"})\n",
    "gdp_per_capita_filtered_ratios_df['year'] = pd.to_datetime(gdp_per_capita_filtered_ratios_df['year'], format='%Y')"
   ]
  },
  {
   "cell_type": "markdown",
   "id": "37f17f33",
   "metadata": {
    "papermill": {
     "duration": 0.007258,
     "end_time": "2025-01-05T21:11:37.140702",
     "exception": false,
     "start_time": "2025-01-05T21:11:37.133444",
     "status": "completed"
    },
    "tags": []
   },
   "source": [
    "## Imputing Missing Values"
   ]
  },
  {
   "cell_type": "markdown",
   "id": "ea639804",
   "metadata": {
    "papermill": {
     "duration": 0.0074,
     "end_time": "2025-01-05T21:11:37.156067",
     "exception": false,
     "start_time": "2025-01-05T21:11:37.148667",
     "status": "completed"
    },
    "tags": []
   },
   "source": [
    "Imputing missing values, using this information."
   ]
  },
  {
   "cell_type": "code",
   "execution_count": 7,
   "id": "b9fd31dd",
   "metadata": {},
   "outputs": [
    {
     "name": "stdout",
     "output_type": "stream",
     "text": [
      "['Canada' 'Finland' 'Italy' 'Kenya' 'Norway' 'Singapore']\n"
     ]
    },
    {
     "data": {
      "text/plain": [
       "1.125889461973288"
      ]
     },
     "execution_count": 7,
     "metadata": {},
     "output_type": "execute_result"
    }
   ],
   "source": [
    "print(train_df['country'].unique())\n",
    "gdp_per_capita_filtered_ratios_df.loc[\n",
    "        (gdp_per_capita_filtered_ratios_df[\"year\"] == year)\n",
    "        & (gdp_per_capita_filtered_ratios_df[\"country\"] == \"Finland\"),\n",
    "        \"ratio\",\n",
    "    ].values[\n",
    "        0\n",
    "    ]  /gdp_per_capita_filtered_ratios_df.loc[\n",
    "        (gdp_per_capita_filtered_ratios_df[\"year\"] == year)\n",
    "        & (gdp_per_capita_filtered_ratios_df[\"country\"] == \"Canada\"),\n",
    "        \"ratio\",\n",
    "    ].values[0]"
   ]
  },
  {
   "cell_type": "code",
   "execution_count": 9,
   "id": "8d97d024",
   "metadata": {
    "execution": {
     "iopub.execute_input": "2025-01-05T21:11:37.172418Z",
     "iopub.status.busy": "2025-01-05T21:11:37.172057Z",
     "iopub.status.idle": "2025-01-05T21:11:44.042343Z",
     "shell.execute_reply": "2025-01-05T21:11:44.041201Z"
    },
    "papermill": {
     "duration": 6.880797,
     "end_time": "2025-01-05T21:11:44.044244",
     "exception": false,
     "start_time": "2025-01-05T21:11:37.163447",
     "status": "completed"
    },
    "tags": []
   },
   "outputs": [
    {
     "name": "stdout",
     "output_type": "stream",
     "text": [
      "Missing values remaining: 8871\n",
      "Missing values remaining: 2\n"
     ]
    }
   ],
   "source": [
    "gdp_per_capita_filtered_ratios_df[\"year\"] = gdp_per_capita_filtered_ratios_df[\n",
    "    \"year\"\n",
    "].dt.year\n",
    "train_df_imputed = train_df.copy()\n",
    "print(f\"Missing values remaining: {train_df_imputed['num_sold'].isna().sum()}\")\n",
    "\n",
    "train_df_imputed[\"year\"] = train_df_imputed[\"date\"].dt.year\n",
    "for year in train_df_imputed[\"year\"].unique():\n",
    "    # Impute Time Series 1 (Canada, Discount Stickers, Holographic Goose)\n",
    "    target_ratio = gdp_per_capita_filtered_ratios_df.loc[\n",
    "        (gdp_per_capita_filtered_ratios_df[\"year\"] == year)\n",
    "        & (gdp_per_capita_filtered_ratios_df[\"country\"] == \"Norway\"),\n",
    "        \"ratio\",\n",
    "    ].values[\n",
    "        0\n",
    "    ]  #* Using Norway as should have the best precision\n",
    "    current_raito = gdp_per_capita_filtered_ratios_df.loc[\n",
    "        (gdp_per_capita_filtered_ratios_df[\"year\"] == year)\n",
    "        & (gdp_per_capita_filtered_ratios_df[\"country\"] == \"Canada\"),\n",
    "        \"ratio\",\n",
    "    ].values[0]\n",
    "    ratio_can = current_raito / target_ratio\n",
    "    train_df_imputed.loc[\n",
    "        (train_df_imputed[\"country\"] == \"Canada\")\n",
    "        & (train_df_imputed[\"store\"] == \"Discount Stickers\")\n",
    "        & (train_df_imputed[\"product\"] == \"Holographic Goose\")\n",
    "        & (train_df_imputed[\"year\"] == year),\n",
    "        \"num_sold\",\n",
    "    ] = (\n",
    "        train_df_imputed.loc[\n",
    "            (train_df_imputed[\"country\"] == \"Norway\")\n",
    "            & (train_df_imputed[\"store\"] == \"Discount Stickers\")\n",
    "            & (train_df_imputed[\"product\"] == \"Holographic Goose\")\n",
    "            & (train_df_imputed[\"year\"] == year),\n",
    "            \"num_sold\",\n",
    "        ]\n",
    "        * ratio_can\n",
    "    ).values\n",
    "\n",
    "    # Impute Time Series 2 (Only Missing Values)\n",
    "    current_ts = train_df_imputed.loc[\n",
    "        (train_df_imputed[\"country\"] == \"Canada\")\n",
    "        & (train_df_imputed[\"store\"] == \"Premium Sticker Mart\")\n",
    "        & (train_df_imputed[\"product\"] == \"Holographic Goose\")\n",
    "        & (train_df_imputed[\"year\"] == year)\n",
    "    ]\n",
    "    missing_ts_dates = current_ts.loc[current_ts[\"num_sold\"].isna(), \"date\"]\n",
    "    train_df_imputed.loc[\n",
    "        (train_df_imputed[\"country\"] == \"Canada\")\n",
    "        & (train_df_imputed[\"store\"] == \"Premium Sticker Mart\")\n",
    "        & (train_df_imputed[\"product\"] == \"Holographic Goose\")\n",
    "        & (train_df_imputed[\"year\"] == year)\n",
    "        & (train_df_imputed[\"date\"].isin(missing_ts_dates)),\n",
    "        \"num_sold\",\n",
    "    ] = (\n",
    "        train_df_imputed.loc[\n",
    "            (train_df_imputed[\"country\"] == \"Norway\")\n",
    "            & (train_df_imputed[\"store\"] == \"Premium Sticker Mart\")\n",
    "            & (train_df_imputed[\"product\"] == \"Holographic Goose\")\n",
    "            & (train_df_imputed[\"year\"] == year)\n",
    "            & (train_df_imputed[\"date\"].isin(missing_ts_dates)),\n",
    "            \"num_sold\",\n",
    "        ]\n",
    "        * ratio_can\n",
    "    ).values\n",
    "\n",
    "    # Impute Time Series 3 (Only Missing Values)\n",
    "    current_ts = train_df_imputed.loc[\n",
    "        (train_df_imputed[\"country\"] == \"Canada\")\n",
    "        & (train_df_imputed[\"store\"] == \"Stickers for Less\")\n",
    "        & (train_df_imputed[\"product\"] == \"Holographic Goose\")\n",
    "        & (train_df_imputed[\"year\"] == year)\n",
    "    ]\n",
    "    missing_ts_dates = current_ts.loc[current_ts[\"num_sold\"].isna(), \"date\"]\n",
    "    train_df_imputed.loc[\n",
    "        (train_df_imputed[\"country\"] == \"Canada\")\n",
    "        & (train_df_imputed[\"store\"] == \"Stickers for Less\")\n",
    "        & (train_df_imputed[\"product\"] == \"Holographic Goose\")\n",
    "        & (train_df_imputed[\"year\"] == year)\n",
    "        & (train_df_imputed[\"date\"].isin(missing_ts_dates)),\n",
    "        \"num_sold\",\n",
    "    ] = (\n",
    "        train_df_imputed.loc[\n",
    "            (train_df_imputed[\"country\"] == \"Norway\")\n",
    "            & (train_df_imputed[\"store\"] == \"Stickers for Less\")\n",
    "            & (train_df_imputed[\"product\"] == \"Holographic Goose\")\n",
    "            & (train_df_imputed[\"year\"] == year)\n",
    "            & (train_df_imputed[\"date\"].isin(missing_ts_dates)),\n",
    "            \"num_sold\",\n",
    "        ]\n",
    "        * ratio_can\n",
    "    ).values\n",
    "\n",
    "    # Impute Time Series 4 (Kenya, Discount Stickers, Holographic Goose)\n",
    "    current_raito = gdp_per_capita_filtered_ratios_df.loc[\n",
    "        (gdp_per_capita_filtered_ratios_df[\"year\"] == year)\n",
    "        & (gdp_per_capita_filtered_ratios_df[\"country\"] == \"Kenya\"),\n",
    "        \"ratio\",\n",
    "    ].values[0]\n",
    "    ratio_ken = current_raito / target_ratio\n",
    "    train_df_imputed.loc[\n",
    "        (train_df_imputed[\"country\"] == \"Kenya\")\n",
    "        & (train_df_imputed[\"store\"] == \"Discount Stickers\")\n",
    "        & (train_df_imputed[\"product\"] == \"Holographic Goose\")\n",
    "        & (train_df_imputed[\"year\"] == year),\n",
    "        \"num_sold\",\n",
    "    ] = (\n",
    "        train_df_imputed.loc[\n",
    "            (train_df_imputed[\"country\"] == \"Norway\")\n",
    "            & (train_df_imputed[\"store\"] == \"Discount Stickers\")\n",
    "            & (train_df_imputed[\"product\"] == \"Holographic Goose\")\n",
    "            & (train_df_imputed[\"year\"] == year),\n",
    "            \"num_sold\",\n",
    "        ]\n",
    "        * ratio_ken\n",
    "    ).values\n",
    "\n",
    "    # Impute Time Series 5 (Only Missing Values)\n",
    "    current_ts = train_df_imputed.loc[\n",
    "        (train_df_imputed[\"country\"] == \"Kenya\")\n",
    "        & (train_df_imputed[\"store\"] == \"Premium Sticker Mart\")\n",
    "        & (train_df_imputed[\"product\"] == \"Holographic Goose\")\n",
    "        & (train_df_imputed[\"year\"] == year)\n",
    "    ]\n",
    "    missing_ts_dates = current_ts.loc[current_ts[\"num_sold\"].isna(), \"date\"]\n",
    "    train_df_imputed.loc[\n",
    "        (train_df_imputed[\"country\"] == \"Kenya\")\n",
    "        & (train_df_imputed[\"store\"] == \"Premium Sticker Mart\")\n",
    "        & (train_df_imputed[\"product\"] == \"Holographic Goose\")\n",
    "        & (train_df_imputed[\"year\"] == year)\n",
    "        & (train_df_imputed[\"date\"].isin(missing_ts_dates)),\n",
    "        \"num_sold\",\n",
    "    ] = (\n",
    "        train_df_imputed.loc[\n",
    "            (train_df_imputed[\"country\"] == \"Norway\")\n",
    "            & (train_df_imputed[\"store\"] == \"Premium Sticker Mart\")\n",
    "            & (train_df_imputed[\"product\"] == \"Holographic Goose\")\n",
    "            & (train_df_imputed[\"year\"] == year)\n",
    "            & (train_df_imputed[\"date\"].isin(missing_ts_dates)),\n",
    "            \"num_sold\",\n",
    "        ]\n",
    "        * ratio_ken\n",
    "    ).values\n",
    "\n",
    "    # Impute Time Series 6 (Only Missing Values)\n",
    "    current_ts = train_df_imputed.loc[\n",
    "        (train_df_imputed[\"country\"] == \"Kenya\")\n",
    "        & (train_df_imputed[\"store\"] == \"Stickers for Less\")\n",
    "        & (train_df_imputed[\"product\"] == \"Holographic Goose\")\n",
    "        & (train_df_imputed[\"year\"] == year)\n",
    "    ]\n",
    "    missing_ts_dates = current_ts.loc[current_ts[\"num_sold\"].isna(), \"date\"]\n",
    "    train_df_imputed.loc[\n",
    "        (train_df_imputed[\"country\"] == \"Kenya\")\n",
    "        & (train_df_imputed[\"store\"] == \"Stickers for Less\")\n",
    "        & (train_df_imputed[\"product\"] == \"Holographic Goose\")\n",
    "        & (train_df_imputed[\"year\"] == year)\n",
    "        & (train_df_imputed[\"date\"].isin(missing_ts_dates)),\n",
    "        \"num_sold\",\n",
    "    ] = (\n",
    "        train_df_imputed.loc[\n",
    "            (train_df_imputed[\"country\"] == \"Norway\")\n",
    "            & (train_df_imputed[\"store\"] == \"Stickers for Less\")\n",
    "            & (train_df_imputed[\"product\"] == \"Holographic Goose\")\n",
    "            & (train_df_imputed[\"year\"] == year)\n",
    "            & (train_df_imputed[\"date\"].isin(missing_ts_dates)),\n",
    "            \"num_sold\",\n",
    "        ]\n",
    "        * ratio_ken\n",
    "    ).values\n",
    "\n",
    "    # Impute Time Series 7 (Only Missing Values)\n",
    "    current_ts = train_df_imputed.loc[\n",
    "        (train_df_imputed[\"country\"] == \"Kenya\")\n",
    "        & (train_df_imputed[\"store\"] == \"Discount Stickers\")\n",
    "        & (train_df_imputed[\"product\"] == \"Kerneler\")\n",
    "        & (train_df_imputed[\"year\"] == year)\n",
    "    ]\n",
    "    missing_ts_dates = current_ts.loc[current_ts[\"num_sold\"].isna(), \"date\"]\n",
    "    train_df_imputed.loc[\n",
    "        (train_df_imputed[\"country\"] == \"Kenya\")\n",
    "        & (train_df_imputed[\"store\"] == \"Discount Stickers\")\n",
    "        & (train_df_imputed[\"product\"] == \"Kerneler\")\n",
    "        & (train_df_imputed[\"year\"] == year)\n",
    "        & (train_df_imputed[\"date\"].isin(missing_ts_dates)),\n",
    "        \"num_sold\",\n",
    "    ] = (\n",
    "        train_df_imputed.loc[\n",
    "            (train_df_imputed[\"country\"] == \"Norway\")\n",
    "            & (train_df_imputed[\"store\"] == \"Discount Stickers\")\n",
    "            & (train_df_imputed[\"product\"] == \"Kerneler\")\n",
    "            & (train_df_imputed[\"year\"] == year)\n",
    "            & (train_df_imputed[\"date\"].isin(missing_ts_dates)),\n",
    "            \"num_sold\",\n",
    "        ]\n",
    "        * ratio_ken\n",
    "    ).values\n",
    "\n",
    "print(f\"Missing values remaining: {train_df_imputed['num_sold'].isna().sum()}\")"
   ]
  },
  {
   "cell_type": "code",
   "execution_count": 10,
   "id": "3c17143b",
   "metadata": {
    "execution": {
     "iopub.execute_input": "2025-01-05T21:11:44.061169Z",
     "iopub.status.busy": "2025-01-05T21:11:44.060790Z",
     "iopub.status.idle": "2025-01-05T21:11:44.070157Z",
     "shell.execute_reply": "2025-01-05T21:11:44.069239Z"
    },
    "papermill": {
     "duration": 0.019504,
     "end_time": "2025-01-05T21:11:44.071740",
     "exception": false,
     "start_time": "2025-01-05T21:11:44.052236",
     "status": "completed"
    },
    "tags": []
   },
   "outputs": [
    {
     "name": "stdout",
     "output_type": "stream",
     "text": [
      "Missing values remaining: 0\n"
     ]
    }
   ],
   "source": [
    "missing_rows = train_df_imputed.loc[train_df_imputed[\"num_sold\"].isna()]\n",
    "\n",
    "train_df_imputed.loc[train_df_imputed[\"id\"] == 23719, \"num_sold\"] = 4\n",
    "train_df_imputed.loc[train_df_imputed[\"id\"] == 207003, \"num_sold\"] = 195\n",
    "\n",
    "print(f\"Missing values remaining: {train_df_imputed['num_sold'].isna().sum()}\")"
   ]
  },
  {
   "cell_type": "code",
   "execution_count": null,
   "id": "90ac086c",
   "metadata": {},
   "outputs": [],
   "source": []
  },
  {
   "cell_type": "markdown",
   "id": "40619d6d",
   "metadata": {
    "papermill": {
     "duration": 0.007519,
     "end_time": "2025-01-05T21:11:44.087126",
     "exception": false,
     "start_time": "2025-01-05T21:11:44.079607",
     "status": "completed"
    },
    "tags": []
   },
   "source": [
    "## Store Weights"
   ]
  },
  {
   "cell_type": "markdown",
   "id": "7fc30566",
   "metadata": {
    "papermill": {
     "duration": 0.007248,
     "end_time": "2025-01-05T21:11:44.101807",
     "exception": false,
     "start_time": "2025-01-05T21:11:44.094559",
     "status": "completed"
    },
    "tags": []
   },
   "source": [
    "We aggregate the stores, as we found that each store has the same proportion of sales on every day during the EDA."
   ]
  },
  {
   "cell_type": "code",
   "execution_count": 11,
   "id": "3fe18d81",
   "metadata": {
    "execution": {
     "iopub.execute_input": "2025-01-05T21:11:44.118153Z",
     "iopub.status.busy": "2025-01-05T21:11:44.117761Z",
     "iopub.status.idle": "2025-01-05T21:11:44.149233Z",
     "shell.execute_reply": "2025-01-05T21:11:44.147781Z"
    },
    "papermill": {
     "duration": 0.041826,
     "end_time": "2025-01-05T21:11:44.151129",
     "exception": false,
     "start_time": "2025-01-05T21:11:44.109303",
     "status": "completed"
    },
    "tags": []
   },
   "outputs": [],
   "source": [
    "store_weights = train_df_imputed.groupby(\"store\")[\"num_sold\"].sum()/train_df_imputed[\"num_sold\"].sum()"
   ]
  },
  {
   "cell_type": "markdown",
   "id": "72a7959a",
   "metadata": {
    "papermill": {
     "duration": 0.00746,
     "end_time": "2025-01-05T21:11:44.166497",
     "exception": false,
     "start_time": "2025-01-05T21:11:44.159037",
     "status": "completed"
    },
    "tags": []
   },
   "source": [
    "## Product Weights"
   ]
  },
  {
   "cell_type": "markdown",
   "id": "ae09dad0",
   "metadata": {
    "papermill": {
     "duration": 0.0078,
     "end_time": "2025-01-05T21:11:44.182483",
     "exception": false,
     "start_time": "2025-01-05T21:11:44.174683",
     "status": "completed"
    },
    "tags": []
   },
   "source": [
    "We aggregate over products, as we found during the EDA that the proportion of sales for each product can be fitted with a trigonometric function."
   ]
  },
  {
   "cell_type": "code",
   "execution_count": 47,
   "id": "e4fe9fc6",
   "metadata": {},
   "outputs": [
    {
     "data": {
      "text/html": [
       "<div>\n",
       "<style scoped>\n",
       "    .dataframe tbody tr th:only-of-type {\n",
       "        vertical-align: middle;\n",
       "    }\n",
       "\n",
       "    .dataframe tbody tr th {\n",
       "        vertical-align: top;\n",
       "    }\n",
       "\n",
       "    .dataframe thead th {\n",
       "        text-align: right;\n",
       "    }\n",
       "</style>\n",
       "<table border=\"1\" class=\"dataframe\">\n",
       "  <thead>\n",
       "    <tr style=\"text-align: right;\">\n",
       "      <th></th>\n",
       "      <th>date</th>\n",
       "      <th>product</th>\n",
       "      <th>num_sold</th>\n",
       "    </tr>\n",
       "    <tr>\n",
       "      <th>typing.Literal[&lt;no_default&gt;]</th>\n",
       "      <th></th>\n",
       "      <th></th>\n",
       "      <th></th>\n",
       "    </tr>\n",
       "  </thead>\n",
       "  <tbody>\n",
       "    <tr>\n",
       "      <th>0</th>\n",
       "      <td>2010-01-01</td>\n",
       "      <td>Holographic Goose</td>\n",
       "      <td>4494.772635</td>\n",
       "    </tr>\n",
       "    <tr>\n",
       "      <th>1</th>\n",
       "      <td>2010-01-01</td>\n",
       "      <td>Kaggle</td>\n",
       "      <td>28225.000000</td>\n",
       "    </tr>\n",
       "    <tr>\n",
       "      <th>2</th>\n",
       "      <td>2010-01-01</td>\n",
       "      <td>Kaggle Tiers</td>\n",
       "      <td>24956.000000</td>\n",
       "    </tr>\n",
       "    <tr>\n",
       "      <th>3</th>\n",
       "      <td>2010-01-01</td>\n",
       "      <td>Kerneler</td>\n",
       "      <td>13060.000000</td>\n",
       "    </tr>\n",
       "    <tr>\n",
       "      <th>4</th>\n",
       "      <td>2010-01-01</td>\n",
       "      <td>Kerneler Dark Mode</td>\n",
       "      <td>14975.000000</td>\n",
       "    </tr>\n",
       "    <tr>\n",
       "      <th>...</th>\n",
       "      <td>...</td>\n",
       "      <td>...</td>\n",
       "      <td>...</td>\n",
       "    </tr>\n",
       "    <tr>\n",
       "      <th>12780</th>\n",
       "      <td>2016-12-31</td>\n",
       "      <td>Holographic Goose</td>\n",
       "      <td>4370.796217</td>\n",
       "    </tr>\n",
       "    <tr>\n",
       "      <th>12781</th>\n",
       "      <td>2016-12-31</td>\n",
       "      <td>Kaggle</td>\n",
       "      <td>27701.000000</td>\n",
       "    </tr>\n",
       "    <tr>\n",
       "      <th>12782</th>\n",
       "      <td>2016-12-31</td>\n",
       "      <td>Kaggle Tiers</td>\n",
       "      <td>22066.000000</td>\n",
       "    </tr>\n",
       "    <tr>\n",
       "      <th>12783</th>\n",
       "      <td>2016-12-31</td>\n",
       "      <td>Kerneler</td>\n",
       "      <td>12408.000000</td>\n",
       "    </tr>\n",
       "    <tr>\n",
       "      <th>12784</th>\n",
       "      <td>2016-12-31</td>\n",
       "      <td>Kerneler Dark Mode</td>\n",
       "      <td>15012.000000</td>\n",
       "    </tr>\n",
       "  </tbody>\n",
       "</table>\n",
       "<p>12785 rows × 3 columns</p>\n",
       "</div>"
      ],
      "text/plain": [
       "                                   date             product      num_sold\n",
       "typing.Literal[<no_default>]                                             \n",
       "0                            2010-01-01   Holographic Goose   4494.772635\n",
       "1                            2010-01-01              Kaggle  28225.000000\n",
       "2                            2010-01-01        Kaggle Tiers  24956.000000\n",
       "3                            2010-01-01            Kerneler  13060.000000\n",
       "4                            2010-01-01  Kerneler Dark Mode  14975.000000\n",
       "...                                 ...                 ...           ...\n",
       "12780                        2016-12-31   Holographic Goose   4370.796217\n",
       "12781                        2016-12-31              Kaggle  27701.000000\n",
       "12782                        2016-12-31        Kaggle Tiers  22066.000000\n",
       "12783                        2016-12-31            Kerneler  12408.000000\n",
       "12784                        2016-12-31  Kerneler Dark Mode  15012.000000\n",
       "\n",
       "[12785 rows x 3 columns]"
      ]
     },
     "execution_count": 47,
     "metadata": {},
     "output_type": "execute_result"
    }
   ],
   "source": [
    "product_df"
   ]
  },
  {
   "cell_type": "code",
   "execution_count": 12,
   "id": "b0219e7c",
   "metadata": {
    "execution": {
     "iopub.execute_input": "2025-01-05T21:11:44.199083Z",
     "iopub.status.busy": "2025-01-05T21:11:44.198671Z",
     "iopub.status.idle": "2025-01-05T21:11:44.642919Z",
     "shell.execute_reply": "2025-01-05T21:11:44.641867Z"
    },
    "papermill": {
     "duration": 0.454768,
     "end_time": "2025-01-05T21:11:44.644849",
     "exception": false,
     "start_time": "2025-01-05T21:11:44.190081",
     "status": "completed"
    },
    "tags": []
   },
   "outputs": [],
   "source": [
    "product_df = train_df_imputed.groupby([\"date\",\"product\"])[\"num_sold\"].sum().reset_index()\n",
    "product_ratio_df = product_df.pivot(index=\"date\", columns=\"product\", values=\"num_sold\")\n",
    "product_ratio_df = product_ratio_df.apply(lambda x: x/x.sum(),axis=1)\n",
    "product_ratio_df = product_ratio_df.stack().rename(\"ratios\").reset_index()\n",
    "\n",
    "\n",
    "product_ratio_2017_df = product_ratio_df.loc[product_ratio_df[\"date\"].dt.year == 2015].copy()\n",
    "product_ratio_2018_df = product_ratio_df.loc[product_ratio_df[\"date\"].dt.year == 2016].copy()\n",
    "product_ratio_2019_df = product_ratio_df.loc[product_ratio_df[\"date\"].dt.year == 2015].copy()\n",
    "\n",
    "product_ratio_2017_df[\"date\"] = product_ratio_2017_df[\"date\"] + pd.DateOffset(years=2)\n",
    "product_ratio_2018_df[\"date\"] = product_ratio_2018_df[\"date\"] + pd.DateOffset(years=2)\n",
    "product_ratio_2019_df[\"date\"] =  product_ratio_2019_df[\"date\"] + pd.DateOffset(years=4)\n",
    "\n",
    "forecasted_ratios_df = pd.concat([product_ratio_2017_df, product_ratio_2018_df, product_ratio_2019_df])\n",
    "\n"
   ]
  },
  {
   "cell_type": "code",
   "execution_count": 50,
   "id": "96e9a6ad",
   "metadata": {},
   "outputs": [
    {
     "ename": "NameError",
     "evalue": "name 'country_ratio' is not defined",
     "output_type": "error",
     "traceback": [
      "\u001b[1;31m---------------------------------------------------------------------------\u001b[0m",
      "\u001b[1;31mNameError\u001b[0m                                 Traceback (most recent call last)",
      "Cell \u001b[1;32mIn[50], line 1\u001b[0m\n\u001b[1;32m----> 1\u001b[0m \u001b[43mcountry_ratio\u001b[49m\n",
      "\u001b[1;31mNameError\u001b[0m: name 'country_ratio' is not defined"
     ]
    }
   ],
   "source": [
    "country_ratio"
   ]
  },
  {
   "cell_type": "code",
   "execution_count": 13,
   "id": "a20d44f9",
   "metadata": {},
   "outputs": [
    {
     "data": {
      "text/plain": [
       "store\n",
       "Discount Stickers       0.184716\n",
       "Premium Sticker Mart    0.441564\n",
       "Stickers for Less       0.373720\n",
       "Name: num_sold, dtype: float64"
      ]
     },
     "execution_count": 13,
     "metadata": {},
     "output_type": "execute_result"
    }
   ],
   "source": [
    "store_weights"
   ]
  },
  {
   "cell_type": "code",
   "execution_count": 48,
   "id": "2a53f9ca",
   "metadata": {},
   "outputs": [
    {
     "data": {
      "text/html": [
       "<div>\n",
       "<style scoped>\n",
       "    .dataframe tbody tr th:only-of-type {\n",
       "        vertical-align: middle;\n",
       "    }\n",
       "\n",
       "    .dataframe tbody tr th {\n",
       "        vertical-align: top;\n",
       "    }\n",
       "\n",
       "    .dataframe thead th {\n",
       "        text-align: right;\n",
       "    }\n",
       "</style>\n",
       "<table border=\"1\" class=\"dataframe\">\n",
       "  <thead>\n",
       "    <tr style=\"text-align: right;\">\n",
       "      <th></th>\n",
       "      <th>date</th>\n",
       "      <th>product</th>\n",
       "      <th>ratios</th>\n",
       "    </tr>\n",
       "  </thead>\n",
       "  <tbody>\n",
       "    <tr>\n",
       "      <th>0</th>\n",
       "      <td>2010-01-01</td>\n",
       "      <td>Holographic Goose</td>\n",
       "      <td>0.052441</td>\n",
       "    </tr>\n",
       "    <tr>\n",
       "      <th>1</th>\n",
       "      <td>2010-01-01</td>\n",
       "      <td>Kaggle</td>\n",
       "      <td>0.329305</td>\n",
       "    </tr>\n",
       "    <tr>\n",
       "      <th>2</th>\n",
       "      <td>2010-01-01</td>\n",
       "      <td>Kaggle Tiers</td>\n",
       "      <td>0.291165</td>\n",
       "    </tr>\n",
       "    <tr>\n",
       "      <th>3</th>\n",
       "      <td>2010-01-01</td>\n",
       "      <td>Kerneler</td>\n",
       "      <td>0.152373</td>\n",
       "    </tr>\n",
       "    <tr>\n",
       "      <th>4</th>\n",
       "      <td>2010-01-01</td>\n",
       "      <td>Kerneler Dark Mode</td>\n",
       "      <td>0.174715</td>\n",
       "    </tr>\n",
       "    <tr>\n",
       "      <th>...</th>\n",
       "      <td>...</td>\n",
       "      <td>...</td>\n",
       "      <td>...</td>\n",
       "    </tr>\n",
       "    <tr>\n",
       "      <th>12780</th>\n",
       "      <td>2016-12-31</td>\n",
       "      <td>Holographic Goose</td>\n",
       "      <td>0.053591</td>\n",
       "    </tr>\n",
       "    <tr>\n",
       "      <th>12781</th>\n",
       "      <td>2016-12-31</td>\n",
       "      <td>Kaggle</td>\n",
       "      <td>0.339649</td>\n",
       "    </tr>\n",
       "    <tr>\n",
       "      <th>12782</th>\n",
       "      <td>2016-12-31</td>\n",
       "      <td>Kaggle Tiers</td>\n",
       "      <td>0.270557</td>\n",
       "    </tr>\n",
       "    <tr>\n",
       "      <th>12783</th>\n",
       "      <td>2016-12-31</td>\n",
       "      <td>Kerneler</td>\n",
       "      <td>0.152138</td>\n",
       "    </tr>\n",
       "    <tr>\n",
       "      <th>12784</th>\n",
       "      <td>2016-12-31</td>\n",
       "      <td>Kerneler Dark Mode</td>\n",
       "      <td>0.184066</td>\n",
       "    </tr>\n",
       "  </tbody>\n",
       "</table>\n",
       "<p>12785 rows × 3 columns</p>\n",
       "</div>"
      ],
      "text/plain": [
       "            date             product    ratios\n",
       "0     2010-01-01   Holographic Goose  0.052441\n",
       "1     2010-01-01              Kaggle  0.329305\n",
       "2     2010-01-01        Kaggle Tiers  0.291165\n",
       "3     2010-01-01            Kerneler  0.152373\n",
       "4     2010-01-01  Kerneler Dark Mode  0.174715\n",
       "...          ...                 ...       ...\n",
       "12780 2016-12-31   Holographic Goose  0.053591\n",
       "12781 2016-12-31              Kaggle  0.339649\n",
       "12782 2016-12-31        Kaggle Tiers  0.270557\n",
       "12783 2016-12-31            Kerneler  0.152138\n",
       "12784 2016-12-31  Kerneler Dark Mode  0.184066\n",
       "\n",
       "[12785 rows x 3 columns]"
      ]
     },
     "execution_count": 48,
     "metadata": {},
     "output_type": "execute_result"
    }
   ],
   "source": [
    "product_ratio_df"
   ]
  },
  {
   "cell_type": "code",
   "execution_count": 15,
   "id": "da7457fc",
   "metadata": {},
   "outputs": [
    {
     "data": {
      "text/html": [
       "<div>\n",
       "<style scoped>\n",
       "    .dataframe tbody tr th:only-of-type {\n",
       "        vertical-align: middle;\n",
       "    }\n",
       "\n",
       "    .dataframe tbody tr th {\n",
       "        vertical-align: top;\n",
       "    }\n",
       "\n",
       "    .dataframe thead th {\n",
       "        text-align: right;\n",
       "    }\n",
       "</style>\n",
       "<table border=\"1\" class=\"dataframe\">\n",
       "  <thead>\n",
       "    <tr style=\"text-align: right;\">\n",
       "      <th></th>\n",
       "      <th>date</th>\n",
       "      <th>product</th>\n",
       "      <th>ratios</th>\n",
       "    </tr>\n",
       "  </thead>\n",
       "  <tbody>\n",
       "    <tr>\n",
       "      <th>9130</th>\n",
       "      <td>2017-01-01</td>\n",
       "      <td>Holographic Goose</td>\n",
       "      <td>0.053755</td>\n",
       "    </tr>\n",
       "    <tr>\n",
       "      <th>9131</th>\n",
       "      <td>2017-01-01</td>\n",
       "      <td>Kaggle</td>\n",
       "      <td>0.350044</td>\n",
       "    </tr>\n",
       "    <tr>\n",
       "      <th>9132</th>\n",
       "      <td>2017-01-01</td>\n",
       "      <td>Kaggle Tiers</td>\n",
       "      <td>0.263057</td>\n",
       "    </tr>\n",
       "    <tr>\n",
       "      <th>9133</th>\n",
       "      <td>2017-01-01</td>\n",
       "      <td>Kerneler</td>\n",
       "      <td>0.155640</td>\n",
       "    </tr>\n",
       "    <tr>\n",
       "      <th>9134</th>\n",
       "      <td>2017-01-01</td>\n",
       "      <td>Kerneler Dark Mode</td>\n",
       "      <td>0.177505</td>\n",
       "    </tr>\n",
       "    <tr>\n",
       "      <th>...</th>\n",
       "      <td>...</td>\n",
       "      <td>...</td>\n",
       "      <td>...</td>\n",
       "    </tr>\n",
       "    <tr>\n",
       "      <th>10953</th>\n",
       "      <td>2019-12-31</td>\n",
       "      <td>Kerneler</td>\n",
       "      <td>0.153052</td>\n",
       "    </tr>\n",
       "    <tr>\n",
       "      <th>10950</th>\n",
       "      <td>2019-12-31</td>\n",
       "      <td>Holographic Goose</td>\n",
       "      <td>0.050794</td>\n",
       "    </tr>\n",
       "    <tr>\n",
       "      <th>10951</th>\n",
       "      <td>2019-12-31</td>\n",
       "      <td>Kaggle</td>\n",
       "      <td>0.331864</td>\n",
       "    </tr>\n",
       "    <tr>\n",
       "      <th>10952</th>\n",
       "      <td>2019-12-31</td>\n",
       "      <td>Kaggle Tiers</td>\n",
       "      <td>0.290504</td>\n",
       "    </tr>\n",
       "    <tr>\n",
       "      <th>10954</th>\n",
       "      <td>2019-12-31</td>\n",
       "      <td>Kerneler Dark Mode</td>\n",
       "      <td>0.173786</td>\n",
       "    </tr>\n",
       "  </tbody>\n",
       "</table>\n",
       "<p>5480 rows × 3 columns</p>\n",
       "</div>"
      ],
      "text/plain": [
       "            date             product    ratios\n",
       "9130  2017-01-01   Holographic Goose  0.053755\n",
       "9131  2017-01-01              Kaggle  0.350044\n",
       "9132  2017-01-01        Kaggle Tiers  0.263057\n",
       "9133  2017-01-01            Kerneler  0.155640\n",
       "9134  2017-01-01  Kerneler Dark Mode  0.177505\n",
       "...          ...                 ...       ...\n",
       "10953 2019-12-31            Kerneler  0.153052\n",
       "10950 2019-12-31   Holographic Goose  0.050794\n",
       "10951 2019-12-31              Kaggle  0.331864\n",
       "10952 2019-12-31        Kaggle Tiers  0.290504\n",
       "10954 2019-12-31  Kerneler Dark Mode  0.173786\n",
       "\n",
       "[5480 rows x 3 columns]"
      ]
     },
     "execution_count": 15,
     "metadata": {},
     "output_type": "execute_result"
    }
   ],
   "source": [
    "forecasted_ratios_df.sort_values('date')"
   ]
  },
  {
   "cell_type": "code",
   "execution_count": 29,
   "id": "4a230cdc",
   "metadata": {},
   "outputs": [
    {
     "data": {
      "text/html": [
       "<div>\n",
       "<style scoped>\n",
       "    .dataframe tbody tr th:only-of-type {\n",
       "        vertical-align: middle;\n",
       "    }\n",
       "\n",
       "    .dataframe tbody tr th {\n",
       "        vertical-align: top;\n",
       "    }\n",
       "\n",
       "    .dataframe thead th {\n",
       "        text-align: right;\n",
       "    }\n",
       "</style>\n",
       "<table border=\"1\" class=\"dataframe\">\n",
       "  <thead>\n",
       "    <tr style=\"text-align: right;\">\n",
       "      <th></th>\n",
       "      <th>month</th>\n",
       "      <th>day</th>\n",
       "      <th>adjusted_num_sold</th>\n",
       "    </tr>\n",
       "  </thead>\n",
       "  <tbody>\n",
       "    <tr>\n",
       "      <th>0</th>\n",
       "      <td>1</td>\n",
       "      <td>1</td>\n",
       "      <td>79191.937980</td>\n",
       "    </tr>\n",
       "    <tr>\n",
       "      <th>1</th>\n",
       "      <td>1</td>\n",
       "      <td>2</td>\n",
       "      <td>73221.589546</td>\n",
       "    </tr>\n",
       "    <tr>\n",
       "      <th>2</th>\n",
       "      <td>1</td>\n",
       "      <td>3</td>\n",
       "      <td>71386.834673</td>\n",
       "    </tr>\n",
       "    <tr>\n",
       "      <th>3</th>\n",
       "      <td>1</td>\n",
       "      <td>4</td>\n",
       "      <td>70004.853657</td>\n",
       "    </tr>\n",
       "    <tr>\n",
       "      <th>4</th>\n",
       "      <td>1</td>\n",
       "      <td>5</td>\n",
       "      <td>70718.684490</td>\n",
       "    </tr>\n",
       "    <tr>\n",
       "      <th>...</th>\n",
       "      <td>...</td>\n",
       "      <td>...</td>\n",
       "      <td>...</td>\n",
       "    </tr>\n",
       "    <tr>\n",
       "      <th>361</th>\n",
       "      <td>12</td>\n",
       "      <td>27</td>\n",
       "      <td>75659.685788</td>\n",
       "    </tr>\n",
       "    <tr>\n",
       "      <th>362</th>\n",
       "      <td>12</td>\n",
       "      <td>28</td>\n",
       "      <td>82394.840169</td>\n",
       "    </tr>\n",
       "    <tr>\n",
       "      <th>363</th>\n",
       "      <td>12</td>\n",
       "      <td>29</td>\n",
       "      <td>87883.775483</td>\n",
       "    </tr>\n",
       "    <tr>\n",
       "      <th>364</th>\n",
       "      <td>12</td>\n",
       "      <td>30</td>\n",
       "      <td>88565.453618</td>\n",
       "    </tr>\n",
       "    <tr>\n",
       "      <th>365</th>\n",
       "      <td>12</td>\n",
       "      <td>31</td>\n",
       "      <td>84147.671809</td>\n",
       "    </tr>\n",
       "  </tbody>\n",
       "</table>\n",
       "<p>366 rows × 3 columns</p>\n",
       "</div>"
      ],
      "text/plain": [
       "     month  day  adjusted_num_sold\n",
       "0        1    1       79191.937980\n",
       "1        1    2       73221.589546\n",
       "2        1    3       71386.834673\n",
       "3        1    4       70004.853657\n",
       "4        1    5       70718.684490\n",
       "..     ...  ...                ...\n",
       "361     12   27       75659.685788\n",
       "362     12   28       82394.840169\n",
       "363     12   29       87883.775483\n",
       "364     12   30       88565.453618\n",
       "365     12   31       84147.671809\n",
       "\n",
       "[366 rows x 3 columns]"
      ]
     },
     "execution_count": 29,
     "metadata": {},
     "output_type": "execute_result"
    }
   ],
   "source": [
    "train_day_mean_df"
   ]
  },
  {
   "cell_type": "markdown",
   "id": "3dc54c7f",
   "metadata": {
    "papermill": {
     "duration": 0.007243,
     "end_time": "2025-01-05T21:11:44.659712",
     "exception": false,
     "start_time": "2025-01-05T21:11:44.652469",
     "status": "completed"
    },
    "tags": []
   },
   "source": [
    "## Aggregating Time Series"
   ]
  },
  {
   "cell_type": "markdown",
   "id": "df5811cd",
   "metadata": {
    "papermill": {
     "duration": 0.00766,
     "end_time": "2025-01-05T21:11:44.674841",
     "exception": false,
     "start_time": "2025-01-05T21:11:44.667181",
     "status": "completed"
    },
    "tags": []
   },
   "source": [
    "Making the aggregation over all countries, stores and products, obtaining the total sales each day as our new time series that we want to forecast."
   ]
  },
  {
   "cell_type": "code",
   "execution_count": 16,
   "id": "d39e8323",
   "metadata": {
    "execution": {
     "iopub.execute_input": "2025-01-05T21:11:44.691034Z",
     "iopub.status.busy": "2025-01-05T21:11:44.690625Z",
     "iopub.status.idle": "2025-01-05T21:11:44.724355Z",
     "shell.execute_reply": "2025-01-05T21:11:44.723373Z"
    },
    "papermill": {
     "duration": 0.044039,
     "end_time": "2025-01-05T21:11:44.726336",
     "exception": false,
     "start_time": "2025-01-05T21:11:44.682297",
     "status": "completed"
    },
    "tags": []
   },
   "outputs": [],
   "source": [
    "original_train_df_imputed = train_df_imputed.copy()\n",
    "train_df_imputed = train_df_imputed.groupby([\"date\"])[\"num_sold\"].sum().reset_index()"
   ]
  },
  {
   "cell_type": "markdown",
   "id": "cf21806b",
   "metadata": {
    "papermill": {
     "duration": 0.00735,
     "end_time": "2025-01-05T21:11:44.741519",
     "exception": false,
     "start_time": "2025-01-05T21:11:44.734169",
     "status": "completed"
    },
    "tags": []
   },
   "source": [
    "Lets have a look at the number of sales each day over time:"
   ]
  },
  {
   "cell_type": "code",
   "execution_count": null,
   "id": "e3990045",
   "metadata": {
    "execution": {
     "iopub.execute_input": "2025-01-05T21:11:44.758101Z",
     "iopub.status.busy": "2025-01-05T21:11:44.757692Z",
     "iopub.status.idle": "2025-01-05T21:11:45.620028Z",
     "shell.execute_reply": "2025-01-05T21:11:45.619017Z"
    },
    "papermill": {
     "duration": 0.87613,
     "end_time": "2025-01-05T21:11:45.625161",
     "exception": false,
     "start_time": "2025-01-05T21:11:44.749031",
     "status": "completed"
    },
    "tags": []
   },
   "outputs": [],
   "source": [
    "f,ax = plt.subplots(figsize=(20,9))\n",
    "sns.lineplot(data=train_df_imputed, x=\"date\", y=\"num_sold\", linewidth = 1);"
   ]
  },
  {
   "cell_type": "code",
   "execution_count": 17,
   "id": "caee5ca7",
   "metadata": {
    "execution": {
     "iopub.execute_input": "2025-01-05T21:11:45.651783Z",
     "iopub.status.busy": "2025-01-05T21:11:45.651380Z",
     "iopub.status.idle": "2025-01-05T21:11:45.660482Z",
     "shell.execute_reply": "2025-01-05T21:11:45.659436Z"
    },
    "papermill": {
     "duration": 0.024677,
     "end_time": "2025-01-05T21:11:45.662379",
     "exception": false,
     "start_time": "2025-01-05T21:11:45.637702",
     "status": "completed"
    },
    "tags": []
   },
   "outputs": [],
   "source": [
    "train_df_imputed[\"year\"] = train_df_imputed[\"date\"].dt.year\n",
    "train_df_imputed[\"month\"] = train_df_imputed[\"date\"].dt.month\n",
    "train_df_imputed[\"day\"] = train_df_imputed[\"date\"].dt.day\n",
    "train_df_imputed[\"day_of_week\"] = train_df_imputed[\"date\"].dt.dayofweek"
   ]
  },
  {
   "cell_type": "code",
   "execution_count": 18,
   "id": "bb45face",
   "metadata": {
    "execution": {
     "iopub.execute_input": "2025-01-05T21:11:45.689321Z",
     "iopub.status.busy": "2025-01-05T21:11:45.688930Z",
     "iopub.status.idle": "2025-01-05T21:11:45.702976Z",
     "shell.execute_reply": "2025-01-05T21:11:45.701775Z"
    },
    "papermill": {
     "duration": 0.029662,
     "end_time": "2025-01-05T21:11:45.704976",
     "exception": false,
     "start_time": "2025-01-05T21:11:45.675314",
     "status": "completed"
    },
    "tags": []
   },
   "outputs": [],
   "source": [
    "#get the dates to forecast for\n",
    "test_total_sales_df = test_df.groupby([\"date\"])[\"id\"].first().reset_index().drop(columns=\"id\")\n",
    "\n",
    "test_total_sales_df[\"month\"] = test_total_sales_df[\"date\"].dt.month\n",
    "test_total_sales_df[\"day\"] = test_total_sales_df[\"date\"].dt.day\n",
    "test_total_sales_df[\"day_of_week\"] = test_total_sales_df[\"date\"].dt.day_of_week"
   ]
  },
  {
   "cell_type": "markdown",
   "id": "3fba2c96",
   "metadata": {
    "papermill": {
     "duration": 0.012489,
     "end_time": "2025-01-05T21:11:45.730275",
     "exception": false,
     "start_time": "2025-01-05T21:11:45.717786",
     "status": "completed"
    },
    "tags": []
   },
   "source": [
    "Account for day of week in the forecast by removing its effect on the number of sales. For example Sataurday has more sales than other days, so we multipy it by a number less than 1, to try and take the variation caused by day of the week out.Thus standardising the number of sales by the day of week."
   ]
  },
  {
   "cell_type": "code",
   "execution_count": 20,
   "id": "9961ffe8",
   "metadata": {
    "execution": {
     "iopub.execute_input": "2025-01-05T21:11:45.757125Z",
     "iopub.status.busy": "2025-01-05T21:11:45.756715Z",
     "iopub.status.idle": "2025-01-05T21:11:45.777054Z",
     "shell.execute_reply": "2025-01-05T21:11:45.775825Z"
    },
    "papermill": {
     "duration": 0.036006,
     "end_time": "2025-01-05T21:11:45.779053",
     "exception": false,
     "start_time": "2025-01-05T21:11:45.743047",
     "status": "completed"
    },
    "tags": []
   },
   "outputs": [
    {
     "data": {
      "text/plain": [
       "day_of_week\n",
       "0    0.943221\n",
       "1    0.943352\n",
       "2    0.943859\n",
       "3    0.943747\n",
       "4    1.000503\n",
       "5    1.056331\n",
       "6    1.168988\n",
       "Name: day_of_week_ratios, dtype: float64"
      ]
     },
     "metadata": {},
     "output_type": "display_data"
    }
   ],
   "source": [
    "day_of_week_ratio = (train_df_imputed.groupby(\"day_of_week\")[\"num_sold\"].mean() / train_df_imputed.groupby(\"day_of_week\")[\"num_sold\"].mean().mean()).rename(\"day_of_week_ratios\")\n",
    "display(day_of_week_ratio)\n",
    "train_df_imputed = pd.merge(train_df_imputed, day_of_week_ratio, how=\"left\", on=\"day_of_week\")\n",
    "train_df_imputed[\"adjusted_num_sold\"] = train_df_imputed[\"num_sold\"] / train_df_imputed[\"day_of_week_ratios\"]"
   ]
  },
  {
   "cell_type": "markdown",
   "id": "1ce101d7",
   "metadata": {
    "papermill": {
     "duration": 0.012407,
     "end_time": "2025-01-05T21:11:45.804249",
     "exception": false,
     "start_time": "2025-01-05T21:11:45.791842",
     "status": "completed"
    },
    "tags": []
   },
   "source": [
    "Ignore this, its just to check we didn't make a mistake when standardising:"
   ]
  },
  {
   "cell_type": "code",
   "execution_count": 22,
   "id": "c9756174",
   "metadata": {
    "execution": {
     "iopub.execute_input": "2025-01-05T21:11:45.831160Z",
     "iopub.status.busy": "2025-01-05T21:11:45.830714Z",
     "iopub.status.idle": "2025-01-05T21:11:45.837681Z",
     "shell.execute_reply": "2025-01-05T21:11:45.836274Z"
    },
    "papermill": {
     "duration": 0.022479,
     "end_time": "2025-01-05T21:11:45.839409",
     "exception": false,
     "start_time": "2025-01-05T21:11:45.816930",
     "status": "completed"
    },
    "tags": []
   },
   "outputs": [
    {
     "name": "stdout",
     "output_type": "stream",
     "text": [
      "This number should be very small 0.000022\n"
     ]
    }
   ],
   "source": [
    "sanity_check = (train_df_imputed[\"num_sold\"].sum() - train_df_imputed[\"adjusted_num_sold\"].sum()) / train_df_imputed[\"num_sold\"].sum()\n",
    "print(f\"This number should be very small {sanity_check:.6f}\")"
   ]
  },
  {
   "cell_type": "markdown",
   "id": "ed4865f5",
   "metadata": {
    "papermill": {
     "duration": 0.012707,
     "end_time": "2025-01-05T21:11:45.865298",
     "exception": false,
     "start_time": "2025-01-05T21:11:45.852591",
     "status": "completed"
    },
    "tags": []
   },
   "source": [
    "## Making the forecast"
   ]
  },
  {
   "cell_type": "markdown",
   "id": "408ce8c9",
   "metadata": {
    "papermill": {
     "duration": 0.012465,
     "end_time": "2025-01-05T21:11:45.890797",
     "exception": false,
     "start_time": "2025-01-05T21:11:45.878332",
     "status": "completed"
    },
    "tags": []
   },
   "source": [
    "We make the forecast by taking the mean number of sales for that day of the year over the past x years. it's probably a good idea to use the full data, but if any trends exist over time it might be best to only use the past few years. Feel free to experiment with this value."
   ]
  },
  {
   "cell_type": "code",
   "execution_count": 23,
   "id": "0692a9b6",
   "metadata": {
    "execution": {
     "iopub.execute_input": "2025-01-05T21:11:45.917620Z",
     "iopub.status.busy": "2025-01-05T21:11:45.917238Z",
     "iopub.status.idle": "2025-01-05T21:11:45.927623Z",
     "shell.execute_reply": "2025-01-05T21:11:45.926675Z"
    },
    "papermill": {
     "duration": 0.025999,
     "end_time": "2025-01-05T21:11:45.929462",
     "exception": false,
     "start_time": "2025-01-05T21:11:45.903463",
     "status": "completed"
    },
    "tags": []
   },
   "outputs": [],
   "source": [
    "train_last_x_years_df = train_df_imputed.loc[train_df_imputed[\"year\"] >= 2010]\n",
    "train_day_mean_df = train_last_x_years_df.groupby([\"month\", \"day\"])[\"adjusted_num_sold\"].mean().reset_index()"
   ]
  },
  {
   "cell_type": "code",
   "execution_count": 43,
   "id": "f640cd2b",
   "metadata": {},
   "outputs": [],
   "source": [
    "(pd.DataFrame(day_of_week_ratio).reset_index()).to_csv('./dataup/f_dofw_ration.csv', index = None)"
   ]
  },
  {
   "cell_type": "code",
   "execution_count": 44,
   "id": "ddaa4207",
   "metadata": {},
   "outputs": [],
   "source": [
    "train_day_mean_df.to_csv('./dataup/f_m_d_mean_ttl_sold.csv', index = None)"
   ]
  },
  {
   "cell_type": "code",
   "execution_count": 39,
   "id": "3aca7003",
   "metadata": {},
   "outputs": [
    {
     "data": {
      "text/html": [
       "<div>\n",
       "<style scoped>\n",
       "    .dataframe tbody tr th:only-of-type {\n",
       "        vertical-align: middle;\n",
       "    }\n",
       "\n",
       "    .dataframe tbody tr th {\n",
       "        vertical-align: top;\n",
       "    }\n",
       "\n",
       "    .dataframe thead th {\n",
       "        text-align: right;\n",
       "    }\n",
       "</style>\n",
       "<table border=\"1\" class=\"dataframe\">\n",
       "  <thead>\n",
       "    <tr style=\"text-align: right;\">\n",
       "      <th></th>\n",
       "      <th>date</th>\n",
       "      <th>month</th>\n",
       "      <th>day</th>\n",
       "      <th>day_of_week</th>\n",
       "      <th>adjusted_num_sold</th>\n",
       "      <th>day_of_week_ratios</th>\n",
       "      <th>num_sold</th>\n",
       "    </tr>\n",
       "  </thead>\n",
       "  <tbody>\n",
       "    <tr>\n",
       "      <th>0</th>\n",
       "      <td>2017-01-01</td>\n",
       "      <td>1</td>\n",
       "      <td>1</td>\n",
       "      <td>6</td>\n",
       "      <td>79191.937980</td>\n",
       "      <td>1.168988</td>\n",
       "      <td>92574.406016</td>\n",
       "    </tr>\n",
       "    <tr>\n",
       "      <th>1</th>\n",
       "      <td>2017-01-02</td>\n",
       "      <td>1</td>\n",
       "      <td>2</td>\n",
       "      <td>0</td>\n",
       "      <td>73221.589546</td>\n",
       "      <td>0.943221</td>\n",
       "      <td>69064.122964</td>\n",
       "    </tr>\n",
       "    <tr>\n",
       "      <th>2</th>\n",
       "      <td>2017-01-03</td>\n",
       "      <td>1</td>\n",
       "      <td>3</td>\n",
       "      <td>1</td>\n",
       "      <td>71386.834673</td>\n",
       "      <td>0.943352</td>\n",
       "      <td>67342.911709</td>\n",
       "    </tr>\n",
       "    <tr>\n",
       "      <th>3</th>\n",
       "      <td>2017-01-04</td>\n",
       "      <td>1</td>\n",
       "      <td>4</td>\n",
       "      <td>2</td>\n",
       "      <td>70004.853657</td>\n",
       "      <td>0.943859</td>\n",
       "      <td>66074.692736</td>\n",
       "    </tr>\n",
       "    <tr>\n",
       "      <th>4</th>\n",
       "      <td>2017-01-05</td>\n",
       "      <td>1</td>\n",
       "      <td>5</td>\n",
       "      <td>3</td>\n",
       "      <td>70718.684490</td>\n",
       "      <td>0.943747</td>\n",
       "      <td>66740.530270</td>\n",
       "    </tr>\n",
       "    <tr>\n",
       "      <th>...</th>\n",
       "      <td>...</td>\n",
       "      <td>...</td>\n",
       "      <td>...</td>\n",
       "      <td>...</td>\n",
       "      <td>...</td>\n",
       "      <td>...</td>\n",
       "      <td>...</td>\n",
       "    </tr>\n",
       "    <tr>\n",
       "      <th>1090</th>\n",
       "      <td>2019-12-27</td>\n",
       "      <td>12</td>\n",
       "      <td>27</td>\n",
       "      <td>4</td>\n",
       "      <td>75659.685788</td>\n",
       "      <td>1.000503</td>\n",
       "      <td>75697.713685</td>\n",
       "    </tr>\n",
       "    <tr>\n",
       "      <th>1091</th>\n",
       "      <td>2019-12-28</td>\n",
       "      <td>12</td>\n",
       "      <td>28</td>\n",
       "      <td>5</td>\n",
       "      <td>82394.840169</td>\n",
       "      <td>1.056331</td>\n",
       "      <td>87036.255369</td>\n",
       "    </tr>\n",
       "    <tr>\n",
       "      <th>1092</th>\n",
       "      <td>2019-12-29</td>\n",
       "      <td>12</td>\n",
       "      <td>29</td>\n",
       "      <td>6</td>\n",
       "      <td>87883.775483</td>\n",
       "      <td>1.168988</td>\n",
       "      <td>102735.057650</td>\n",
       "    </tr>\n",
       "    <tr>\n",
       "      <th>1093</th>\n",
       "      <td>2019-12-30</td>\n",
       "      <td>12</td>\n",
       "      <td>30</td>\n",
       "      <td>0</td>\n",
       "      <td>88565.453618</td>\n",
       "      <td>0.943221</td>\n",
       "      <td>83536.774017</td>\n",
       "    </tr>\n",
       "    <tr>\n",
       "      <th>1094</th>\n",
       "      <td>2019-12-31</td>\n",
       "      <td>12</td>\n",
       "      <td>31</td>\n",
       "      <td>1</td>\n",
       "      <td>84147.671809</td>\n",
       "      <td>0.943352</td>\n",
       "      <td>79380.872665</td>\n",
       "    </tr>\n",
       "  </tbody>\n",
       "</table>\n",
       "<p>1095 rows × 7 columns</p>\n",
       "</div>"
      ],
      "text/plain": [
       "           date  month  day  day_of_week  adjusted_num_sold   \n",
       "0    2017-01-01      1    1            6       79191.937980  \\\n",
       "1    2017-01-02      1    2            0       73221.589546   \n",
       "2    2017-01-03      1    3            1       71386.834673   \n",
       "3    2017-01-04      1    4            2       70004.853657   \n",
       "4    2017-01-05      1    5            3       70718.684490   \n",
       "...         ...    ...  ...          ...                ...   \n",
       "1090 2019-12-27     12   27            4       75659.685788   \n",
       "1091 2019-12-28     12   28            5       82394.840169   \n",
       "1092 2019-12-29     12   29            6       87883.775483   \n",
       "1093 2019-12-30     12   30            0       88565.453618   \n",
       "1094 2019-12-31     12   31            1       84147.671809   \n",
       "\n",
       "      day_of_week_ratios       num_sold  \n",
       "0               1.168988   92574.406016  \n",
       "1               0.943221   69064.122964  \n",
       "2               0.943352   67342.911709  \n",
       "3               0.943859   66074.692736  \n",
       "4               0.943747   66740.530270  \n",
       "...                  ...            ...  \n",
       "1090            1.000503   75697.713685  \n",
       "1091            1.056331   87036.255369  \n",
       "1092            1.168988  102735.057650  \n",
       "1093            0.943221   83536.774017  \n",
       "1094            0.943352   79380.872665  \n",
       "\n",
       "[1095 rows x 7 columns]"
      ]
     },
     "execution_count": 39,
     "metadata": {},
     "output_type": "execute_result"
    }
   ],
   "source": [
    "test_total_sales_df\n"
   ]
  },
  {
   "cell_type": "code",
   "execution_count": 25,
   "id": "ff8d9997",
   "metadata": {
    "execution": {
     "iopub.execute_input": "2025-01-05T21:11:45.956576Z",
     "iopub.status.busy": "2025-01-05T21:11:45.956183Z",
     "iopub.status.idle": "2025-01-05T21:11:45.969287Z",
     "shell.execute_reply": "2025-01-05T21:11:45.968200Z"
    },
    "papermill": {
     "duration": 0.028993,
     "end_time": "2025-01-05T21:11:45.971249",
     "exception": false,
     "start_time": "2025-01-05T21:11:45.942256",
     "status": "completed"
    },
    "tags": []
   },
   "outputs": [],
   "source": [
    "test_total_sales_df = pd.merge(test_total_sales_df, train_day_mean_df, how=\"left\", on=[\"month\", \"day\"])\n",
    "# Applying the day of week ratios back, thus increasing the number of sales if its a Sataurday for example\n",
    "test_total_sales_df = pd.merge(test_total_sales_df, day_of_week_ratio.reset_index(), how=\"left\", on=\"day_of_week\")\n",
    "test_total_sales_df[\"num_sold\"] = test_total_sales_df[\"adjusted_num_sold\"] * test_total_sales_df[\"day_of_week_ratios\"]"
   ]
  },
  {
   "cell_type": "markdown",
   "id": "dffc521b",
   "metadata": {
    "papermill": {
     "duration": 0.012578,
     "end_time": "2025-01-05T21:11:45.996686",
     "exception": false,
     "start_time": "2025-01-05T21:11:45.984108",
     "status": "completed"
    },
    "tags": []
   },
   "source": [
    "Lets take a look at our forecast:"
   ]
  },
  {
   "cell_type": "code",
   "execution_count": 28,
   "id": "468c947e",
   "metadata": {
    "execution": {
     "iopub.execute_input": "2025-01-05T21:11:46.024528Z",
     "iopub.status.busy": "2025-01-05T21:11:46.024151Z",
     "iopub.status.idle": "2025-01-05T21:11:46.926753Z",
     "shell.execute_reply": "2025-01-05T21:11:46.925576Z"
    },
    "papermill": {
     "duration": 0.922871,
     "end_time": "2025-01-05T21:11:46.932533",
     "exception": false,
     "start_time": "2025-01-05T21:11:46.009662",
     "status": "completed"
    },
    "tags": []
   },
   "outputs": [],
   "source": [
    "# f,ax = plt.subplots(figsize=(20,10))\n",
    "# sns.lineplot(data = pd.concat([train_df_imputed,test_total_sales_df]).reset_index(drop=True), x=\"date\", y=\"num_sold\", linewidth=0.6);\n",
    "# ax.axvline(pd.to_datetime(\"2017-01-01\"), color='black', linestyle='--')"
   ]
  },
  {
   "cell_type": "markdown",
   "id": "079aef5e",
   "metadata": {
    "papermill": {
     "duration": 0.018767,
     "end_time": "2025-01-05T21:11:46.970620",
     "exception": false,
     "start_time": "2025-01-05T21:11:46.951853",
     "status": "completed"
    },
    "tags": []
   },
   "source": [
    "## Disaggregating Total Sales Forecast"
   ]
  },
  {
   "cell_type": "markdown",
   "id": "fdbe8d6b",
   "metadata": {
    "papermill": {
     "duration": 0.019197,
     "end_time": "2025-01-05T21:11:47.008681",
     "exception": false,
     "start_time": "2025-01-05T21:11:46.989484",
     "status": "completed"
    },
    "tags": []
   },
   "source": [
    "We need to divide the total sales forecast for each day between the categorical variables so we get the forecast for each day, country, product and store."
   ]
  },
  {
   "cell_type": "code",
   "execution_count": 79,
   "id": "9aca30b0",
   "metadata": {},
   "outputs": [
    {
     "data": {
      "text/html": [
       "<div>\n",
       "<style scoped>\n",
       "    .dataframe tbody tr th:only-of-type {\n",
       "        vertical-align: middle;\n",
       "    }\n",
       "\n",
       "    .dataframe tbody tr th {\n",
       "        vertical-align: top;\n",
       "    }\n",
       "\n",
       "    .dataframe thead th {\n",
       "        text-align: right;\n",
       "    }\n",
       "</style>\n",
       "<table border=\"1\" class=\"dataframe\">\n",
       "  <thead>\n",
       "    <tr style=\"text-align: right;\">\n",
       "      <th></th>\n",
       "      <th>year</th>\n",
       "      <th>country</th>\n",
       "      <th>ratio</th>\n",
       "    </tr>\n",
       "  </thead>\n",
       "  <tbody>\n",
       "    <tr>\n",
       "      <th>0</th>\n",
       "      <td>2010</td>\n",
       "      <td>Canada</td>\n",
       "      <td>0.178782</td>\n",
       "    </tr>\n",
       "    <tr>\n",
       "      <th>1</th>\n",
       "      <td>2010</td>\n",
       "      <td>Finland</td>\n",
       "      <td>0.174639</td>\n",
       "    </tr>\n",
       "    <tr>\n",
       "      <th>2</th>\n",
       "      <td>2010</td>\n",
       "      <td>Italy</td>\n",
       "      <td>0.135323</td>\n",
       "    </tr>\n",
       "    <tr>\n",
       "      <th>3</th>\n",
       "      <td>2010</td>\n",
       "      <td>Kenya</td>\n",
       "      <td>0.004061</td>\n",
       "    </tr>\n",
       "    <tr>\n",
       "      <th>4</th>\n",
       "      <td>2010</td>\n",
       "      <td>Norway</td>\n",
       "      <td>0.329634</td>\n",
       "    </tr>\n",
       "    <tr>\n",
       "      <th>...</th>\n",
       "      <td>...</td>\n",
       "      <td>...</td>\n",
       "      <td>...</td>\n",
       "    </tr>\n",
       "    <tr>\n",
       "      <th>61</th>\n",
       "      <td>2020</td>\n",
       "      <td>Finland</td>\n",
       "      <td>0.192851</td>\n",
       "    </tr>\n",
       "    <tr>\n",
       "      <th>62</th>\n",
       "      <td>2020</td>\n",
       "      <td>Italy</td>\n",
       "      <td>0.125472</td>\n",
       "    </tr>\n",
       "    <tr>\n",
       "      <th>63</th>\n",
       "      <td>2020</td>\n",
       "      <td>Kenya</td>\n",
       "      <td>0.007432</td>\n",
       "    </tr>\n",
       "    <tr>\n",
       "      <th>64</th>\n",
       "      <td>2020</td>\n",
       "      <td>Norway</td>\n",
       "      <td>0.266378</td>\n",
       "    </tr>\n",
       "    <tr>\n",
       "      <th>65</th>\n",
       "      <td>2020</td>\n",
       "      <td>Singapore</td>\n",
       "      <td>0.236579</td>\n",
       "    </tr>\n",
       "  </tbody>\n",
       "</table>\n",
       "<p>66 rows × 3 columns</p>\n",
       "</div>"
      ],
      "text/plain": [
       "    year    country     ratio\n",
       "0   2010     Canada  0.178782\n",
       "1   2010    Finland  0.174639\n",
       "2   2010      Italy  0.135323\n",
       "3   2010      Kenya  0.004061\n",
       "4   2010     Norway  0.329634\n",
       "..   ...        ...       ...\n",
       "61  2020    Finland  0.192851\n",
       "62  2020      Italy  0.125472\n",
       "63  2020      Kenya  0.007432\n",
       "64  2020     Norway  0.266378\n",
       "65  2020  Singapore  0.236579\n",
       "\n",
       "[66 rows x 3 columns]"
      ]
     },
     "execution_count": 79,
     "metadata": {},
     "output_type": "execute_result"
    }
   ],
   "source": [
    "gdp_per_capita_filtered_ratios_df"
   ]
  },
  {
   "cell_type": "code",
   "execution_count": 64,
   "id": "d6f5be7d",
   "metadata": {},
   "outputs": [],
   "source": [
    "gdp_per_capita_filtered_ratios_df.to_csv(\"./dataup/f_gdp_per_capita.csv\", index = None)"
   ]
  },
  {
   "cell_type": "code",
   "execution_count": 80,
   "id": "9a16f450",
   "metadata": {},
   "outputs": [
    {
     "data": {
      "text/html": [
       "<div>\n",
       "<style scoped>\n",
       "    .dataframe tbody tr th:only-of-type {\n",
       "        vertical-align: middle;\n",
       "    }\n",
       "\n",
       "    .dataframe tbody tr th {\n",
       "        vertical-align: top;\n",
       "    }\n",
       "\n",
       "    .dataframe thead th {\n",
       "        text-align: right;\n",
       "    }\n",
       "</style>\n",
       "<table border=\"1\" class=\"dataframe\">\n",
       "  <thead>\n",
       "    <tr style=\"text-align: right;\">\n",
       "      <th></th>\n",
       "      <th>date</th>\n",
       "      <th>product</th>\n",
       "      <th>ratios</th>\n",
       "    </tr>\n",
       "  </thead>\n",
       "  <tbody>\n",
       "    <tr>\n",
       "      <th>0</th>\n",
       "      <td>2010-01-01</td>\n",
       "      <td>Holographic Goose</td>\n",
       "      <td>0.052441</td>\n",
       "    </tr>\n",
       "    <tr>\n",
       "      <th>1</th>\n",
       "      <td>2010-01-01</td>\n",
       "      <td>Kaggle</td>\n",
       "      <td>0.329305</td>\n",
       "    </tr>\n",
       "    <tr>\n",
       "      <th>2</th>\n",
       "      <td>2010-01-01</td>\n",
       "      <td>Kaggle Tiers</td>\n",
       "      <td>0.291165</td>\n",
       "    </tr>\n",
       "    <tr>\n",
       "      <th>3</th>\n",
       "      <td>2010-01-01</td>\n",
       "      <td>Kerneler</td>\n",
       "      <td>0.152373</td>\n",
       "    </tr>\n",
       "    <tr>\n",
       "      <th>4</th>\n",
       "      <td>2010-01-01</td>\n",
       "      <td>Kerneler Dark Mode</td>\n",
       "      <td>0.174715</td>\n",
       "    </tr>\n",
       "    <tr>\n",
       "      <th>...</th>\n",
       "      <td>...</td>\n",
       "      <td>...</td>\n",
       "      <td>...</td>\n",
       "    </tr>\n",
       "    <tr>\n",
       "      <th>12780</th>\n",
       "      <td>2016-12-31</td>\n",
       "      <td>Holographic Goose</td>\n",
       "      <td>0.053591</td>\n",
       "    </tr>\n",
       "    <tr>\n",
       "      <th>12781</th>\n",
       "      <td>2016-12-31</td>\n",
       "      <td>Kaggle</td>\n",
       "      <td>0.339649</td>\n",
       "    </tr>\n",
       "    <tr>\n",
       "      <th>12782</th>\n",
       "      <td>2016-12-31</td>\n",
       "      <td>Kaggle Tiers</td>\n",
       "      <td>0.270557</td>\n",
       "    </tr>\n",
       "    <tr>\n",
       "      <th>12783</th>\n",
       "      <td>2016-12-31</td>\n",
       "      <td>Kerneler</td>\n",
       "      <td>0.152138</td>\n",
       "    </tr>\n",
       "    <tr>\n",
       "      <th>12784</th>\n",
       "      <td>2016-12-31</td>\n",
       "      <td>Kerneler Dark Mode</td>\n",
       "      <td>0.184066</td>\n",
       "    </tr>\n",
       "  </tbody>\n",
       "</table>\n",
       "<p>12785 rows × 3 columns</p>\n",
       "</div>"
      ],
      "text/plain": [
       "            date             product    ratios\n",
       "0     2010-01-01   Holographic Goose  0.052441\n",
       "1     2010-01-01              Kaggle  0.329305\n",
       "2     2010-01-01        Kaggle Tiers  0.291165\n",
       "3     2010-01-01            Kerneler  0.152373\n",
       "4     2010-01-01  Kerneler Dark Mode  0.174715\n",
       "...          ...                 ...       ...\n",
       "12780 2016-12-31   Holographic Goose  0.053591\n",
       "12781 2016-12-31              Kaggle  0.339649\n",
       "12782 2016-12-31        Kaggle Tiers  0.270557\n",
       "12783 2016-12-31            Kerneler  0.152138\n",
       "12784 2016-12-31  Kerneler Dark Mode  0.184066\n",
       "\n",
       "[12785 rows x 3 columns]"
      ]
     },
     "execution_count": 80,
     "metadata": {},
     "output_type": "execute_result"
    }
   ],
   "source": [
    "product_ratio_df#.to_csv('./dataup/f_product_ration.csv', index = None)"
   ]
  },
  {
   "cell_type": "code",
   "execution_count": 87,
   "id": "48cec93a",
   "metadata": {},
   "outputs": [],
   "source": [
    "pd.DataFrame(store_weights).reset_index().to_csv('./dataup/f_store_ration.csv', index = None)"
   ]
  },
  {
   "cell_type": "code",
   "execution_count": 73,
   "id": "4642dc09",
   "metadata": {},
   "outputs": [],
   "source": [
    "\n",
    "jkt = train_df_imputed.merge(train_day_mean_df, on = [\"month\",\"day\"], suffixes=['day_num_sold', '']).rename({\"adjusted_num_soldday_num_sold\": 'day_num_sold'}, axis = 1)#.to_csv('./dataup/f_cals.csv', index = None)"
   ]
  },
  {
   "cell_type": "code",
   "execution_count": 78,
   "id": "7680ab0c",
   "metadata": {},
   "outputs": [
    {
     "data": {
      "text/html": [
       "<div>\n",
       "<style scoped>\n",
       "    .dataframe tbody tr th:only-of-type {\n",
       "        vertical-align: middle;\n",
       "    }\n",
       "\n",
       "    .dataframe tbody tr th {\n",
       "        vertical-align: top;\n",
       "    }\n",
       "\n",
       "    .dataframe thead th {\n",
       "        text-align: right;\n",
       "    }\n",
       "</style>\n",
       "<table border=\"1\" class=\"dataframe\">\n",
       "  <thead>\n",
       "    <tr style=\"text-align: right;\">\n",
       "      <th></th>\n",
       "      <th>date</th>\n",
       "      <th>num_sold</th>\n",
       "      <th>year</th>\n",
       "      <th>month</th>\n",
       "      <th>day</th>\n",
       "      <th>day_of_week</th>\n",
       "      <th>day_of_week_ratios</th>\n",
       "      <th>day_num_sold</th>\n",
       "      <th>adjusted_num_sold</th>\n",
       "    </tr>\n",
       "  </thead>\n",
       "  <tbody>\n",
       "    <tr>\n",
       "      <th>0</th>\n",
       "      <td>2010-01-01</td>\n",
       "      <td>85710.772635</td>\n",
       "      <td>2010</td>\n",
       "      <td>1</td>\n",
       "      <td>1</td>\n",
       "      <td>4</td>\n",
       "      <td>1.000503</td>\n",
       "      <td>85667.714526</td>\n",
       "      <td>79191.937980</td>\n",
       "    </tr>\n",
       "    <tr>\n",
       "      <th>1</th>\n",
       "      <td>2011-01-01</td>\n",
       "      <td>88121.613906</td>\n",
       "      <td>2011</td>\n",
       "      <td>1</td>\n",
       "      <td>1</td>\n",
       "      <td>5</td>\n",
       "      <td>1.056331</td>\n",
       "      <td>83422.319382</td>\n",
       "      <td>79191.937980</td>\n",
       "    </tr>\n",
       "    <tr>\n",
       "      <th>2</th>\n",
       "      <td>2012-01-01</td>\n",
       "      <td>99142.332669</td>\n",
       "      <td>2012</td>\n",
       "      <td>1</td>\n",
       "      <td>1</td>\n",
       "      <td>6</td>\n",
       "      <td>1.168988</td>\n",
       "      <td>84810.411407</td>\n",
       "      <td>79191.937980</td>\n",
       "    </tr>\n",
       "    <tr>\n",
       "      <th>3</th>\n",
       "      <td>2013-01-01</td>\n",
       "      <td>74991.498503</td>\n",
       "      <td>2013</td>\n",
       "      <td>1</td>\n",
       "      <td>1</td>\n",
       "      <td>1</td>\n",
       "      <td>0.943352</td>\n",
       "      <td>79494.716960</td>\n",
       "      <td>79191.937980</td>\n",
       "    </tr>\n",
       "    <tr>\n",
       "      <th>4</th>\n",
       "      <td>2014-01-01</td>\n",
       "      <td>77394.853799</td>\n",
       "      <td>2014</td>\n",
       "      <td>1</td>\n",
       "      <td>1</td>\n",
       "      <td>2</td>\n",
       "      <td>0.943859</td>\n",
       "      <td>81998.344444</td>\n",
       "      <td>79191.937980</td>\n",
       "    </tr>\n",
       "    <tr>\n",
       "      <th>...</th>\n",
       "      <td>...</td>\n",
       "      <td>...</td>\n",
       "      <td>...</td>\n",
       "      <td>...</td>\n",
       "      <td>...</td>\n",
       "      <td>...</td>\n",
       "      <td>...</td>\n",
       "      <td>...</td>\n",
       "      <td>...</td>\n",
       "    </tr>\n",
       "    <tr>\n",
       "      <th>2552</th>\n",
       "      <td>2014-12-31</td>\n",
       "      <td>81037.360978</td>\n",
       "      <td>2014</td>\n",
       "      <td>12</td>\n",
       "      <td>31</td>\n",
       "      <td>2</td>\n",
       "      <td>0.943859</td>\n",
       "      <td>85857.510056</td>\n",
       "      <td>84147.671809</td>\n",
       "    </tr>\n",
       "    <tr>\n",
       "      <th>2553</th>\n",
       "      <td>2015-12-31</td>\n",
       "      <td>72825.051488</td>\n",
       "      <td>2015</td>\n",
       "      <td>12</td>\n",
       "      <td>31</td>\n",
       "      <td>3</td>\n",
       "      <td>0.943747</td>\n",
       "      <td>77165.881336</td>\n",
       "      <td>84147.671809</td>\n",
       "    </tr>\n",
       "    <tr>\n",
       "      <th>2554</th>\n",
       "      <td>2016-12-31</td>\n",
       "      <td>81557.796217</td>\n",
       "      <td>2016</td>\n",
       "      <td>12</td>\n",
       "      <td>31</td>\n",
       "      <td>5</td>\n",
       "      <td>1.056331</td>\n",
       "      <td>77208.532874</td>\n",
       "      <td>84147.671809</td>\n",
       "    </tr>\n",
       "    <tr>\n",
       "      <th>2555</th>\n",
       "      <td>2012-02-29</td>\n",
       "      <td>65975.305429</td>\n",
       "      <td>2012</td>\n",
       "      <td>2</td>\n",
       "      <td>29</td>\n",
       "      <td>2</td>\n",
       "      <td>0.943859</td>\n",
       "      <td>69899.554735</td>\n",
       "      <td>64373.529668</td>\n",
       "    </tr>\n",
       "    <tr>\n",
       "      <th>2556</th>\n",
       "      <td>2016-02-29</td>\n",
       "      <td>55506.187711</td>\n",
       "      <td>2016</td>\n",
       "      <td>2</td>\n",
       "      <td>29</td>\n",
       "      <td>0</td>\n",
       "      <td>0.943221</td>\n",
       "      <td>58847.504601</td>\n",
       "      <td>64373.529668</td>\n",
       "    </tr>\n",
       "  </tbody>\n",
       "</table>\n",
       "<p>2557 rows × 9 columns</p>\n",
       "</div>"
      ],
      "text/plain": [
       "           date      num_sold  year  month  day  day_of_week   \n",
       "0    2010-01-01  85710.772635  2010      1    1            4  \\\n",
       "1    2011-01-01  88121.613906  2011      1    1            5   \n",
       "2    2012-01-01  99142.332669  2012      1    1            6   \n",
       "3    2013-01-01  74991.498503  2013      1    1            1   \n",
       "4    2014-01-01  77394.853799  2014      1    1            2   \n",
       "...         ...           ...   ...    ...  ...          ...   \n",
       "2552 2014-12-31  81037.360978  2014     12   31            2   \n",
       "2553 2015-12-31  72825.051488  2015     12   31            3   \n",
       "2554 2016-12-31  81557.796217  2016     12   31            5   \n",
       "2555 2012-02-29  65975.305429  2012      2   29            2   \n",
       "2556 2016-02-29  55506.187711  2016      2   29            0   \n",
       "\n",
       "      day_of_week_ratios  day_num_sold  adjusted_num_sold  \n",
       "0               1.000503  85667.714526       79191.937980  \n",
       "1               1.056331  83422.319382       79191.937980  \n",
       "2               1.168988  84810.411407       79191.937980  \n",
       "3               0.943352  79494.716960       79191.937980  \n",
       "4               0.943859  81998.344444       79191.937980  \n",
       "...                  ...           ...                ...  \n",
       "2552            0.943859  85857.510056       84147.671809  \n",
       "2553            0.943747  77165.881336       84147.671809  \n",
       "2554            1.056331  77208.532874       84147.671809  \n",
       "2555            0.943859  69899.554735       64373.529668  \n",
       "2556            0.943221  58847.504601       64373.529668  \n",
       "\n",
       "[2557 rows x 9 columns]"
      ]
     },
     "execution_count": 78,
     "metadata": {},
     "output_type": "execute_result"
    }
   ],
   "source": [
    "jkt"
   ]
  },
  {
   "cell_type": "code",
   "execution_count": 77,
   "id": "1ab275ac",
   "metadata": {},
   "outputs": [
    {
     "data": {
      "text/plain": [
       "92574.42519536424"
      ]
     },
     "execution_count": 77,
     "metadata": {},
     "output_type": "execute_result"
    }
   ],
   "source": [
    "79191.93798* 1.168988"
   ]
  },
  {
   "cell_type": "code",
   "execution_count": 53,
   "id": "a7d61ed9",
   "metadata": {},
   "outputs": [
    {
     "data": {
      "text/html": [
       "<div>\n",
       "<style scoped>\n",
       "    .dataframe tbody tr th:only-of-type {\n",
       "        vertical-align: middle;\n",
       "    }\n",
       "\n",
       "    .dataframe tbody tr th {\n",
       "        vertical-align: top;\n",
       "    }\n",
       "\n",
       "    .dataframe thead th {\n",
       "        text-align: right;\n",
       "    }\n",
       "</style>\n",
       "<table border=\"1\" class=\"dataframe\">\n",
       "  <thead>\n",
       "    <tr style=\"text-align: right;\">\n",
       "      <th></th>\n",
       "      <th>date</th>\n",
       "      <th>product</th>\n",
       "      <th>ratios</th>\n",
       "    </tr>\n",
       "  </thead>\n",
       "  <tbody>\n",
       "    <tr>\n",
       "      <th>9130</th>\n",
       "      <td>2017-01-01</td>\n",
       "      <td>Holographic Goose</td>\n",
       "      <td>0.053755</td>\n",
       "    </tr>\n",
       "    <tr>\n",
       "      <th>9131</th>\n",
       "      <td>2017-01-01</td>\n",
       "      <td>Kaggle</td>\n",
       "      <td>0.350044</td>\n",
       "    </tr>\n",
       "    <tr>\n",
       "      <th>9132</th>\n",
       "      <td>2017-01-01</td>\n",
       "      <td>Kaggle Tiers</td>\n",
       "      <td>0.263057</td>\n",
       "    </tr>\n",
       "    <tr>\n",
       "      <th>9133</th>\n",
       "      <td>2017-01-01</td>\n",
       "      <td>Kerneler</td>\n",
       "      <td>0.155640</td>\n",
       "    </tr>\n",
       "    <tr>\n",
       "      <th>9134</th>\n",
       "      <td>2017-01-01</td>\n",
       "      <td>Kerneler Dark Mode</td>\n",
       "      <td>0.177505</td>\n",
       "    </tr>\n",
       "    <tr>\n",
       "      <th>...</th>\n",
       "      <td>...</td>\n",
       "      <td>...</td>\n",
       "      <td>...</td>\n",
       "    </tr>\n",
       "    <tr>\n",
       "      <th>10950</th>\n",
       "      <td>2019-12-31</td>\n",
       "      <td>Holographic Goose</td>\n",
       "      <td>0.050794</td>\n",
       "    </tr>\n",
       "    <tr>\n",
       "      <th>10951</th>\n",
       "      <td>2019-12-31</td>\n",
       "      <td>Kaggle</td>\n",
       "      <td>0.331864</td>\n",
       "    </tr>\n",
       "    <tr>\n",
       "      <th>10952</th>\n",
       "      <td>2019-12-31</td>\n",
       "      <td>Kaggle Tiers</td>\n",
       "      <td>0.290504</td>\n",
       "    </tr>\n",
       "    <tr>\n",
       "      <th>10953</th>\n",
       "      <td>2019-12-31</td>\n",
       "      <td>Kerneler</td>\n",
       "      <td>0.153052</td>\n",
       "    </tr>\n",
       "    <tr>\n",
       "      <th>10954</th>\n",
       "      <td>2019-12-31</td>\n",
       "      <td>Kerneler Dark Mode</td>\n",
       "      <td>0.173786</td>\n",
       "    </tr>\n",
       "  </tbody>\n",
       "</table>\n",
       "<p>5480 rows × 3 columns</p>\n",
       "</div>"
      ],
      "text/plain": [
       "            date             product    ratios\n",
       "9130  2017-01-01   Holographic Goose  0.053755\n",
       "9131  2017-01-01              Kaggle  0.350044\n",
       "9132  2017-01-01        Kaggle Tiers  0.263057\n",
       "9133  2017-01-01            Kerneler  0.155640\n",
       "9134  2017-01-01  Kerneler Dark Mode  0.177505\n",
       "...          ...                 ...       ...\n",
       "10950 2019-12-31   Holographic Goose  0.050794\n",
       "10951 2019-12-31              Kaggle  0.331864\n",
       "10952 2019-12-31        Kaggle Tiers  0.290504\n",
       "10953 2019-12-31            Kerneler  0.153052\n",
       "10954 2019-12-31  Kerneler Dark Mode  0.173786\n",
       "\n",
       "[5480 rows x 3 columns]"
      ]
     },
     "execution_count": 53,
     "metadata": {},
     "output_type": "execute_result"
    }
   ],
   "source": [
    "forecasted_ratios_df"
   ]
  },
  {
   "cell_type": "code",
   "execution_count": null,
   "id": "74af76ad",
   "metadata": {},
   "outputs": [],
   "source": [
    "train_df_imputed"
   ]
  },
  {
   "cell_type": "code",
   "execution_count": null,
   "id": "30b958c6",
   "metadata": {},
   "outputs": [],
   "source": [
    "train_df.merge(store_weights_df, on = 'store')"
   ]
  },
  {
   "cell_type": "code",
   "execution_count": null,
   "id": "8a0efb50",
   "metadata": {},
   "outputs": [],
   "source": [
    "train_df.merge(train_df_imputed, on=[\"date\", \"year\"], suffixes=[\"\", \"_imputed\"])#.merge()\n",
    "# test_sub_df[\"store_ratio\"] * test_sub_df[\"country_ratio\"] * test_sub_df[\"product_ratio\"]"
   ]
  },
  {
   "cell_type": "code",
   "execution_count": null,
   "id": "97c8f652",
   "metadata": {},
   "outputs": [],
   "source": [
    "test_sub_df.drop(train_df_imputed.columns.tolist(), axis = 1 )"
   ]
  },
  {
   "cell_type": "code",
   "execution_count": null,
   "id": "f09643d2",
   "metadata": {},
   "outputs": [],
   "source": [
    "test_total_sales_df"
   ]
  },
  {
   "cell_type": "code",
   "execution_count": null,
   "id": "b073584b",
   "metadata": {},
   "outputs": [],
   "source": [
    "test_total_sales_df"
   ]
  },
  {
   "cell_type": "code",
   "execution_count": 83,
   "id": "2c3b9c90",
   "metadata": {
    "execution": {
     "iopub.execute_input": "2025-01-05T21:11:47.047657Z",
     "iopub.status.busy": "2025-01-05T21:11:47.047268Z",
     "iopub.status.idle": "2025-01-05T21:11:47.165770Z",
     "shell.execute_reply": "2025-01-05T21:11:47.164629Z"
    },
    "papermill": {
     "duration": 0.140388,
     "end_time": "2025-01-05T21:11:47.167790",
     "exception": false,
     "start_time": "2025-01-05T21:11:47.027402",
     "status": "completed"
    },
    "tags": []
   },
   "outputs": [],
   "source": [
    "# Adding in the store ratios\n",
    "store_weights_df = store_weights.reset_index()\n",
    "test_sub_df = pd.merge(test_df, test_total_sales_df, how=\"left\", on=\"date\")\n",
    "test_sub_df = test_sub_df.rename(columns = {\"num_sold\":\"day_num_sold\"})\n",
    "# Adding in the product ratios\n",
    "test_sub_df = pd.merge(test_sub_df, store_weights_df, how=\"left\", on=\"store\")\n",
    "test_sub_df = test_sub_df.rename(columns = {\"num_sold\":\"store_ratio\"})\n",
    "# Adding in the country ratios\n",
    "test_sub_df[\"year\"] = test_sub_df[\"date\"].dt.year\n",
    "test_sub_df = pd.merge(test_sub_df, gdp_per_capita_filtered_ratios_df, how=\"left\", on=[\"year\", \"country\"])\n",
    "test_sub_df = test_sub_df.rename(columns = {\"ratio\":\"country_ratio\"})\n",
    "# Adding in the product ratio\n",
    "test_sub_df = pd.merge(test_sub_df, forecasted_ratios_df, how=\"left\", on=[\"date\", \"product\"])\n",
    "test_sub_df = test_sub_df.rename(columns = {\"ratios\":\"product_ratio\"})\n",
    "\n",
    "# Disaggregating the forecast\n",
    "test_sub_df[\"num_sold\"] = test_sub_df[\"day_num_sold\"] * test_sub_df[\"store_ratio\"] * test_sub_df[\"country_ratio\"] * test_sub_df[\"product_ratio\"]\n",
    "test_sub_df[\"num_sold\"] = test_sub_df[\"num_sold\"].round()"
   ]
  },
  {
   "cell_type": "code",
   "execution_count": 84,
   "id": "4ff91dd0",
   "metadata": {},
   "outputs": [
    {
     "data": {
      "text/html": [
       "<div>\n",
       "<style scoped>\n",
       "    .dataframe tbody tr th:only-of-type {\n",
       "        vertical-align: middle;\n",
       "    }\n",
       "\n",
       "    .dataframe tbody tr th {\n",
       "        vertical-align: top;\n",
       "    }\n",
       "\n",
       "    .dataframe thead th {\n",
       "        text-align: right;\n",
       "    }\n",
       "</style>\n",
       "<table border=\"1\" class=\"dataframe\">\n",
       "  <thead>\n",
       "    <tr style=\"text-align: right;\">\n",
       "      <th></th>\n",
       "      <th>date</th>\n",
       "      <th>num_sold</th>\n",
       "      <th>year</th>\n",
       "      <th>month</th>\n",
       "      <th>day</th>\n",
       "      <th>day_of_week</th>\n",
       "      <th>day_of_week_ratios</th>\n",
       "      <th>adjusted_num_sold</th>\n",
       "    </tr>\n",
       "  </thead>\n",
       "  <tbody>\n",
       "    <tr>\n",
       "      <th>0</th>\n",
       "      <td>2010-01-01</td>\n",
       "      <td>85710.772635</td>\n",
       "      <td>2010</td>\n",
       "      <td>1</td>\n",
       "      <td>1</td>\n",
       "      <td>4</td>\n",
       "      <td>1.000503</td>\n",
       "      <td>85667.714526</td>\n",
       "    </tr>\n",
       "    <tr>\n",
       "      <th>1</th>\n",
       "      <td>2010-01-02</td>\n",
       "      <td>82699.983533</td>\n",
       "      <td>2010</td>\n",
       "      <td>1</td>\n",
       "      <td>2</td>\n",
       "      <td>5</td>\n",
       "      <td>1.056331</td>\n",
       "      <td>78289.810336</td>\n",
       "    </tr>\n",
       "    <tr>\n",
       "      <th>2</th>\n",
       "      <td>2010-01-03</td>\n",
       "      <td>88476.100742</td>\n",
       "      <td>2010</td>\n",
       "      <td>1</td>\n",
       "      <td>3</td>\n",
       "      <td>6</td>\n",
       "      <td>1.168988</td>\n",
       "      <td>75686.079816</td>\n",
       "    </tr>\n",
       "    <tr>\n",
       "      <th>3</th>\n",
       "      <td>2010-01-04</td>\n",
       "      <td>68206.949986</td>\n",
       "      <td>2010</td>\n",
       "      <td>1</td>\n",
       "      <td>4</td>\n",
       "      <td>0</td>\n",
       "      <td>0.943221</td>\n",
       "      <td>72312.817158</td>\n",
       "    </tr>\n",
       "    <tr>\n",
       "      <th>4</th>\n",
       "      <td>2010-01-05</td>\n",
       "      <td>65832.192575</td>\n",
       "      <td>2010</td>\n",
       "      <td>1</td>\n",
       "      <td>5</td>\n",
       "      <td>1</td>\n",
       "      <td>0.943352</td>\n",
       "      <td>69785.397279</td>\n",
       "    </tr>\n",
       "    <tr>\n",
       "      <th>...</th>\n",
       "      <td>...</td>\n",
       "      <td>...</td>\n",
       "      <td>...</td>\n",
       "      <td>...</td>\n",
       "      <td>...</td>\n",
       "      <td>...</td>\n",
       "      <td>...</td>\n",
       "      <td>...</td>\n",
       "    </tr>\n",
       "    <tr>\n",
       "      <th>2552</th>\n",
       "      <td>2016-12-27</td>\n",
       "      <td>64651.885691</td>\n",
       "      <td>2016</td>\n",
       "      <td>12</td>\n",
       "      <td>27</td>\n",
       "      <td>1</td>\n",
       "      <td>0.943352</td>\n",
       "      <td>68534.213297</td>\n",
       "    </tr>\n",
       "    <tr>\n",
       "      <th>2553</th>\n",
       "      <td>2016-12-28</td>\n",
       "      <td>71252.729934</td>\n",
       "      <td>2016</td>\n",
       "      <td>12</td>\n",
       "      <td>28</td>\n",
       "      <td>2</td>\n",
       "      <td>0.943859</td>\n",
       "      <td>75490.883501</td>\n",
       "    </tr>\n",
       "    <tr>\n",
       "      <th>2554</th>\n",
       "      <td>2016-12-29</td>\n",
       "      <td>77548.729112</td>\n",
       "      <td>2016</td>\n",
       "      <td>12</td>\n",
       "      <td>29</td>\n",
       "      <td>3</td>\n",
       "      <td>0.943747</td>\n",
       "      <td>82171.119774</td>\n",
       "    </tr>\n",
       "    <tr>\n",
       "      <th>2555</th>\n",
       "      <td>2016-12-30</td>\n",
       "      <td>82028.751480</td>\n",
       "      <td>2016</td>\n",
       "      <td>12</td>\n",
       "      <td>30</td>\n",
       "      <td>4</td>\n",
       "      <td>1.000503</td>\n",
       "      <td>81987.543090</td>\n",
       "    </tr>\n",
       "    <tr>\n",
       "      <th>2556</th>\n",
       "      <td>2016-12-31</td>\n",
       "      <td>81557.796217</td>\n",
       "      <td>2016</td>\n",
       "      <td>12</td>\n",
       "      <td>31</td>\n",
       "      <td>5</td>\n",
       "      <td>1.056331</td>\n",
       "      <td>77208.532874</td>\n",
       "    </tr>\n",
       "  </tbody>\n",
       "</table>\n",
       "<p>2557 rows × 8 columns</p>\n",
       "</div>"
      ],
      "text/plain": [
       "           date      num_sold  year  month  day  day_of_week   \n",
       "0    2010-01-01  85710.772635  2010      1    1            4  \\\n",
       "1    2010-01-02  82699.983533  2010      1    2            5   \n",
       "2    2010-01-03  88476.100742  2010      1    3            6   \n",
       "3    2010-01-04  68206.949986  2010      1    4            0   \n",
       "4    2010-01-05  65832.192575  2010      1    5            1   \n",
       "...         ...           ...   ...    ...  ...          ...   \n",
       "2552 2016-12-27  64651.885691  2016     12   27            1   \n",
       "2553 2016-12-28  71252.729934  2016     12   28            2   \n",
       "2554 2016-12-29  77548.729112  2016     12   29            3   \n",
       "2555 2016-12-30  82028.751480  2016     12   30            4   \n",
       "2556 2016-12-31  81557.796217  2016     12   31            5   \n",
       "\n",
       "      day_of_week_ratios  adjusted_num_sold  \n",
       "0               1.000503       85667.714526  \n",
       "1               1.056331       78289.810336  \n",
       "2               1.168988       75686.079816  \n",
       "3               0.943221       72312.817158  \n",
       "4               0.943352       69785.397279  \n",
       "...                  ...                ...  \n",
       "2552            0.943352       68534.213297  \n",
       "2553            0.943859       75490.883501  \n",
       "2554            0.943747       82171.119774  \n",
       "2555            1.000503       81987.543090  \n",
       "2556            1.056331       77208.532874  \n",
       "\n",
       "[2557 rows x 8 columns]"
      ]
     },
     "execution_count": 84,
     "metadata": {},
     "output_type": "execute_result"
    }
   ],
   "source": [
    "train_df_imputed"
   ]
  },
  {
   "cell_type": "code",
   "execution_count": 85,
   "id": "0e1d38db",
   "metadata": {},
   "outputs": [
    {
     "data": {
      "text/html": [
       "<div>\n",
       "<style scoped>\n",
       "    .dataframe tbody tr th:only-of-type {\n",
       "        vertical-align: middle;\n",
       "    }\n",
       "\n",
       "    .dataframe tbody tr th {\n",
       "        vertical-align: top;\n",
       "    }\n",
       "\n",
       "    .dataframe thead th {\n",
       "        text-align: right;\n",
       "    }\n",
       "</style>\n",
       "<table border=\"1\" class=\"dataframe\">\n",
       "  <thead>\n",
       "    <tr style=\"text-align: right;\">\n",
       "      <th></th>\n",
       "      <th>id</th>\n",
       "      <th>date</th>\n",
       "      <th>country</th>\n",
       "      <th>store</th>\n",
       "      <th>product</th>\n",
       "      <th>month</th>\n",
       "      <th>day</th>\n",
       "      <th>day_of_week</th>\n",
       "      <th>adjusted_num_sold</th>\n",
       "      <th>day_of_week_ratios</th>\n",
       "      <th>day_num_sold</th>\n",
       "      <th>store_ratio</th>\n",
       "      <th>year</th>\n",
       "      <th>country_ratio</th>\n",
       "      <th>product_ratio</th>\n",
       "      <th>num_sold</th>\n",
       "    </tr>\n",
       "  </thead>\n",
       "  <tbody>\n",
       "    <tr>\n",
       "      <th>0</th>\n",
       "      <td>230130</td>\n",
       "      <td>2017-01-01</td>\n",
       "      <td>Canada</td>\n",
       "      <td>Discount Stickers</td>\n",
       "      <td>Holographic Goose</td>\n",
       "      <td>1</td>\n",
       "      <td>1</td>\n",
       "      <td>6</td>\n",
       "      <td>79191.937980</td>\n",
       "      <td>1.168988</td>\n",
       "      <td>92574.406016</td>\n",
       "      <td>0.184716</td>\n",
       "      <td>2017</td>\n",
       "      <td>0.172210</td>\n",
       "      <td>0.053755</td>\n",
       "      <td>158.0</td>\n",
       "    </tr>\n",
       "    <tr>\n",
       "      <th>1</th>\n",
       "      <td>230131</td>\n",
       "      <td>2017-01-01</td>\n",
       "      <td>Canada</td>\n",
       "      <td>Discount Stickers</td>\n",
       "      <td>Kaggle</td>\n",
       "      <td>1</td>\n",
       "      <td>1</td>\n",
       "      <td>6</td>\n",
       "      <td>79191.937980</td>\n",
       "      <td>1.168988</td>\n",
       "      <td>92574.406016</td>\n",
       "      <td>0.184716</td>\n",
       "      <td>2017</td>\n",
       "      <td>0.172210</td>\n",
       "      <td>0.350044</td>\n",
       "      <td>1031.0</td>\n",
       "    </tr>\n",
       "    <tr>\n",
       "      <th>2</th>\n",
       "      <td>230132</td>\n",
       "      <td>2017-01-01</td>\n",
       "      <td>Canada</td>\n",
       "      <td>Discount Stickers</td>\n",
       "      <td>Kaggle Tiers</td>\n",
       "      <td>1</td>\n",
       "      <td>1</td>\n",
       "      <td>6</td>\n",
       "      <td>79191.937980</td>\n",
       "      <td>1.168988</td>\n",
       "      <td>92574.406016</td>\n",
       "      <td>0.184716</td>\n",
       "      <td>2017</td>\n",
       "      <td>0.172210</td>\n",
       "      <td>0.263057</td>\n",
       "      <td>775.0</td>\n",
       "    </tr>\n",
       "    <tr>\n",
       "      <th>3</th>\n",
       "      <td>230133</td>\n",
       "      <td>2017-01-01</td>\n",
       "      <td>Canada</td>\n",
       "      <td>Discount Stickers</td>\n",
       "      <td>Kerneler</td>\n",
       "      <td>1</td>\n",
       "      <td>1</td>\n",
       "      <td>6</td>\n",
       "      <td>79191.937980</td>\n",
       "      <td>1.168988</td>\n",
       "      <td>92574.406016</td>\n",
       "      <td>0.184716</td>\n",
       "      <td>2017</td>\n",
       "      <td>0.172210</td>\n",
       "      <td>0.155640</td>\n",
       "      <td>458.0</td>\n",
       "    </tr>\n",
       "    <tr>\n",
       "      <th>4</th>\n",
       "      <td>230134</td>\n",
       "      <td>2017-01-01</td>\n",
       "      <td>Canada</td>\n",
       "      <td>Discount Stickers</td>\n",
       "      <td>Kerneler Dark Mode</td>\n",
       "      <td>1</td>\n",
       "      <td>1</td>\n",
       "      <td>6</td>\n",
       "      <td>79191.937980</td>\n",
       "      <td>1.168988</td>\n",
       "      <td>92574.406016</td>\n",
       "      <td>0.184716</td>\n",
       "      <td>2017</td>\n",
       "      <td>0.172210</td>\n",
       "      <td>0.177505</td>\n",
       "      <td>523.0</td>\n",
       "    </tr>\n",
       "    <tr>\n",
       "      <th>...</th>\n",
       "      <td>...</td>\n",
       "      <td>...</td>\n",
       "      <td>...</td>\n",
       "      <td>...</td>\n",
       "      <td>...</td>\n",
       "      <td>...</td>\n",
       "      <td>...</td>\n",
       "      <td>...</td>\n",
       "      <td>...</td>\n",
       "      <td>...</td>\n",
       "      <td>...</td>\n",
       "      <td>...</td>\n",
       "      <td>...</td>\n",
       "      <td>...</td>\n",
       "      <td>...</td>\n",
       "      <td>...</td>\n",
       "    </tr>\n",
       "    <tr>\n",
       "      <th>98635</th>\n",
       "      <td>328675</td>\n",
       "      <td>2019-12-31</td>\n",
       "      <td>Singapore</td>\n",
       "      <td>Premium Sticker Mart</td>\n",
       "      <td>Holographic Goose</td>\n",
       "      <td>12</td>\n",
       "      <td>31</td>\n",
       "      <td>1</td>\n",
       "      <td>84147.671809</td>\n",
       "      <td>0.943352</td>\n",
       "      <td>79380.872665</td>\n",
       "      <td>0.441564</td>\n",
       "      <td>2019</td>\n",
       "      <td>0.241431</td>\n",
       "      <td>0.050794</td>\n",
       "      <td>430.0</td>\n",
       "    </tr>\n",
       "    <tr>\n",
       "      <th>98636</th>\n",
       "      <td>328676</td>\n",
       "      <td>2019-12-31</td>\n",
       "      <td>Singapore</td>\n",
       "      <td>Premium Sticker Mart</td>\n",
       "      <td>Kaggle</td>\n",
       "      <td>12</td>\n",
       "      <td>31</td>\n",
       "      <td>1</td>\n",
       "      <td>84147.671809</td>\n",
       "      <td>0.943352</td>\n",
       "      <td>79380.872665</td>\n",
       "      <td>0.441564</td>\n",
       "      <td>2019</td>\n",
       "      <td>0.241431</td>\n",
       "      <td>0.331864</td>\n",
       "      <td>2808.0</td>\n",
       "    </tr>\n",
       "    <tr>\n",
       "      <th>98637</th>\n",
       "      <td>328677</td>\n",
       "      <td>2019-12-31</td>\n",
       "      <td>Singapore</td>\n",
       "      <td>Premium Sticker Mart</td>\n",
       "      <td>Kaggle Tiers</td>\n",
       "      <td>12</td>\n",
       "      <td>31</td>\n",
       "      <td>1</td>\n",
       "      <td>84147.671809</td>\n",
       "      <td>0.943352</td>\n",
       "      <td>79380.872665</td>\n",
       "      <td>0.441564</td>\n",
       "      <td>2019</td>\n",
       "      <td>0.241431</td>\n",
       "      <td>0.290504</td>\n",
       "      <td>2458.0</td>\n",
       "    </tr>\n",
       "    <tr>\n",
       "      <th>98638</th>\n",
       "      <td>328678</td>\n",
       "      <td>2019-12-31</td>\n",
       "      <td>Singapore</td>\n",
       "      <td>Premium Sticker Mart</td>\n",
       "      <td>Kerneler</td>\n",
       "      <td>12</td>\n",
       "      <td>31</td>\n",
       "      <td>1</td>\n",
       "      <td>84147.671809</td>\n",
       "      <td>0.943352</td>\n",
       "      <td>79380.872665</td>\n",
       "      <td>0.441564</td>\n",
       "      <td>2019</td>\n",
       "      <td>0.241431</td>\n",
       "      <td>0.153052</td>\n",
       "      <td>1295.0</td>\n",
       "    </tr>\n",
       "    <tr>\n",
       "      <th>98639</th>\n",
       "      <td>328679</td>\n",
       "      <td>2019-12-31</td>\n",
       "      <td>Singapore</td>\n",
       "      <td>Premium Sticker Mart</td>\n",
       "      <td>Kerneler Dark Mode</td>\n",
       "      <td>12</td>\n",
       "      <td>31</td>\n",
       "      <td>1</td>\n",
       "      <td>84147.671809</td>\n",
       "      <td>0.943352</td>\n",
       "      <td>79380.872665</td>\n",
       "      <td>0.441564</td>\n",
       "      <td>2019</td>\n",
       "      <td>0.241431</td>\n",
       "      <td>0.173786</td>\n",
       "      <td>1471.0</td>\n",
       "    </tr>\n",
       "  </tbody>\n",
       "</table>\n",
       "<p>98640 rows × 16 columns</p>\n",
       "</div>"
      ],
      "text/plain": [
       "           id       date    country                 store             product   \n",
       "0      230130 2017-01-01     Canada     Discount Stickers   Holographic Goose  \\\n",
       "1      230131 2017-01-01     Canada     Discount Stickers              Kaggle   \n",
       "2      230132 2017-01-01     Canada     Discount Stickers        Kaggle Tiers   \n",
       "3      230133 2017-01-01     Canada     Discount Stickers            Kerneler   \n",
       "4      230134 2017-01-01     Canada     Discount Stickers  Kerneler Dark Mode   \n",
       "...       ...        ...        ...                   ...                 ...   \n",
       "98635  328675 2019-12-31  Singapore  Premium Sticker Mart   Holographic Goose   \n",
       "98636  328676 2019-12-31  Singapore  Premium Sticker Mart              Kaggle   \n",
       "98637  328677 2019-12-31  Singapore  Premium Sticker Mart        Kaggle Tiers   \n",
       "98638  328678 2019-12-31  Singapore  Premium Sticker Mart            Kerneler   \n",
       "98639  328679 2019-12-31  Singapore  Premium Sticker Mart  Kerneler Dark Mode   \n",
       "\n",
       "       month  day  day_of_week  adjusted_num_sold  day_of_week_ratios   \n",
       "0          1    1            6       79191.937980            1.168988  \\\n",
       "1          1    1            6       79191.937980            1.168988   \n",
       "2          1    1            6       79191.937980            1.168988   \n",
       "3          1    1            6       79191.937980            1.168988   \n",
       "4          1    1            6       79191.937980            1.168988   \n",
       "...      ...  ...          ...                ...                 ...   \n",
       "98635     12   31            1       84147.671809            0.943352   \n",
       "98636     12   31            1       84147.671809            0.943352   \n",
       "98637     12   31            1       84147.671809            0.943352   \n",
       "98638     12   31            1       84147.671809            0.943352   \n",
       "98639     12   31            1       84147.671809            0.943352   \n",
       "\n",
       "       day_num_sold  store_ratio  year  country_ratio  product_ratio  num_sold  \n",
       "0      92574.406016     0.184716  2017       0.172210       0.053755     158.0  \n",
       "1      92574.406016     0.184716  2017       0.172210       0.350044    1031.0  \n",
       "2      92574.406016     0.184716  2017       0.172210       0.263057     775.0  \n",
       "3      92574.406016     0.184716  2017       0.172210       0.155640     458.0  \n",
       "4      92574.406016     0.184716  2017       0.172210       0.177505     523.0  \n",
       "...             ...          ...   ...            ...            ...       ...  \n",
       "98635  79380.872665     0.441564  2019       0.241431       0.050794     430.0  \n",
       "98636  79380.872665     0.441564  2019       0.241431       0.331864    2808.0  \n",
       "98637  79380.872665     0.441564  2019       0.241431       0.290504    2458.0  \n",
       "98638  79380.872665     0.441564  2019       0.241431       0.153052    1295.0  \n",
       "98639  79380.872665     0.441564  2019       0.241431       0.173786    1471.0  \n",
       "\n",
       "[98640 rows x 16 columns]"
      ]
     },
     "execution_count": 85,
     "metadata": {},
     "output_type": "execute_result"
    }
   ],
   "source": [
    "test_sub_df#.head(20)\n"
   ]
  },
  {
   "cell_type": "code",
   "execution_count": 64,
   "id": "ab47dfdd",
   "metadata": {
    "execution": {
     "iopub.execute_input": "2025-01-05T21:11:47.206564Z",
     "iopub.status.busy": "2025-01-05T21:11:47.206220Z",
     "iopub.status.idle": "2025-01-05T21:11:47.213295Z",
     "shell.execute_reply": "2025-01-05T21:11:47.212266Z"
    },
    "papermill": {
     "duration": 0.028798,
     "end_time": "2025-01-05T21:11:47.215247",
     "exception": false,
     "start_time": "2025-01-05T21:11:47.186449",
     "status": "completed"
    },
    "tags": []
   },
   "outputs": [],
   "source": [
    "def plot_individual_ts(df):\n",
    "    colour_map = {\"Canada\": \"blue\", \"Finland\": \"orange\", \"Italy\": \"green\", \"Kenya\":\"red\", \"Norway\": \"purple\", \"Singapore\": \"brown\"}\n",
    "    for country in df[\"country\"].unique():\n",
    "        f,axes = plt.subplots(df[\"store\"].nunique()*df[\"product\"].nunique(),figsize=(20,70))\n",
    "        count = 0\n",
    "        for store in df[\"store\"].unique():\n",
    "            for product in df[\"product\"].unique():\n",
    "                plot_df = df.loc[(df[\"product\"] == product) & (df[\"country\"] == country) & (df[\"store\"] == store)]\n",
    "                sns.lineplot(data = plot_df, x=\"date\", y=\"num_sold\", linewidth=0.5, ax=axes[count], color=colour_map[country])\n",
    "                axes[count].set_title(f\"{country} - {store} - {product}\")\n",
    "                axes[count].axvline(pd.to_datetime(\"2017-01-01\"), color='black', linestyle='--')\n",
    "                count+=1"
   ]
  },
  {
   "cell_type": "markdown",
   "id": "a354623a",
   "metadata": {
    "papermill": {
     "duration": 0.018121,
     "end_time": "2025-01-05T21:11:47.251675",
     "exception": false,
     "start_time": "2025-01-05T21:11:47.233554",
     "status": "completed"
    },
    "tags": []
   },
   "source": [
    "Lets take a look at each of the 90 time series to see if the forecasts look reasonable:"
   ]
  },
  {
   "cell_type": "code",
   "execution_count": null,
   "id": "fe2c8846",
   "metadata": {
    "execution": {
     "iopub.execute_input": "2025-01-05T21:11:47.289986Z",
     "iopub.status.busy": "2025-01-05T21:11:47.289563Z",
     "iopub.status.idle": "2025-01-05T21:15:08.963420Z",
     "shell.execute_reply": "2025-01-05T21:15:08.962033Z"
    },
    "papermill": {
     "duration": 202.034627,
     "end_time": "2025-01-05T21:15:09.304588",
     "exception": false,
     "start_time": "2025-01-05T21:11:47.269961",
     "status": "completed"
    },
    "tags": []
   },
   "outputs": [],
   "source": [
    "plot_individual_ts(pd.concat([original_train_df_imputed,test_sub_df]).reset_index(drop=True))"
   ]
  },
  {
   "cell_type": "markdown",
   "id": "58d53e0b",
   "metadata": {
    "papermill": {
     "duration": 0.299025,
     "end_time": "2025-01-05T21:15:09.902466",
     "exception": false,
     "start_time": "2025-01-05T21:15:09.603441",
     "status": "completed"
    },
    "tags": []
   },
   "source": [
    "## Submission"
   ]
  },
  {
   "cell_type": "code",
   "execution_count": 116,
   "id": "c4ccccdb",
   "metadata": {},
   "outputs": [],
   "source": [
    "test_sub_df.to_csv('./dataup/nomodel_sub.csv', index = None)\n"
   ]
  },
  {
   "cell_type": "code",
   "execution_count": 66,
   "id": "daf6d10f",
   "metadata": {
    "execution": {
     "iopub.execute_input": "2025-01-05T21:15:10.505309Z",
     "iopub.status.busy": "2025-01-05T21:15:10.504699Z",
     "iopub.status.idle": "2025-01-05T21:15:10.677076Z",
     "shell.execute_reply": "2025-01-05T21:15:10.676046Z"
    },
    "papermill": {
     "duration": 0.476291,
     "end_time": "2025-01-05T21:15:10.678839",
     "exception": false,
     "start_time": "2025-01-05T21:15:10.202548",
     "status": "completed"
    },
    "tags": []
   },
   "outputs": [],
   "source": [
    "# submission = pd.read_csv(\"/kaggle/input/playground-series-s5e1/sample_submission.csv\")\n",
    "submission = pd.read_csv(\"./datadown/sample_submission.csv\")\n",
    "submission[\"num_sold\"] = test_sub_df[\"num_sold\"]\n",
    "\n",
    "# submission.to_csv('submission.csv', index = False)\n",
    "\n",
    "# display(submission.head(2))"
   ]
  },
  {
   "cell_type": "code",
   "execution_count": 68,
   "id": "adba5c42",
   "metadata": {},
   "outputs": [],
   "source": [
    "submission.to_csv(\"./submission_0/sub_nomodel.csv\", index = None)"
   ]
  }
 ],
 "metadata": {
  "kaggle": {
   "accelerator": "none",
   "dataSources": [
    {
     "databundleVersionId": 10652996,
     "sourceId": 85723,
     "sourceType": "competition"
    },
    {
     "datasetId": 2007861,
     "sourceId": 3325325,
     "sourceType": "datasetVersion"
    }
   ],
   "dockerImageVersionId": 30822,
   "isGpuEnabled": false,
   "isInternetEnabled": true,
   "language": "python",
   "sourceType": "notebook"
  },
  "kernelspec": {
   "display_name": "Python 3",
   "language": "python",
   "name": "python3"
  },
  "language_info": {
   "codemirror_mode": {
    "name": "ipython",
    "version": 3
   },
   "file_extension": ".py",
   "mimetype": "text/x-python",
   "name": "python",
   "nbconvert_exporter": "python",
   "pygments_lexer": "ipython3",
   "version": "3.11.7"
  },
  "papermill": {
   "default_parameters": {},
   "duration": 219.931059,
   "end_time": "2025-01-05T21:15:12.005625",
   "environment_variables": {},
   "exception": null,
   "input_path": "__notebook__.ipynb",
   "output_path": "__notebook__.ipynb",
   "parameters": {},
   "start_time": "2025-01-05T21:11:32.074566",
   "version": "2.6.0"
  }
 },
 "nbformat": 4,
 "nbformat_minor": 5
}
