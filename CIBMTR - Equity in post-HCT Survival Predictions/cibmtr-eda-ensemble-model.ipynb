{
 "cells": [
  {
   "cell_type": "markdown",
   "id": "7fae4cd0",
   "metadata": {
    "papermill": {
     "duration": 0.009773,
     "end_time": "2025-01-19T11:37:27.517613",
     "exception": false,
     "start_time": "2025-01-19T11:37:27.507840",
     "status": "completed"
    },
    "tags": []
   },
   "source": [
    "<p style=\"background-color: rgb(247, 230, 202); font-size: 300%; text-align: center; border-radius: 40px 40px; color: rgb(162, 87, 79); font-weight: bold; font-family: 'Roboto'; border: 4px solid rgb(162, 87, 79);\">Introduction</p>"
   ]
  },
  {
   "cell_type": "markdown",
   "id": "3baab759",
   "metadata": {
    "papermill": {
     "duration": 0.008197,
     "end_time": "2025-01-19T11:37:27.535622",
     "exception": false,
     "start_time": "2025-01-19T11:37:27.527425",
     "status": "completed"
    },
    "tags": []
   },
   "source": [
    "<div style=\"background-color: rgb(247, 230, 202); border: 4px solid rgb(162, 87, 79); border-radius: 40px; padding: 20px; font-family: 'Roboto'; color: rgb(162, 87, 79); text-align: left; font-size: 120%;\">\n",
    "    <ul style=\"list-style-type: square; padding-left: 20px;\">\n",
    "        <li style=\"margin-top: 10px;\">HLA columns are recalculated as per <a href=\"https://www.kaggle.com/code/albansteff/cibmtr-eda-ensemble-model-recalculate-hla\" style=\"color: #A2574F; text-decoration: underline;\">this</a> notebook.</li>\n",
    "        <li style=\"margin-top: 10px;\">Missing values are replaced with:\n",
    "            <ul style=\"list-style-type: circle; margin-top: 10px; margin-bottom: 10px;\">\n",
    "                <li>-1 for numeric columns</li>\n",
    "                <li>Unknown for categorical columns</li>\n",
    "            </ul>\n",
    "        </li>\n",
    "        <li style=\"margin-top: 10px;\">\n",
    "            LightGBM and CatBoost are trained on 3 different targets, estimated from the survival models:\n",
    "            <ul style=\"list-style-type: circle; margin-top: 10px; margin-bottom: 10px;\">\n",
    "                <li>Cox</li>\n",
    "                <li>Kaplan-Meier</li>\n",
    "                <li>Nelson-Aalen</li>\n",
    "            </ul>\n",
    "        </li>\n",
    "        <li style=\"margin-top: 10px;\">Two additional CatBoost model are trained, with Cox loss function.</li>\n",
    "        <li style=\"margin-top: 10px;\">As per <a href=\"https://www.kaggle.com/competitions/equity-post-HCT-survival-predictions/discussion/553061\" style=\"color: #A2574F; text-decoration: underline;\">this</a> discussion post, the target is consisted of the Out-of-Fold predictions of the survival models on the validation folds to prevent target leakage.</li>\n",
    "        <li style=\"margin-top: 10px;\">\n",
    "            The ensemble prediction for each sample is computed as:\n",
    "            <ul style=\"list-style-type: circle; margin-top: 10px; margin-bottom: 10px;\">\n",
    "                <p style=\"margin-top: 10px; font-size: 110%; color: #A2574F; font-family: 'Roboto'; text-align: left;\">\n",
    "                    $ \\text{preds}_{\\text{ensemble}} = \\sum_{i=1}^{n} w_i \\cdot \\text{rankdata}(\\text{preds}_i) $\n",
    "                </p>\n",
    "                where $n$ is the number of models, $w_i$ is the weight assigned to the $i$-th model, and $\\text{rankdata}(\\text{preds}_i)$ is the rank of predictions from the $i$-th model.\n",
    "            </ul>\n",
    "        </li>\n",
    "        <li style=\"margin-top: 10px;\">Last but not least, since the competition metric evaluates only the order of predictions and not their magnitude, the model weights are not required to sum to 1, nor should the predictions fall within a predefined range.</li>\n",
    "    </ul>\n",
    "</div>"
   ]
  },
  {
   "cell_type": "markdown",
   "id": "088b2bf7",
   "metadata": {
    "papermill": {
     "duration": 0.008286,
     "end_time": "2025-01-19T11:37:27.552465",
     "exception": false,
     "start_time": "2025-01-19T11:37:27.544179",
     "status": "completed"
    },
    "tags": []
   },
   "source": [
    "<p style=\"background-color: rgb(247, 230, 202); font-size: 300%; text-align: center; border-radius: 40px 40px; color: rgb(162, 87, 79); font-weight: bold; font-family: 'Roboto'; border: 4px solid rgb(162, 87, 79);\">Install Libraries</p>"
   ]
  },
  {
   "cell_type": "code",
   "execution_count": 1,
   "id": "5e0732bd",
   "metadata": {
    "_kg_hide-output": true,
    "execution": {
     "iopub.execute_input": "2025-01-19T11:37:27.570998Z",
     "iopub.status.busy": "2025-01-19T11:37:27.570610Z",
     "iopub.status.idle": "2025-01-19T11:41:02.618760Z",
     "shell.execute_reply": "2025-01-19T11:41:02.617574Z"
    },
    "papermill": {
     "duration": 215.06113,
     "end_time": "2025-01-19T11:41:02.622025",
     "exception": false,
     "start_time": "2025-01-19T11:37:27.560895",
     "status": "completed"
    },
    "tags": []
   },
   "outputs": [
    {
     "name": "stdout",
     "output_type": "stream",
     "text": [
      "Processing /kaggle/input/pip-install-lifelines/autograd-1.7.0-py3-none-any.whl\r\n",
      "Requirement already satisfied: numpy in /opt/conda/lib/python3.10/site-packages (from autograd==1.7.0) (1.26.4)\r\n",
      "Installing collected packages: autograd\r\n",
      "Successfully installed autograd-1.7.0\r\n",
      "Processing /kaggle/input/pip-install-lifelines/autograd-gamma-0.5.0.tar.gz\r\n",
      "  Preparing metadata (setup.py) ... \u001b[?25l-\b \bdone\r\n",
      "\u001b[?25hRequirement already satisfied: autograd>=1.2.0 in /opt/conda/lib/python3.10/site-packages (from autograd-gamma==0.5.0) (1.7.0)\r\n",
      "Requirement already satisfied: scipy>=1.2.0 in /opt/conda/lib/python3.10/site-packages (from autograd-gamma==0.5.0) (1.14.1)\r\n",
      "Requirement already satisfied: numpy in /opt/conda/lib/python3.10/site-packages (from autograd>=1.2.0->autograd-gamma==0.5.0) (1.26.4)\r\n",
      "Building wheels for collected packages: autograd-gamma\r\n",
      "  Building wheel for autograd-gamma (setup.py) ... \u001b[?25l-\b \b\\\b \bdone\r\n",
      "\u001b[?25h  Created wheel for autograd-gamma: filename=autograd_gamma-0.5.0-py3-none-any.whl size=4030 sha256=e6600b7fcb5117fa4adb6cb9edaac5a9bfa41381d44f348fbd107415fd43ad92\r\n",
      "  Stored in directory: /root/.cache/pip/wheels/6b/b5/e0/4c79e15c0b5f2c15ecf613c720bb20daab20a666eb67135155\r\n",
      "Successfully built autograd-gamma\r\n",
      "Installing collected packages: autograd-gamma\r\n",
      "Successfully installed autograd-gamma-0.5.0\r\n",
      "Processing /kaggle/input/pip-install-lifelines/interface_meta-1.3.0-py3-none-any.whl\r\n",
      "Installing collected packages: interface-meta\r\n",
      "Successfully installed interface-meta-1.3.0\r\n",
      "Processing /kaggle/input/pip-install-lifelines/formulaic-1.0.2-py3-none-any.whl\r\n",
      "Requirement already satisfied: interface-meta>=1.2.0 in /opt/conda/lib/python3.10/site-packages (from formulaic==1.0.2) (1.3.0)\r\n",
      "Requirement already satisfied: numpy>=1.16.5 in /opt/conda/lib/python3.10/site-packages (from formulaic==1.0.2) (1.26.4)\r\n",
      "Requirement already satisfied: pandas>=1.0 in /opt/conda/lib/python3.10/site-packages (from formulaic==1.0.2) (2.2.3)\r\n",
      "Requirement already satisfied: scipy>=1.6 in /opt/conda/lib/python3.10/site-packages (from formulaic==1.0.2) (1.14.1)\r\n",
      "Requirement already satisfied: typing-extensions>=4.2.0 in /opt/conda/lib/python3.10/site-packages (from formulaic==1.0.2) (4.12.2)\r\n",
      "Requirement already satisfied: wrapt>=1.0 in /opt/conda/lib/python3.10/site-packages (from formulaic==1.0.2) (1.16.0)\r\n",
      "Requirement already satisfied: python-dateutil>=2.8.2 in /opt/conda/lib/python3.10/site-packages (from pandas>=1.0->formulaic==1.0.2) (2.9.0.post0)\r\n",
      "Requirement already satisfied: pytz>=2020.1 in /opt/conda/lib/python3.10/site-packages (from pandas>=1.0->formulaic==1.0.2) (2024.1)\r\n",
      "Requirement already satisfied: tzdata>=2022.7 in /opt/conda/lib/python3.10/site-packages (from pandas>=1.0->formulaic==1.0.2) (2024.1)\r\n",
      "Requirement already satisfied: six>=1.5 in /opt/conda/lib/python3.10/site-packages (from python-dateutil>=2.8.2->pandas>=1.0->formulaic==1.0.2) (1.16.0)\r\n",
      "Installing collected packages: formulaic\r\n",
      "Successfully installed formulaic-1.0.2\r\n",
      "Processing /kaggle/input/pip-install-lifelines/lifelines-0.30.0-py3-none-any.whl\r\n",
      "Requirement already satisfied: numpy>=1.14.0 in /opt/conda/lib/python3.10/site-packages (from lifelines==0.30.0) (1.26.4)\r\n",
      "Requirement already satisfied: scipy>=1.7.0 in /opt/conda/lib/python3.10/site-packages (from lifelines==0.30.0) (1.14.1)\r\n",
      "Requirement already satisfied: pandas>=2.1 in /opt/conda/lib/python3.10/site-packages (from lifelines==0.30.0) (2.2.3)\r\n",
      "Requirement already satisfied: matplotlib>=3.0 in /opt/conda/lib/python3.10/site-packages (from lifelines==0.30.0) (3.7.5)\r\n",
      "Requirement already satisfied: autograd>=1.5 in /opt/conda/lib/python3.10/site-packages (from lifelines==0.30.0) (1.7.0)\r\n",
      "Requirement already satisfied: autograd-gamma>=0.3 in /opt/conda/lib/python3.10/site-packages (from lifelines==0.30.0) (0.5.0)\r\n",
      "Requirement already satisfied: formulaic>=0.2.2 in /opt/conda/lib/python3.10/site-packages (from lifelines==0.30.0) (1.0.2)\r\n",
      "Requirement already satisfied: interface-meta>=1.2.0 in /opt/conda/lib/python3.10/site-packages (from formulaic>=0.2.2->lifelines==0.30.0) (1.3.0)\r\n",
      "Requirement already satisfied: typing-extensions>=4.2.0 in /opt/conda/lib/python3.10/site-packages (from formulaic>=0.2.2->lifelines==0.30.0) (4.12.2)\r\n",
      "Requirement already satisfied: wrapt>=1.0 in /opt/conda/lib/python3.10/site-packages (from formulaic>=0.2.2->lifelines==0.30.0) (1.16.0)\r\n",
      "Requirement already satisfied: contourpy>=1.0.1 in /opt/conda/lib/python3.10/site-packages (from matplotlib>=3.0->lifelines==0.30.0) (1.2.1)\r\n",
      "Requirement already satisfied: cycler>=0.10 in /opt/conda/lib/python3.10/site-packages (from matplotlib>=3.0->lifelines==0.30.0) (0.12.1)\r\n",
      "Requirement already satisfied: fonttools>=4.22.0 in /opt/conda/lib/python3.10/site-packages (from matplotlib>=3.0->lifelines==0.30.0) (4.53.0)\r\n",
      "Requirement already satisfied: kiwisolver>=1.0.1 in /opt/conda/lib/python3.10/site-packages (from matplotlib>=3.0->lifelines==0.30.0) (1.4.5)\r\n",
      "Requirement already satisfied: packaging>=20.0 in /opt/conda/lib/python3.10/site-packages (from matplotlib>=3.0->lifelines==0.30.0) (21.3)\r\n",
      "Requirement already satisfied: pillow>=6.2.0 in /opt/conda/lib/python3.10/site-packages (from matplotlib>=3.0->lifelines==0.30.0) (10.3.0)\r\n",
      "Requirement already satisfied: pyparsing>=2.3.1 in /opt/conda/lib/python3.10/site-packages (from matplotlib>=3.0->lifelines==0.30.0) (3.1.2)\r\n",
      "Requirement already satisfied: python-dateutil>=2.7 in /opt/conda/lib/python3.10/site-packages (from matplotlib>=3.0->lifelines==0.30.0) (2.9.0.post0)\r\n",
      "Requirement already satisfied: pytz>=2020.1 in /opt/conda/lib/python3.10/site-packages (from pandas>=2.1->lifelines==0.30.0) (2024.1)\r\n",
      "Requirement already satisfied: tzdata>=2022.7 in /opt/conda/lib/python3.10/site-packages (from pandas>=2.1->lifelines==0.30.0) (2024.1)\r\n",
      "Requirement already satisfied: six>=1.5 in /opt/conda/lib/python3.10/site-packages (from python-dateutil>=2.7->matplotlib>=3.0->lifelines==0.30.0) (1.16.0)\r\n",
      "Installing collected packages: lifelines\r\n",
      "Successfully installed lifelines-0.30.0\r\n"
     ]
    }
   ],
   "source": [
    "!pip install /kaggle/input/pip-install-lifelines/autograd-1.7.0-py3-none-any.whl\n",
    "!pip install /kaggle/input/pip-install-lifelines/autograd-gamma-0.5.0.tar.gz\n",
    "!pip install /kaggle/input/pip-install-lifelines/interface_meta-1.3.0-py3-none-any.whl\n",
    "!pip install /kaggle/input/pip-install-lifelines/formulaic-1.0.2-py3-none-any.whl\n",
    "!pip install /kaggle/input/pip-install-lifelines/lifelines-0.30.0-py3-none-any.whl"
   ]
  },
  {
   "cell_type": "markdown",
   "id": "0fcb3afd",
   "metadata": {
    "papermill": {
     "duration": 0.009979,
     "end_time": "2025-01-19T11:41:02.642504",
     "exception": false,
     "start_time": "2025-01-19T11:41:02.632525",
     "status": "completed"
    },
    "tags": []
   },
   "source": [
    "<p style=\"background-color: rgb(247, 230, 202); font-size: 300%; text-align: center; border-radius: 40px 40px; color: rgb(162, 87, 79); font-weight: bold; font-family: 'Roboto'; border: 4px solid rgb(162, 87, 79);\">Imports</p>"
   ]
  },
  {
   "cell_type": "code",
   "execution_count": 2,
   "id": "8f2c753c",
   "metadata": {
    "execution": {
     "iopub.execute_input": "2025-01-19T11:41:02.664798Z",
     "iopub.status.busy": "2025-01-19T11:41:02.664397Z",
     "iopub.status.idle": "2025-01-19T11:41:02.669727Z",
     "shell.execute_reply": "2025-01-19T11:41:02.668656Z"
    },
    "papermill": {
     "duration": 0.019108,
     "end_time": "2025-01-19T11:41:02.671787",
     "exception": false,
     "start_time": "2025-01-19T11:41:02.652679",
     "status": "completed"
    },
    "tags": []
   },
   "outputs": [],
   "source": [
    "import warnings\n",
    "from pathlib import Path\n",
    "warnings.filterwarnings('ignore')"
   ]
  },
  {
   "cell_type": "code",
   "execution_count": 3,
   "id": "3e60671c",
   "metadata": {
    "execution": {
     "iopub.execute_input": "2025-01-19T11:41:02.694632Z",
     "iopub.status.busy": "2025-01-19T11:41:02.693754Z",
     "iopub.status.idle": "2025-01-19T11:41:04.526612Z",
     "shell.execute_reply": "2025-01-19T11:41:04.525490Z"
    },
    "papermill": {
     "duration": 1.847063,
     "end_time": "2025-01-19T11:41:04.529133",
     "exception": false,
     "start_time": "2025-01-19T11:41:02.682070",
     "status": "completed"
    },
    "tags": []
   },
   "outputs": [],
   "source": [
    "import numpy as np\n",
    "import polars as pl\n",
    "import pandas as pd\n",
    "import plotly.colors as pc\n",
    "import plotly.express as px\n",
    "import plotly.graph_objects as go"
   ]
  },
  {
   "cell_type": "code",
   "execution_count": 4,
   "id": "1d32755f",
   "metadata": {
    "execution": {
     "iopub.execute_input": "2025-01-19T11:41:04.552397Z",
     "iopub.status.busy": "2025-01-19T11:41:04.551804Z",
     "iopub.status.idle": "2025-01-19T11:41:04.714975Z",
     "shell.execute_reply": "2025-01-19T11:41:04.713998Z"
    },
    "papermill": {
     "duration": 0.177496,
     "end_time": "2025-01-19T11:41:04.717409",
     "exception": false,
     "start_time": "2025-01-19T11:41:04.539913",
     "status": "completed"
    },
    "tags": []
   },
   "outputs": [],
   "source": [
    "import plotly.io as pio\n",
    "pio.renderers.default = 'iframe'"
   ]
  },
  {
   "cell_type": "code",
   "execution_count": 5,
   "id": "62384ade",
   "metadata": {
    "execution": {
     "iopub.execute_input": "2025-01-19T11:41:04.740241Z",
     "iopub.status.busy": "2025-01-19T11:41:04.739499Z",
     "iopub.status.idle": "2025-01-19T11:41:04.744734Z",
     "shell.execute_reply": "2025-01-19T11:41:04.743680Z"
    },
    "papermill": {
     "duration": 0.018996,
     "end_time": "2025-01-19T11:41:04.746863",
     "exception": false,
     "start_time": "2025-01-19T11:41:04.727867",
     "status": "completed"
    },
    "tags": []
   },
   "outputs": [],
   "source": [
    "pd.options.display.max_columns = None"
   ]
  },
  {
   "cell_type": "code",
   "execution_count": 6,
   "id": "a606a804",
   "metadata": {
    "execution": {
     "iopub.execute_input": "2025-01-19T11:41:04.769940Z",
     "iopub.status.busy": "2025-01-19T11:41:04.769500Z",
     "iopub.status.idle": "2025-01-19T11:41:06.097561Z",
     "shell.execute_reply": "2025-01-19T11:41:06.096471Z"
    },
    "papermill": {
     "duration": 1.342225,
     "end_time": "2025-01-19T11:41:06.100103",
     "exception": false,
     "start_time": "2025-01-19T11:41:04.757878",
     "status": "completed"
    },
    "tags": []
   },
   "outputs": [],
   "source": [
    "from lifelines import CoxPHFitter\n",
    "from lifelines import KaplanMeierFitter\n",
    "from lifelines import NelsonAalenFitter"
   ]
  },
  {
   "cell_type": "code",
   "execution_count": 7,
   "id": "273656b2",
   "metadata": {
    "execution": {
     "iopub.execute_input": "2025-01-19T11:41:06.124640Z",
     "iopub.status.busy": "2025-01-19T11:41:06.123996Z",
     "iopub.status.idle": "2025-01-19T11:41:08.116608Z",
     "shell.execute_reply": "2025-01-19T11:41:08.115562Z"
    },
    "papermill": {
     "duration": 2.009181,
     "end_time": "2025-01-19T11:41:08.119929",
     "exception": false,
     "start_time": "2025-01-19T11:41:06.110748",
     "status": "completed"
    },
    "tags": []
   },
   "outputs": [],
   "source": [
    "import lightgbm as lgb\n",
    "from metric import score\n",
    "from scipy.stats import rankdata \n",
    "from catboost import CatBoostRegressor\n",
    "from sklearn.model_selection import KFold"
   ]
  },
  {
   "cell_type": "markdown",
   "id": "59ffeddf",
   "metadata": {
    "papermill": {
     "duration": 0.011198,
     "end_time": "2025-01-19T11:41:08.142179",
     "exception": false,
     "start_time": "2025-01-19T11:41:08.130981",
     "status": "completed"
    },
    "tags": []
   },
   "source": [
    "<p style=\"background-color: rgb(247, 230, 202); font-size: 300%; text-align: center; border-radius: 40px 40px; color: rgb(162, 87, 79); font-weight: bold; font-family: 'Roboto'; border: 4px solid rgb(162, 87, 79);\">Configuration</p>"
   ]
  },
  {
   "cell_type": "code",
   "execution_count": 8,
   "id": "65d0fc75",
   "metadata": {
    "execution": {
     "iopub.execute_input": "2025-01-19T11:41:08.166149Z",
     "iopub.status.busy": "2025-01-19T11:41:08.165443Z",
     "iopub.status.idle": "2025-01-19T11:41:08.175048Z",
     "shell.execute_reply": "2025-01-19T11:41:08.173893Z"
    },
    "papermill": {
     "duration": 0.024249,
     "end_time": "2025-01-19T11:41:08.177428",
     "exception": false,
     "start_time": "2025-01-19T11:41:08.153179",
     "status": "completed"
    },
    "tags": []
   },
   "outputs": [],
   "source": [
    "class CFG:\n",
    "\n",
    "    train_path = Path('/kaggle/input/equity-post-HCT-survival-predictions/train.csv')\n",
    "    test_path = Path('/kaggle/input/equity-post-HCT-survival-predictions/test.csv')\n",
    "    subm_path = Path('/kaggle/input/equity-post-HCT-survival-predictions/sample_submission.csv')\n",
    "    \n",
    "    colorscale = 'Redor'\n",
    "    color = '#A2574F'\n",
    "\n",
    "    batch_size = 32768\n",
    "    early_stop = 300\n",
    "    penalizer = 0.01\n",
    "    n_splits = 5\n",
    "\n",
    "    weights = [2, 1, 6, 3, 6, 3, 6, 6]\n",
    "\n",
    "    ctb_params = {\n",
    "        'loss_function': 'RMSE',\n",
    "        'learning_rate': 0.03,\n",
    "        'random_state': 42,\n",
    "        'task_type': 'CPU',\n",
    "        'num_trees': 6000,\n",
    "        'reg_lambda': 8.0,\n",
    "        'depth': 8\n",
    "    }\n",
    "\n",
    "    lgb_params = {\n",
    "        'objective': 'regression',\n",
    "        'min_child_samples': 32,\n",
    "        'num_iterations': 6000,\n",
    "        'learning_rate': 0.03,\n",
    "        'extra_trees': True,\n",
    "        'reg_lambda': 8.0,\n",
    "        'reg_alpha': 0.1,\n",
    "        'num_leaves': 64,\n",
    "        'metric': 'rmse',\n",
    "        'max_depth': 8,\n",
    "        'device': 'cpu',\n",
    "        'max_bin': 128,\n",
    "        'verbose': -1,\n",
    "        'seed': 42\n",
    "    }\n",
    "\n",
    "    cox1_params = {\n",
    "        'grow_policy': 'Depthwise',\n",
    "        'min_child_samples': 8,\n",
    "        'loss_function': 'Cox',\n",
    "        'learning_rate': 0.03,\n",
    "        'random_state': 42,\n",
    "        'task_type': 'CPU',\n",
    "        'num_trees': 6000,\n",
    "        'reg_lambda': 8.0,\n",
    "        'depth': 8\n",
    "    }\n",
    "\n",
    "    cox2_params = {\n",
    "        'grow_policy': 'Lossguide',\n",
    "        'min_child_samples': 2,\n",
    "        'loss_function': 'Cox',\n",
    "        'learning_rate': 0.03,\n",
    "        'random_state': 42,\n",
    "        'task_type': 'CPU',\n",
    "        'num_trees': 6000,\n",
    "        'reg_lambda': 8.0,\n",
    "        'num_leaves': 32,\n",
    "        'depth': 8\n",
    "    }"
   ]
  },
  {
   "cell_type": "markdown",
   "id": "8f9ce8c5",
   "metadata": {
    "papermill": {
     "duration": 0.010243,
     "end_time": "2025-01-19T11:41:08.198404",
     "exception": false,
     "start_time": "2025-01-19T11:41:08.188161",
     "status": "completed"
    },
    "tags": []
   },
   "source": [
    "<p style=\"background-color: rgb(247, 230, 202); font-size: 300%; text-align: center; border-radius: 40px 40px; color: rgb(162, 87, 79); font-weight: bold; font-family: 'Roboto'; border: 4px solid rgb(162, 87, 79);\">Feature Engineering</p>"
   ]
  },
  {
   "cell_type": "code",
   "execution_count": 9,
   "id": "43143746",
   "metadata": {
    "_kg_hide-input": false,
    "execution": {
     "iopub.execute_input": "2025-01-19T11:41:08.221352Z",
     "iopub.status.busy": "2025-01-19T11:41:08.220955Z",
     "iopub.status.idle": "2025-01-19T11:41:08.237471Z",
     "shell.execute_reply": "2025-01-19T11:41:08.236453Z"
    },
    "papermill": {
     "duration": 0.030781,
     "end_time": "2025-01-19T11:41:08.239723",
     "exception": false,
     "start_time": "2025-01-19T11:41:08.208942",
     "status": "completed"
    },
    "tags": []
   },
   "outputs": [],
   "source": [
    "class FE:\n",
    "\n",
    "    def __init__(self, batch_size):\n",
    "        self._batch_size = batch_size\n",
    "\n",
    "    def _load_data(self, path):\n",
    "\n",
    "        return pl.read_csv(path, batch_size=self._batch_size)\n",
    "\n",
    "    def _update_hla_columns(self, df):\n",
    "        \n",
    "        df = df.with_columns(\n",
    "            \n",
    "            pl.col('hla_match_a_low').fill_null(0)\n",
    "            .add(pl.col('hla_match_b_low').fill_null(0))\n",
    "            .add(pl.col('hla_match_drb1_high').fill_null(0))\n",
    "            .alias('hla_nmdp_6'),\n",
    "            \n",
    "            pl.col('hla_match_a_low').fill_null(0)\n",
    "            .add(pl.col('hla_match_b_low').fill_null(0))\n",
    "            .add(pl.col('hla_match_drb1_low').fill_null(0))\n",
    "            .alias('hla_low_res_6'),\n",
    "            \n",
    "            pl.col('hla_match_a_high').fill_null(0)\n",
    "            .add(pl.col('hla_match_b_high').fill_null(0))\n",
    "            .add(pl.col('hla_match_drb1_high').fill_null(0))\n",
    "            .alias('hla_high_res_6'),\n",
    "            \n",
    "            pl.col('hla_match_a_low').fill_null(0)\n",
    "            .add(pl.col('hla_match_b_low').fill_null(0))\n",
    "            .add(pl.col('hla_match_c_low').fill_null(0))\n",
    "            .add(pl.col('hla_match_drb1_low').fill_null(0))\n",
    "            .alias('hla_low_res_8'),\n",
    "            \n",
    "            pl.col('hla_match_a_high').fill_null(0)\n",
    "            .add(pl.col('hla_match_b_high').fill_null(0))\n",
    "            .add(pl.col('hla_match_c_high').fill_null(0))\n",
    "            .add(pl.col('hla_match_drb1_high').fill_null(0))\n",
    "            .alias('hla_high_res_8'),\n",
    "            \n",
    "            pl.col('hla_match_a_low').fill_null(0)\n",
    "            .add(pl.col('hla_match_b_low').fill_null(0))\n",
    "            .add(pl.col('hla_match_c_low').fill_null(0))\n",
    "            .add(pl.col('hla_match_drb1_low').fill_null(0))\n",
    "            .add(pl.col('hla_match_dqb1_low').fill_null(0))\n",
    "            .alias('hla_low_res_10'),\n",
    "            \n",
    "            pl.col('hla_match_a_high').fill_null(0)\n",
    "            .add(pl.col('hla_match_b_high').fill_null(0))\n",
    "            .add(pl.col('hla_match_c_high').fill_null(0))\n",
    "            .add(pl.col('hla_match_drb1_high').fill_null(0))\n",
    "            .add(pl.col('hla_match_dqb1_high').fill_null(0))\n",
    "            .alias('hla_high_res_10'),\n",
    "            \n",
    "        )\n",
    "    \n",
    "        return df\n",
    "\n",
    "    def _cast_datatypes(self, df):\n",
    "\n",
    "        num_cols = [\n",
    "            'hla_high_res_8',\n",
    "            'hla_low_res_8',\n",
    "            'hla_high_res_6',\n",
    "            'hla_low_res_6',\n",
    "            'hla_high_res_10',\n",
    "            'hla_low_res_10',\n",
    "            'hla_match_dqb1_high',\n",
    "            'hla_match_dqb1_low',\n",
    "            'hla_match_drb1_high',\n",
    "            'hla_match_drb1_low',\n",
    "            'hla_nmdp_6',\n",
    "            'year_hct',\n",
    "            'hla_match_a_high',\n",
    "            'hla_match_a_low',\n",
    "            'hla_match_b_high',\n",
    "            'hla_match_b_low',\n",
    "            'hla_match_c_high',\n",
    "            'hla_match_c_low',\n",
    "            'donor_age',\n",
    "            'age_at_hct',\n",
    "            'comorbidity_score',\n",
    "            'karnofsky_score',\n",
    "            'efs',\n",
    "            'efs_time'\n",
    "        ]\n",
    "\n",
    "        for col in df.columns:\n",
    "\n",
    "            if col in num_cols:\n",
    "                df = df.with_columns(pl.col(col).fill_null(-1).cast(pl.Float32))  \n",
    "\n",
    "            else:\n",
    "                df = df.with_columns(pl.col(col).fill_null('Unknown').cast(pl.String))  \n",
    "\n",
    "        return df.with_columns(pl.col('ID').cast(pl.Int32))\n",
    "\n",
    "    def info(self, df):\n",
    "        \n",
    "        print(f'\\nShape of dataframe: {df.shape}') \n",
    "        \n",
    "        mem = df.memory_usage().sum() / 1024**2\n",
    "        print('Memory usage: {:.2f} MB\\n'.format(mem))\n",
    "\n",
    "        display(df.head())\n",
    "\n",
    "    def apply_fe(self, path):\n",
    "\n",
    "        df = self._load_data(path)   \n",
    "        df = self._update_hla_columns(df)                     \n",
    "        df = self._cast_datatypes(df)        \n",
    "        df = df.to_pandas()\n",
    "        self.info(df)\n",
    "        \n",
    "        cat_cols = [col for col in df.columns if df[col].dtype == pl.String]\n",
    "\n",
    "        return df, cat_cols"
   ]
  },
  {
   "cell_type": "code",
   "execution_count": 10,
   "id": "01662152",
   "metadata": {
    "_kg_hide-input": false,
    "execution": {
     "iopub.execute_input": "2025-01-19T11:41:08.263452Z",
     "iopub.status.busy": "2025-01-19T11:41:08.262545Z",
     "iopub.status.idle": "2025-01-19T11:41:08.267590Z",
     "shell.execute_reply": "2025-01-19T11:41:08.266564Z"
    },
    "papermill": {
     "duration": 0.019228,
     "end_time": "2025-01-19T11:41:08.270050",
     "exception": false,
     "start_time": "2025-01-19T11:41:08.250822",
     "status": "completed"
    },
    "tags": []
   },
   "outputs": [],
   "source": [
    "fe = FE(CFG.batch_size)"
   ]
  },
  {
   "cell_type": "code",
   "execution_count": 11,
   "id": "e57c5bdd",
   "metadata": {
    "execution": {
     "iopub.execute_input": "2025-01-19T11:41:08.292544Z",
     "iopub.status.busy": "2025-01-19T11:41:08.292142Z",
     "iopub.status.idle": "2025-01-19T11:41:09.048072Z",
     "shell.execute_reply": "2025-01-19T11:41:09.046966Z"
    },
    "papermill": {
     "duration": 0.769722,
     "end_time": "2025-01-19T11:41:09.050369",
     "exception": false,
     "start_time": "2025-01-19T11:41:08.280647",
     "status": "completed"
    },
    "tags": []
   },
   "outputs": [
    {
     "name": "stdout",
     "output_type": "stream",
     "text": [
      "\n",
      "Shape of dataframe: (28800, 60)\n",
      "Memory usage: 10.44 MB\n",
      "\n"
     ]
    },
    {
     "data": {
      "text/html": [
       "<div>\n",
       "<style scoped>\n",
       "    .dataframe tbody tr th:only-of-type {\n",
       "        vertical-align: middle;\n",
       "    }\n",
       "\n",
       "    .dataframe tbody tr th {\n",
       "        vertical-align: top;\n",
       "    }\n",
       "\n",
       "    .dataframe thead th {\n",
       "        text-align: right;\n",
       "    }\n",
       "</style>\n",
       "<table border=\"1\" class=\"dataframe\">\n",
       "  <thead>\n",
       "    <tr style=\"text-align: right;\">\n",
       "      <th></th>\n",
       "      <th>ID</th>\n",
       "      <th>dri_score</th>\n",
       "      <th>psych_disturb</th>\n",
       "      <th>cyto_score</th>\n",
       "      <th>diabetes</th>\n",
       "      <th>hla_match_c_high</th>\n",
       "      <th>hla_high_res_8</th>\n",
       "      <th>tbi_status</th>\n",
       "      <th>arrhythmia</th>\n",
       "      <th>hla_low_res_6</th>\n",
       "      <th>graft_type</th>\n",
       "      <th>vent_hist</th>\n",
       "      <th>renal_issue</th>\n",
       "      <th>pulm_severe</th>\n",
       "      <th>prim_disease_hct</th>\n",
       "      <th>hla_high_res_6</th>\n",
       "      <th>cmv_status</th>\n",
       "      <th>hla_high_res_10</th>\n",
       "      <th>hla_match_dqb1_high</th>\n",
       "      <th>tce_imm_match</th>\n",
       "      <th>hla_nmdp_6</th>\n",
       "      <th>hla_match_c_low</th>\n",
       "      <th>rituximab</th>\n",
       "      <th>hla_match_drb1_low</th>\n",
       "      <th>hla_match_dqb1_low</th>\n",
       "      <th>prod_type</th>\n",
       "      <th>cyto_score_detail</th>\n",
       "      <th>conditioning_intensity</th>\n",
       "      <th>ethnicity</th>\n",
       "      <th>year_hct</th>\n",
       "      <th>obesity</th>\n",
       "      <th>mrd_hct</th>\n",
       "      <th>in_vivo_tcd</th>\n",
       "      <th>tce_match</th>\n",
       "      <th>hla_match_a_high</th>\n",
       "      <th>hepatic_severe</th>\n",
       "      <th>donor_age</th>\n",
       "      <th>prior_tumor</th>\n",
       "      <th>hla_match_b_low</th>\n",
       "      <th>peptic_ulcer</th>\n",
       "      <th>age_at_hct</th>\n",
       "      <th>hla_match_a_low</th>\n",
       "      <th>gvhd_proph</th>\n",
       "      <th>rheum_issue</th>\n",
       "      <th>sex_match</th>\n",
       "      <th>hla_match_b_high</th>\n",
       "      <th>race_group</th>\n",
       "      <th>comorbidity_score</th>\n",
       "      <th>karnofsky_score</th>\n",
       "      <th>hepatic_mild</th>\n",
       "      <th>tce_div_match</th>\n",
       "      <th>donor_related</th>\n",
       "      <th>melphalan_dose</th>\n",
       "      <th>hla_low_res_8</th>\n",
       "      <th>cardiac</th>\n",
       "      <th>hla_match_drb1_high</th>\n",
       "      <th>pulm_moderate</th>\n",
       "      <th>hla_low_res_10</th>\n",
       "      <th>efs</th>\n",
       "      <th>efs_time</th>\n",
       "    </tr>\n",
       "  </thead>\n",
       "  <tbody>\n",
       "    <tr>\n",
       "      <th>0</th>\n",
       "      <td>0</td>\n",
       "      <td>N/A - non-malignant indication</td>\n",
       "      <td>No</td>\n",
       "      <td>Unknown</td>\n",
       "      <td>No</td>\n",
       "      <td>-1.0</td>\n",
       "      <td>6.0</td>\n",
       "      <td>No TBI</td>\n",
       "      <td>No</td>\n",
       "      <td>6.0</td>\n",
       "      <td>Bone marrow</td>\n",
       "      <td>No</td>\n",
       "      <td>No</td>\n",
       "      <td>No</td>\n",
       "      <td>IEA</td>\n",
       "      <td>6.0</td>\n",
       "      <td>+/+</td>\n",
       "      <td>8.0</td>\n",
       "      <td>2.0</td>\n",
       "      <td>Unknown</td>\n",
       "      <td>6.0</td>\n",
       "      <td>2.0</td>\n",
       "      <td>No</td>\n",
       "      <td>2.0</td>\n",
       "      <td>2.0</td>\n",
       "      <td>BM</td>\n",
       "      <td>Unknown</td>\n",
       "      <td>Unknown</td>\n",
       "      <td>Not Hispanic or Latino</td>\n",
       "      <td>2016.0</td>\n",
       "      <td>No</td>\n",
       "      <td>Unknown</td>\n",
       "      <td>Yes</td>\n",
       "      <td>Unknown</td>\n",
       "      <td>2.0</td>\n",
       "      <td>No</td>\n",
       "      <td>-1.000000</td>\n",
       "      <td>No</td>\n",
       "      <td>2.0</td>\n",
       "      <td>No</td>\n",
       "      <td>9.942000</td>\n",
       "      <td>2.0</td>\n",
       "      <td>FKalone</td>\n",
       "      <td>No</td>\n",
       "      <td>M-F</td>\n",
       "      <td>2.0</td>\n",
       "      <td>More than one race</td>\n",
       "      <td>0.0</td>\n",
       "      <td>90.0</td>\n",
       "      <td>No</td>\n",
       "      <td>Unknown</td>\n",
       "      <td>Unrelated</td>\n",
       "      <td>N/A, Mel not given</td>\n",
       "      <td>8.0</td>\n",
       "      <td>No</td>\n",
       "      <td>2.0</td>\n",
       "      <td>No</td>\n",
       "      <td>10.0</td>\n",
       "      <td>0.0</td>\n",
       "      <td>42.355999</td>\n",
       "    </tr>\n",
       "    <tr>\n",
       "      <th>1</th>\n",
       "      <td>1</td>\n",
       "      <td>Intermediate</td>\n",
       "      <td>No</td>\n",
       "      <td>Intermediate</td>\n",
       "      <td>No</td>\n",
       "      <td>2.0</td>\n",
       "      <td>8.0</td>\n",
       "      <td>TBI +- Other, &gt;cGy</td>\n",
       "      <td>No</td>\n",
       "      <td>6.0</td>\n",
       "      <td>Peripheral blood</td>\n",
       "      <td>No</td>\n",
       "      <td>No</td>\n",
       "      <td>No</td>\n",
       "      <td>AML</td>\n",
       "      <td>6.0</td>\n",
       "      <td>+/+</td>\n",
       "      <td>10.0</td>\n",
       "      <td>2.0</td>\n",
       "      <td>P/P</td>\n",
       "      <td>6.0</td>\n",
       "      <td>2.0</td>\n",
       "      <td>No</td>\n",
       "      <td>2.0</td>\n",
       "      <td>2.0</td>\n",
       "      <td>PB</td>\n",
       "      <td>Intermediate</td>\n",
       "      <td>MAC</td>\n",
       "      <td>Not Hispanic or Latino</td>\n",
       "      <td>2008.0</td>\n",
       "      <td>No</td>\n",
       "      <td>Positive</td>\n",
       "      <td>No</td>\n",
       "      <td>Permissive</td>\n",
       "      <td>2.0</td>\n",
       "      <td>No</td>\n",
       "      <td>72.290001</td>\n",
       "      <td>No</td>\n",
       "      <td>2.0</td>\n",
       "      <td>No</td>\n",
       "      <td>43.705002</td>\n",
       "      <td>2.0</td>\n",
       "      <td>Other GVHD Prophylaxis</td>\n",
       "      <td>No</td>\n",
       "      <td>F-F</td>\n",
       "      <td>2.0</td>\n",
       "      <td>Asian</td>\n",
       "      <td>3.0</td>\n",
       "      <td>90.0</td>\n",
       "      <td>No</td>\n",
       "      <td>Permissive mismatched</td>\n",
       "      <td>Related</td>\n",
       "      <td>N/A, Mel not given</td>\n",
       "      <td>8.0</td>\n",
       "      <td>No</td>\n",
       "      <td>2.0</td>\n",
       "      <td>Yes</td>\n",
       "      <td>10.0</td>\n",
       "      <td>1.0</td>\n",
       "      <td>4.672000</td>\n",
       "    </tr>\n",
       "    <tr>\n",
       "      <th>2</th>\n",
       "      <td>2</td>\n",
       "      <td>N/A - non-malignant indication</td>\n",
       "      <td>No</td>\n",
       "      <td>Unknown</td>\n",
       "      <td>No</td>\n",
       "      <td>2.0</td>\n",
       "      <td>8.0</td>\n",
       "      <td>No TBI</td>\n",
       "      <td>No</td>\n",
       "      <td>6.0</td>\n",
       "      <td>Bone marrow</td>\n",
       "      <td>No</td>\n",
       "      <td>No</td>\n",
       "      <td>No</td>\n",
       "      <td>HIS</td>\n",
       "      <td>6.0</td>\n",
       "      <td>+/+</td>\n",
       "      <td>10.0</td>\n",
       "      <td>2.0</td>\n",
       "      <td>P/P</td>\n",
       "      <td>6.0</td>\n",
       "      <td>2.0</td>\n",
       "      <td>No</td>\n",
       "      <td>2.0</td>\n",
       "      <td>2.0</td>\n",
       "      <td>BM</td>\n",
       "      <td>Unknown</td>\n",
       "      <td>Unknown</td>\n",
       "      <td>Not Hispanic or Latino</td>\n",
       "      <td>2019.0</td>\n",
       "      <td>No</td>\n",
       "      <td>Unknown</td>\n",
       "      <td>Yes</td>\n",
       "      <td>Unknown</td>\n",
       "      <td>2.0</td>\n",
       "      <td>No</td>\n",
       "      <td>-1.000000</td>\n",
       "      <td>No</td>\n",
       "      <td>2.0</td>\n",
       "      <td>No</td>\n",
       "      <td>33.997002</td>\n",
       "      <td>2.0</td>\n",
       "      <td>Cyclophosphamide alone</td>\n",
       "      <td>No</td>\n",
       "      <td>F-M</td>\n",
       "      <td>2.0</td>\n",
       "      <td>More than one race</td>\n",
       "      <td>0.0</td>\n",
       "      <td>90.0</td>\n",
       "      <td>No</td>\n",
       "      <td>Permissive mismatched</td>\n",
       "      <td>Related</td>\n",
       "      <td>N/A, Mel not given</td>\n",
       "      <td>8.0</td>\n",
       "      <td>No</td>\n",
       "      <td>2.0</td>\n",
       "      <td>No</td>\n",
       "      <td>10.0</td>\n",
       "      <td>0.0</td>\n",
       "      <td>19.792999</td>\n",
       "    </tr>\n",
       "    <tr>\n",
       "      <th>3</th>\n",
       "      <td>3</td>\n",
       "      <td>High</td>\n",
       "      <td>No</td>\n",
       "      <td>Intermediate</td>\n",
       "      <td>No</td>\n",
       "      <td>2.0</td>\n",
       "      <td>8.0</td>\n",
       "      <td>No TBI</td>\n",
       "      <td>No</td>\n",
       "      <td>6.0</td>\n",
       "      <td>Bone marrow</td>\n",
       "      <td>No</td>\n",
       "      <td>No</td>\n",
       "      <td>No</td>\n",
       "      <td>ALL</td>\n",
       "      <td>6.0</td>\n",
       "      <td>+/+</td>\n",
       "      <td>10.0</td>\n",
       "      <td>2.0</td>\n",
       "      <td>P/P</td>\n",
       "      <td>6.0</td>\n",
       "      <td>2.0</td>\n",
       "      <td>No</td>\n",
       "      <td>2.0</td>\n",
       "      <td>2.0</td>\n",
       "      <td>BM</td>\n",
       "      <td>Intermediate</td>\n",
       "      <td>MAC</td>\n",
       "      <td>Not Hispanic or Latino</td>\n",
       "      <td>2009.0</td>\n",
       "      <td>No</td>\n",
       "      <td>Positive</td>\n",
       "      <td>No</td>\n",
       "      <td>Permissive</td>\n",
       "      <td>2.0</td>\n",
       "      <td>No</td>\n",
       "      <td>29.230000</td>\n",
       "      <td>No</td>\n",
       "      <td>2.0</td>\n",
       "      <td>No</td>\n",
       "      <td>43.244999</td>\n",
       "      <td>2.0</td>\n",
       "      <td>FK+ MMF +- others</td>\n",
       "      <td>No</td>\n",
       "      <td>M-M</td>\n",
       "      <td>2.0</td>\n",
       "      <td>White</td>\n",
       "      <td>0.0</td>\n",
       "      <td>90.0</td>\n",
       "      <td>Yes</td>\n",
       "      <td>Permissive mismatched</td>\n",
       "      <td>Unrelated</td>\n",
       "      <td>N/A, Mel not given</td>\n",
       "      <td>8.0</td>\n",
       "      <td>No</td>\n",
       "      <td>2.0</td>\n",
       "      <td>No</td>\n",
       "      <td>10.0</td>\n",
       "      <td>0.0</td>\n",
       "      <td>102.348999</td>\n",
       "    </tr>\n",
       "    <tr>\n",
       "      <th>4</th>\n",
       "      <td>4</td>\n",
       "      <td>High</td>\n",
       "      <td>No</td>\n",
       "      <td>Unknown</td>\n",
       "      <td>No</td>\n",
       "      <td>2.0</td>\n",
       "      <td>8.0</td>\n",
       "      <td>No TBI</td>\n",
       "      <td>No</td>\n",
       "      <td>6.0</td>\n",
       "      <td>Peripheral blood</td>\n",
       "      <td>No</td>\n",
       "      <td>No</td>\n",
       "      <td>No</td>\n",
       "      <td>MPN</td>\n",
       "      <td>6.0</td>\n",
       "      <td>+/+</td>\n",
       "      <td>10.0</td>\n",
       "      <td>2.0</td>\n",
       "      <td>Unknown</td>\n",
       "      <td>6.0</td>\n",
       "      <td>2.0</td>\n",
       "      <td>No</td>\n",
       "      <td>2.0</td>\n",
       "      <td>2.0</td>\n",
       "      <td>PB</td>\n",
       "      <td>Unknown</td>\n",
       "      <td>MAC</td>\n",
       "      <td>Hispanic or Latino</td>\n",
       "      <td>2018.0</td>\n",
       "      <td>No</td>\n",
       "      <td>Unknown</td>\n",
       "      <td>Yes</td>\n",
       "      <td>Unknown</td>\n",
       "      <td>2.0</td>\n",
       "      <td>No</td>\n",
       "      <td>56.810001</td>\n",
       "      <td>No</td>\n",
       "      <td>2.0</td>\n",
       "      <td>No</td>\n",
       "      <td>29.740000</td>\n",
       "      <td>2.0</td>\n",
       "      <td>TDEPLETION +- other</td>\n",
       "      <td>No</td>\n",
       "      <td>M-F</td>\n",
       "      <td>2.0</td>\n",
       "      <td>American Indian or Alaska Native</td>\n",
       "      <td>1.0</td>\n",
       "      <td>90.0</td>\n",
       "      <td>No</td>\n",
       "      <td>Permissive mismatched</td>\n",
       "      <td>Related</td>\n",
       "      <td>MEL</td>\n",
       "      <td>8.0</td>\n",
       "      <td>No</td>\n",
       "      <td>2.0</td>\n",
       "      <td>No</td>\n",
       "      <td>10.0</td>\n",
       "      <td>0.0</td>\n",
       "      <td>16.223000</td>\n",
       "    </tr>\n",
       "  </tbody>\n",
       "</table>\n",
       "</div>"
      ],
      "text/plain": [
       "   ID                       dri_score psych_disturb    cyto_score diabetes  \\\n",
       "0   0  N/A - non-malignant indication            No       Unknown       No   \n",
       "1   1                    Intermediate            No  Intermediate       No   \n",
       "2   2  N/A - non-malignant indication            No       Unknown       No   \n",
       "3   3                            High            No  Intermediate       No   \n",
       "4   4                            High            No       Unknown       No   \n",
       "\n",
       "   hla_match_c_high  hla_high_res_8          tbi_status arrhythmia  \\\n",
       "0              -1.0             6.0              No TBI         No   \n",
       "1               2.0             8.0  TBI +- Other, >cGy         No   \n",
       "2               2.0             8.0              No TBI         No   \n",
       "3               2.0             8.0              No TBI         No   \n",
       "4               2.0             8.0              No TBI         No   \n",
       "\n",
       "   hla_low_res_6        graft_type vent_hist renal_issue pulm_severe  \\\n",
       "0            6.0       Bone marrow        No          No          No   \n",
       "1            6.0  Peripheral blood        No          No          No   \n",
       "2            6.0       Bone marrow        No          No          No   \n",
       "3            6.0       Bone marrow        No          No          No   \n",
       "4            6.0  Peripheral blood        No          No          No   \n",
       "\n",
       "  prim_disease_hct  hla_high_res_6 cmv_status  hla_high_res_10  \\\n",
       "0              IEA             6.0        +/+              8.0   \n",
       "1              AML             6.0        +/+             10.0   \n",
       "2              HIS             6.0        +/+             10.0   \n",
       "3              ALL             6.0        +/+             10.0   \n",
       "4              MPN             6.0        +/+             10.0   \n",
       "\n",
       "   hla_match_dqb1_high tce_imm_match  hla_nmdp_6  hla_match_c_low rituximab  \\\n",
       "0                  2.0       Unknown         6.0              2.0        No   \n",
       "1                  2.0           P/P         6.0              2.0        No   \n",
       "2                  2.0           P/P         6.0              2.0        No   \n",
       "3                  2.0           P/P         6.0              2.0        No   \n",
       "4                  2.0       Unknown         6.0              2.0        No   \n",
       "\n",
       "   hla_match_drb1_low  hla_match_dqb1_low prod_type cyto_score_detail  \\\n",
       "0                 2.0                 2.0        BM           Unknown   \n",
       "1                 2.0                 2.0        PB      Intermediate   \n",
       "2                 2.0                 2.0        BM           Unknown   \n",
       "3                 2.0                 2.0        BM      Intermediate   \n",
       "4                 2.0                 2.0        PB           Unknown   \n",
       "\n",
       "  conditioning_intensity               ethnicity  year_hct obesity   mrd_hct  \\\n",
       "0                Unknown  Not Hispanic or Latino    2016.0      No   Unknown   \n",
       "1                    MAC  Not Hispanic or Latino    2008.0      No  Positive   \n",
       "2                Unknown  Not Hispanic or Latino    2019.0      No   Unknown   \n",
       "3                    MAC  Not Hispanic or Latino    2009.0      No  Positive   \n",
       "4                    MAC      Hispanic or Latino    2018.0      No   Unknown   \n",
       "\n",
       "  in_vivo_tcd   tce_match  hla_match_a_high hepatic_severe  donor_age  \\\n",
       "0         Yes     Unknown               2.0             No  -1.000000   \n",
       "1          No  Permissive               2.0             No  72.290001   \n",
       "2         Yes     Unknown               2.0             No  -1.000000   \n",
       "3          No  Permissive               2.0             No  29.230000   \n",
       "4         Yes     Unknown               2.0             No  56.810001   \n",
       "\n",
       "  prior_tumor  hla_match_b_low peptic_ulcer  age_at_hct  hla_match_a_low  \\\n",
       "0          No              2.0           No    9.942000              2.0   \n",
       "1          No              2.0           No   43.705002              2.0   \n",
       "2          No              2.0           No   33.997002              2.0   \n",
       "3          No              2.0           No   43.244999              2.0   \n",
       "4          No              2.0           No   29.740000              2.0   \n",
       "\n",
       "               gvhd_proph rheum_issue sex_match  hla_match_b_high  \\\n",
       "0                 FKalone          No       M-F               2.0   \n",
       "1  Other GVHD Prophylaxis          No       F-F               2.0   \n",
       "2  Cyclophosphamide alone          No       F-M               2.0   \n",
       "3       FK+ MMF +- others          No       M-M               2.0   \n",
       "4     TDEPLETION +- other          No       M-F               2.0   \n",
       "\n",
       "                         race_group  comorbidity_score  karnofsky_score  \\\n",
       "0                More than one race                0.0             90.0   \n",
       "1                             Asian                3.0             90.0   \n",
       "2                More than one race                0.0             90.0   \n",
       "3                             White                0.0             90.0   \n",
       "4  American Indian or Alaska Native                1.0             90.0   \n",
       "\n",
       "  hepatic_mild          tce_div_match donor_related      melphalan_dose  \\\n",
       "0           No                Unknown     Unrelated  N/A, Mel not given   \n",
       "1           No  Permissive mismatched       Related  N/A, Mel not given   \n",
       "2           No  Permissive mismatched       Related  N/A, Mel not given   \n",
       "3          Yes  Permissive mismatched     Unrelated  N/A, Mel not given   \n",
       "4           No  Permissive mismatched       Related                 MEL   \n",
       "\n",
       "   hla_low_res_8 cardiac  hla_match_drb1_high pulm_moderate  hla_low_res_10  \\\n",
       "0            8.0      No                  2.0            No            10.0   \n",
       "1            8.0      No                  2.0           Yes            10.0   \n",
       "2            8.0      No                  2.0            No            10.0   \n",
       "3            8.0      No                  2.0            No            10.0   \n",
       "4            8.0      No                  2.0            No            10.0   \n",
       "\n",
       "   efs    efs_time  \n",
       "0  0.0   42.355999  \n",
       "1  1.0    4.672000  \n",
       "2  0.0   19.792999  \n",
       "3  0.0  102.348999  \n",
       "4  0.0   16.223000  "
      ]
     },
     "metadata": {},
     "output_type": "display_data"
    }
   ],
   "source": [
    "train_data, cat_cols = fe.apply_fe(CFG.train_path)"
   ]
  },
  {
   "cell_type": "code",
   "execution_count": 12,
   "id": "4f1b9830",
   "metadata": {
    "execution": {
     "iopub.execute_input": "2025-01-19T11:41:09.075074Z",
     "iopub.status.busy": "2025-01-19T11:41:09.074665Z",
     "iopub.status.idle": "2025-01-19T11:41:09.141320Z",
     "shell.execute_reply": "2025-01-19T11:41:09.140149Z"
    },
    "papermill": {
     "duration": 0.081841,
     "end_time": "2025-01-19T11:41:09.143568",
     "exception": false,
     "start_time": "2025-01-19T11:41:09.061727",
     "status": "completed"
    },
    "tags": []
   },
   "outputs": [
    {
     "name": "stdout",
     "output_type": "stream",
     "text": [
      "\n",
      "Shape of dataframe: (3, 58)\n",
      "Memory usage: 0.00 MB\n",
      "\n"
     ]
    },
    {
     "data": {
      "text/html": [
       "<div>\n",
       "<style scoped>\n",
       "    .dataframe tbody tr th:only-of-type {\n",
       "        vertical-align: middle;\n",
       "    }\n",
       "\n",
       "    .dataframe tbody tr th {\n",
       "        vertical-align: top;\n",
       "    }\n",
       "\n",
       "    .dataframe thead th {\n",
       "        text-align: right;\n",
       "    }\n",
       "</style>\n",
       "<table border=\"1\" class=\"dataframe\">\n",
       "  <thead>\n",
       "    <tr style=\"text-align: right;\">\n",
       "      <th></th>\n",
       "      <th>ID</th>\n",
       "      <th>dri_score</th>\n",
       "      <th>psych_disturb</th>\n",
       "      <th>cyto_score</th>\n",
       "      <th>diabetes</th>\n",
       "      <th>hla_match_c_high</th>\n",
       "      <th>hla_high_res_8</th>\n",
       "      <th>tbi_status</th>\n",
       "      <th>arrhythmia</th>\n",
       "      <th>hla_low_res_6</th>\n",
       "      <th>graft_type</th>\n",
       "      <th>vent_hist</th>\n",
       "      <th>renal_issue</th>\n",
       "      <th>pulm_severe</th>\n",
       "      <th>prim_disease_hct</th>\n",
       "      <th>hla_high_res_6</th>\n",
       "      <th>cmv_status</th>\n",
       "      <th>hla_high_res_10</th>\n",
       "      <th>hla_match_dqb1_high</th>\n",
       "      <th>tce_imm_match</th>\n",
       "      <th>hla_nmdp_6</th>\n",
       "      <th>hla_match_c_low</th>\n",
       "      <th>rituximab</th>\n",
       "      <th>hla_match_drb1_low</th>\n",
       "      <th>hla_match_dqb1_low</th>\n",
       "      <th>prod_type</th>\n",
       "      <th>cyto_score_detail</th>\n",
       "      <th>conditioning_intensity</th>\n",
       "      <th>ethnicity</th>\n",
       "      <th>year_hct</th>\n",
       "      <th>obesity</th>\n",
       "      <th>mrd_hct</th>\n",
       "      <th>in_vivo_tcd</th>\n",
       "      <th>tce_match</th>\n",
       "      <th>hla_match_a_high</th>\n",
       "      <th>hepatic_severe</th>\n",
       "      <th>donor_age</th>\n",
       "      <th>prior_tumor</th>\n",
       "      <th>hla_match_b_low</th>\n",
       "      <th>peptic_ulcer</th>\n",
       "      <th>age_at_hct</th>\n",
       "      <th>hla_match_a_low</th>\n",
       "      <th>gvhd_proph</th>\n",
       "      <th>rheum_issue</th>\n",
       "      <th>sex_match</th>\n",
       "      <th>hla_match_b_high</th>\n",
       "      <th>race_group</th>\n",
       "      <th>comorbidity_score</th>\n",
       "      <th>karnofsky_score</th>\n",
       "      <th>hepatic_mild</th>\n",
       "      <th>tce_div_match</th>\n",
       "      <th>donor_related</th>\n",
       "      <th>melphalan_dose</th>\n",
       "      <th>hla_low_res_8</th>\n",
       "      <th>cardiac</th>\n",
       "      <th>hla_match_drb1_high</th>\n",
       "      <th>pulm_moderate</th>\n",
       "      <th>hla_low_res_10</th>\n",
       "    </tr>\n",
       "  </thead>\n",
       "  <tbody>\n",
       "    <tr>\n",
       "      <th>0</th>\n",
       "      <td>28800</td>\n",
       "      <td>N/A - non-malignant indication</td>\n",
       "      <td>No</td>\n",
       "      <td>Unknown</td>\n",
       "      <td>No</td>\n",
       "      <td>-1.0</td>\n",
       "      <td>6.0</td>\n",
       "      <td>No TBI</td>\n",
       "      <td>No</td>\n",
       "      <td>6.0</td>\n",
       "      <td>Bone marrow</td>\n",
       "      <td>No</td>\n",
       "      <td>No</td>\n",
       "      <td>No</td>\n",
       "      <td>IEA</td>\n",
       "      <td>6.0</td>\n",
       "      <td>+/+</td>\n",
       "      <td>8.0</td>\n",
       "      <td>2.0</td>\n",
       "      <td>Unknown</td>\n",
       "      <td>6.0</td>\n",
       "      <td>2.0</td>\n",
       "      <td>No</td>\n",
       "      <td>2.0</td>\n",
       "      <td>2.0</td>\n",
       "      <td>BM</td>\n",
       "      <td>Unknown</td>\n",
       "      <td>Unknown</td>\n",
       "      <td>Not Hispanic or Latino</td>\n",
       "      <td>2016.0</td>\n",
       "      <td>No</td>\n",
       "      <td>Unknown</td>\n",
       "      <td>Yes</td>\n",
       "      <td>Unknown</td>\n",
       "      <td>2.0</td>\n",
       "      <td>No</td>\n",
       "      <td>-1.000000</td>\n",
       "      <td>No</td>\n",
       "      <td>2.0</td>\n",
       "      <td>No</td>\n",
       "      <td>9.942000</td>\n",
       "      <td>2.0</td>\n",
       "      <td>FKalone</td>\n",
       "      <td>No</td>\n",
       "      <td>M-F</td>\n",
       "      <td>2.0</td>\n",
       "      <td>More than one race</td>\n",
       "      <td>0.0</td>\n",
       "      <td>90.0</td>\n",
       "      <td>No</td>\n",
       "      <td>Unknown</td>\n",
       "      <td>Unrelated</td>\n",
       "      <td>N/A, Mel not given</td>\n",
       "      <td>8.0</td>\n",
       "      <td>No</td>\n",
       "      <td>2.0</td>\n",
       "      <td>No</td>\n",
       "      <td>10.0</td>\n",
       "    </tr>\n",
       "    <tr>\n",
       "      <th>1</th>\n",
       "      <td>28801</td>\n",
       "      <td>Intermediate</td>\n",
       "      <td>No</td>\n",
       "      <td>Intermediate</td>\n",
       "      <td>No</td>\n",
       "      <td>2.0</td>\n",
       "      <td>8.0</td>\n",
       "      <td>TBI +- Other, &gt;cGy</td>\n",
       "      <td>No</td>\n",
       "      <td>6.0</td>\n",
       "      <td>Peripheral blood</td>\n",
       "      <td>No</td>\n",
       "      <td>No</td>\n",
       "      <td>No</td>\n",
       "      <td>AML</td>\n",
       "      <td>6.0</td>\n",
       "      <td>+/+</td>\n",
       "      <td>10.0</td>\n",
       "      <td>2.0</td>\n",
       "      <td>P/P</td>\n",
       "      <td>6.0</td>\n",
       "      <td>2.0</td>\n",
       "      <td>No</td>\n",
       "      <td>2.0</td>\n",
       "      <td>2.0</td>\n",
       "      <td>PB</td>\n",
       "      <td>Intermediate</td>\n",
       "      <td>MAC</td>\n",
       "      <td>Not Hispanic or Latino</td>\n",
       "      <td>2008.0</td>\n",
       "      <td>No</td>\n",
       "      <td>Positive</td>\n",
       "      <td>No</td>\n",
       "      <td>Permissive</td>\n",
       "      <td>2.0</td>\n",
       "      <td>No</td>\n",
       "      <td>72.290001</td>\n",
       "      <td>No</td>\n",
       "      <td>2.0</td>\n",
       "      <td>No</td>\n",
       "      <td>43.705002</td>\n",
       "      <td>2.0</td>\n",
       "      <td>Other GVHD Prophylaxis</td>\n",
       "      <td>No</td>\n",
       "      <td>F-F</td>\n",
       "      <td>2.0</td>\n",
       "      <td>Asian</td>\n",
       "      <td>3.0</td>\n",
       "      <td>90.0</td>\n",
       "      <td>No</td>\n",
       "      <td>Permissive mismatched</td>\n",
       "      <td>Related</td>\n",
       "      <td>N/A, Mel not given</td>\n",
       "      <td>8.0</td>\n",
       "      <td>No</td>\n",
       "      <td>2.0</td>\n",
       "      <td>Yes</td>\n",
       "      <td>10.0</td>\n",
       "    </tr>\n",
       "    <tr>\n",
       "      <th>2</th>\n",
       "      <td>28802</td>\n",
       "      <td>N/A - non-malignant indication</td>\n",
       "      <td>No</td>\n",
       "      <td>Unknown</td>\n",
       "      <td>No</td>\n",
       "      <td>2.0</td>\n",
       "      <td>8.0</td>\n",
       "      <td>No TBI</td>\n",
       "      <td>No</td>\n",
       "      <td>6.0</td>\n",
       "      <td>Bone marrow</td>\n",
       "      <td>No</td>\n",
       "      <td>No</td>\n",
       "      <td>No</td>\n",
       "      <td>HIS</td>\n",
       "      <td>6.0</td>\n",
       "      <td>+/+</td>\n",
       "      <td>10.0</td>\n",
       "      <td>2.0</td>\n",
       "      <td>P/P</td>\n",
       "      <td>6.0</td>\n",
       "      <td>2.0</td>\n",
       "      <td>No</td>\n",
       "      <td>2.0</td>\n",
       "      <td>2.0</td>\n",
       "      <td>BM</td>\n",
       "      <td>Unknown</td>\n",
       "      <td>Unknown</td>\n",
       "      <td>Not Hispanic or Latino</td>\n",
       "      <td>2019.0</td>\n",
       "      <td>No</td>\n",
       "      <td>Unknown</td>\n",
       "      <td>Yes</td>\n",
       "      <td>Unknown</td>\n",
       "      <td>2.0</td>\n",
       "      <td>No</td>\n",
       "      <td>-1.000000</td>\n",
       "      <td>No</td>\n",
       "      <td>2.0</td>\n",
       "      <td>No</td>\n",
       "      <td>33.997002</td>\n",
       "      <td>2.0</td>\n",
       "      <td>Cyclophosphamide alone</td>\n",
       "      <td>No</td>\n",
       "      <td>F-M</td>\n",
       "      <td>2.0</td>\n",
       "      <td>More than one race</td>\n",
       "      <td>0.0</td>\n",
       "      <td>90.0</td>\n",
       "      <td>No</td>\n",
       "      <td>Permissive mismatched</td>\n",
       "      <td>Related</td>\n",
       "      <td>N/A, Mel not given</td>\n",
       "      <td>8.0</td>\n",
       "      <td>No</td>\n",
       "      <td>2.0</td>\n",
       "      <td>No</td>\n",
       "      <td>10.0</td>\n",
       "    </tr>\n",
       "  </tbody>\n",
       "</table>\n",
       "</div>"
      ],
      "text/plain": [
       "      ID                       dri_score psych_disturb    cyto_score diabetes  \\\n",
       "0  28800  N/A - non-malignant indication            No       Unknown       No   \n",
       "1  28801                    Intermediate            No  Intermediate       No   \n",
       "2  28802  N/A - non-malignant indication            No       Unknown       No   \n",
       "\n",
       "   hla_match_c_high  hla_high_res_8          tbi_status arrhythmia  \\\n",
       "0              -1.0             6.0              No TBI         No   \n",
       "1               2.0             8.0  TBI +- Other, >cGy         No   \n",
       "2               2.0             8.0              No TBI         No   \n",
       "\n",
       "   hla_low_res_6        graft_type vent_hist renal_issue pulm_severe  \\\n",
       "0            6.0       Bone marrow        No          No          No   \n",
       "1            6.0  Peripheral blood        No          No          No   \n",
       "2            6.0       Bone marrow        No          No          No   \n",
       "\n",
       "  prim_disease_hct  hla_high_res_6 cmv_status  hla_high_res_10  \\\n",
       "0              IEA             6.0        +/+              8.0   \n",
       "1              AML             6.0        +/+             10.0   \n",
       "2              HIS             6.0        +/+             10.0   \n",
       "\n",
       "   hla_match_dqb1_high tce_imm_match  hla_nmdp_6  hla_match_c_low rituximab  \\\n",
       "0                  2.0       Unknown         6.0              2.0        No   \n",
       "1                  2.0           P/P         6.0              2.0        No   \n",
       "2                  2.0           P/P         6.0              2.0        No   \n",
       "\n",
       "   hla_match_drb1_low  hla_match_dqb1_low prod_type cyto_score_detail  \\\n",
       "0                 2.0                 2.0        BM           Unknown   \n",
       "1                 2.0                 2.0        PB      Intermediate   \n",
       "2                 2.0                 2.0        BM           Unknown   \n",
       "\n",
       "  conditioning_intensity               ethnicity  year_hct obesity   mrd_hct  \\\n",
       "0                Unknown  Not Hispanic or Latino    2016.0      No   Unknown   \n",
       "1                    MAC  Not Hispanic or Latino    2008.0      No  Positive   \n",
       "2                Unknown  Not Hispanic or Latino    2019.0      No   Unknown   \n",
       "\n",
       "  in_vivo_tcd   tce_match  hla_match_a_high hepatic_severe  donor_age  \\\n",
       "0         Yes     Unknown               2.0             No  -1.000000   \n",
       "1          No  Permissive               2.0             No  72.290001   \n",
       "2         Yes     Unknown               2.0             No  -1.000000   \n",
       "\n",
       "  prior_tumor  hla_match_b_low peptic_ulcer  age_at_hct  hla_match_a_low  \\\n",
       "0          No              2.0           No    9.942000              2.0   \n",
       "1          No              2.0           No   43.705002              2.0   \n",
       "2          No              2.0           No   33.997002              2.0   \n",
       "\n",
       "               gvhd_proph rheum_issue sex_match  hla_match_b_high  \\\n",
       "0                 FKalone          No       M-F               2.0   \n",
       "1  Other GVHD Prophylaxis          No       F-F               2.0   \n",
       "2  Cyclophosphamide alone          No       F-M               2.0   \n",
       "\n",
       "           race_group  comorbidity_score  karnofsky_score hepatic_mild  \\\n",
       "0  More than one race                0.0             90.0           No   \n",
       "1               Asian                3.0             90.0           No   \n",
       "2  More than one race                0.0             90.0           No   \n",
       "\n",
       "           tce_div_match donor_related      melphalan_dose  hla_low_res_8  \\\n",
       "0                Unknown     Unrelated  N/A, Mel not given            8.0   \n",
       "1  Permissive mismatched       Related  N/A, Mel not given            8.0   \n",
       "2  Permissive mismatched       Related  N/A, Mel not given            8.0   \n",
       "\n",
       "  cardiac  hla_match_drb1_high pulm_moderate  hla_low_res_10  \n",
       "0      No                  2.0            No            10.0  \n",
       "1      No                  2.0           Yes            10.0  \n",
       "2      No                  2.0            No            10.0  "
      ]
     },
     "metadata": {},
     "output_type": "display_data"
    }
   ],
   "source": [
    "test_data, _ = fe.apply_fe(CFG.test_path)"
   ]
  },
  {
   "cell_type": "markdown",
   "id": "4cc3f390",
   "metadata": {
    "papermill": {
     "duration": 0.012261,
     "end_time": "2025-01-19T11:41:09.167704",
     "exception": false,
     "start_time": "2025-01-19T11:41:09.155443",
     "status": "completed"
    },
    "tags": []
   },
   "source": [
    "<p style=\"background-color: rgb(247, 230, 202); font-size: 300%; text-align: center; border-radius: 40px 40px; color: rgb(162, 87, 79); font-weight: bold; font-family: 'Roboto'; border: 4px solid rgb(162, 87, 79);\">Model Development</p>"
   ]
  },
  {
   "cell_type": "code",
   "execution_count": 13,
   "id": "c5acb9c1",
   "metadata": {
    "execution": {
     "iopub.execute_input": "2025-01-19T11:41:09.193715Z",
     "iopub.status.busy": "2025-01-19T11:41:09.193229Z",
     "iopub.status.idle": "2025-01-19T11:41:09.209770Z",
     "shell.execute_reply": "2025-01-19T11:41:09.208519Z"
    },
    "papermill": {
     "duration": 0.032483,
     "end_time": "2025-01-19T11:41:09.212005",
     "exception": false,
     "start_time": "2025-01-19T11:41:09.179522",
     "status": "completed"
    },
    "tags": []
   },
   "outputs": [],
   "source": [
    "class EDA:\n",
    "    \n",
    "    def __init__(self, colorscale, color, data):\n",
    "        self._colorscale = colorscale\n",
    "        self._color = color  \n",
    "        self.data = data\n",
    "\n",
    "    def _template(self, fig, title):\n",
    "        \n",
    "        fig.update_layout(\n",
    "            title=title,\n",
    "            title_x=0.5, \n",
    "            plot_bgcolor='rgba(247, 230, 202, 1)',  \n",
    "            paper_bgcolor='rgba(247, 230, 202, 1)', \n",
    "            font=dict(color=self._color),\n",
    "            margin=dict(l=72, r=72, t=72, b=72), \n",
    "            height=720\n",
    "        )\n",
    "        \n",
    "        return fig\n",
    "\n",
    "    def distribution_plot(self, col, title):\n",
    "        \n",
    "        fig = px.histogram(\n",
    "            self.data,\n",
    "            x=col,\n",
    "            nbins=100,\n",
    "            color_discrete_sequence=[self._color]\n",
    "        )\n",
    "        \n",
    "        fig.update_layout(\n",
    "            xaxis_title='Values',\n",
    "            yaxis_title='Count',\n",
    "            bargap=0.1,\n",
    "            xaxis=dict(gridcolor='grey'),\n",
    "            yaxis=dict(gridcolor='grey', zerolinecolor='grey')\n",
    "        )\n",
    "        \n",
    "        fig.update_traces(hovertemplate='Value: %{x:.2f}<br>Count: %{y:,}')\n",
    "        \n",
    "        fig = self._template(fig, f'{title}')\n",
    "        fig.show()\n",
    "    \n",
    "    def bar_chart(self, col):\n",
    "        \n",
    "        value_counts = self.data[col].value_counts().reset_index()\n",
    "        value_counts.columns = [col, 'count']\n",
    "        \n",
    "        fig = px.bar(\n",
    "            value_counts,\n",
    "            y=col,\n",
    "            x='count',\n",
    "            orientation='h',\n",
    "            color='count',\n",
    "            color_continuous_scale=self._colorscale,\n",
    "        )\n",
    "        \n",
    "        fig.update_layout(\n",
    "            xaxis_title='Count',\n",
    "            yaxis_title='',\n",
    "            xaxis=dict(gridcolor='grey'),\n",
    "            yaxis=dict(gridcolor='grey', zerolinecolor='grey')\n",
    "        )\n",
    "        \n",
    "        fig.update_traces(\n",
    "            hovertemplate=(\n",
    "                f'<b>{col}:</b> %{{y}}<br>'\n",
    "                '<b>Count:</b> %{x:,}<br>'\n",
    "            ),\n",
    "            hoverlabel=dict(\n",
    "                font=dict(color=self._color),\n",
    "                bgcolor='rgba(247, 230, 202, 1)'\n",
    "            )\n",
    "        )\n",
    "        \n",
    "        fig = self._template(fig, f'{col}')\n",
    "        fig.show()\n",
    "        \n",
    "    def _plot_cv(self, scores, title, metric='Stratified C-Index'):\n",
    "        \n",
    "        fold_scores = [round(score, 3) for score in scores]\n",
    "        mean_score = round(np.mean(scores), 3)\n",
    "\n",
    "        fig = go.Figure()\n",
    "\n",
    "        fig.add_trace(go.Scatter(\n",
    "            x = list(range(1, len(fold_scores) + 1)),\n",
    "            y = fold_scores,\n",
    "            mode = 'markers', \n",
    "            name = 'Fold Scores',\n",
    "            marker = dict(size = 27, color=self._color, symbol='diamond'),\n",
    "            text = [f'{score:.3f}' for score in fold_scores],\n",
    "            hovertemplate = 'Fold %{x}: %{text}<extra></extra>',\n",
    "            hoverlabel = dict(font=dict(size=18))  \n",
    "        ))\n",
    "\n",
    "        fig.add_trace(go.Scatter(\n",
    "            x = [1, len(fold_scores)],\n",
    "            y = [mean_score, mean_score],\n",
    "            mode = 'lines',\n",
    "            name = f'Mean: {mean_score:.3f}',\n",
    "            line = dict(dash = 'dash', color = '#B22222'),\n",
    "            hoverinfo = 'none'\n",
    "        ))\n",
    "        \n",
    "        fig.update_layout(\n",
    "            title = f'{title} | Cross-validation Mean {metric} Score: {mean_score}',\n",
    "            xaxis_title = 'Fold',\n",
    "            yaxis_title = f'{metric} Score',\n",
    "            plot_bgcolor = 'rgba(247, 230, 202, 1)',  \n",
    "            paper_bgcolor = 'rgba(247, 230, 202, 1)',\n",
    "            font = dict(color=self._color), \n",
    "            xaxis = dict(\n",
    "                gridcolor = 'grey',\n",
    "                tickmode = 'linear',\n",
    "                tick0 = 1,\n",
    "                dtick = 1,\n",
    "                range = [0.5, len(fold_scores) + 0.5],\n",
    "                zerolinecolor = 'grey'\n",
    "            ),\n",
    "            yaxis = dict(\n",
    "                gridcolor = 'grey',\n",
    "                zerolinecolor = 'grey'\n",
    "            )\n",
    "        )\n",
    "        \n",
    "        fig.show()"
   ]
  },
  {
   "cell_type": "code",
   "execution_count": 14,
   "id": "ec6dcc1a",
   "metadata": {
    "execution": {
     "iopub.execute_input": "2025-01-19T11:41:09.238348Z",
     "iopub.status.busy": "2025-01-19T11:41:09.237951Z",
     "iopub.status.idle": "2025-01-19T11:41:09.253929Z",
     "shell.execute_reply": "2025-01-19T11:41:09.252725Z"
    },
    "papermill": {
     "duration": 0.032189,
     "end_time": "2025-01-19T11:41:09.256067",
     "exception": false,
     "start_time": "2025-01-19T11:41:09.223878",
     "status": "completed"
    },
    "tags": []
   },
   "outputs": [],
   "source": [
    "class Targets:\n",
    "\n",
    "    def __init__(self, data, cat_cols, penalizer, n_splits):\n",
    "        \n",
    "        self.data = data\n",
    "        self.cat_cols = cat_cols\n",
    "        \n",
    "        self._length = len(self.data)\n",
    "        self._penalizer = penalizer\n",
    "        self._n_splits = n_splits\n",
    "\n",
    "    def _prepare_cv(self):\n",
    "        \n",
    "        oof_preds = np.zeros(self._length)\n",
    "            \n",
    "        cv = KFold(n_splits=self._n_splits, shuffle=True, random_state=42)\n",
    "\n",
    "        return cv, oof_preds\n",
    "\n",
    "    def validate_model(self, preds, title):\n",
    "            \n",
    "        y_true = self.data[['ID', 'efs', 'efs_time', 'race_group']].copy()\n",
    "        y_pred = self.data[['ID']].copy()\n",
    "        \n",
    "        y_pred['prediction'] = preds\n",
    "            \n",
    "        c_index_score = score(y_true.copy(), y_pred.copy(), 'ID')\n",
    "        print(f'Overall Stratified C-Index Score for {title}: {c_index_score:.4f}')\n",
    "\n",
    "    def create_target1(self):  \n",
    "\n",
    "        '''\n",
    "        Constant columns are dropped if they exist in a fold. Otherwise, the code produces error:\n",
    "\n",
    "        delta contains nan value(s). Convergence halted. Please see the following tips in the lifelines documentation: \n",
    "        https://lifelines.readthedocs.io/en/latest/Examples.html#problems-with-convergence-in-the-cox-proportional-hazard-model\n",
    "        '''\n",
    "\n",
    "        cv, oof_preds = self._prepare_cv()\n",
    "\n",
    "        # Apply one hot encoding to categorical columns\n",
    "        data = pd.get_dummies(self.data, columns=self.cat_cols, drop_first=True).drop('ID', axis=1) \n",
    "\n",
    "        for train_index, valid_index in cv.split(data):\n",
    "\n",
    "            train_data = data.iloc[train_index]\n",
    "            valid_data = data.iloc[valid_index]\n",
    "\n",
    "            # Drop constant columns if they exist\n",
    "            train_data = train_data.loc[:, train_data.nunique() > 1]\n",
    "            valid_data = valid_data[train_data.columns]\n",
    "\n",
    "            cph = CoxPHFitter(penalizer=self._penalizer)\n",
    "            cph.fit(train_data, duration_col='efs_time', event_col='efs')\n",
    "            \n",
    "            oof_preds[valid_index] = cph.predict_partial_hazard(valid_data)              \n",
    "\n",
    "        self.data['target1'] = oof_preds \n",
    "        self.validate_model(oof_preds, 'Cox') \n",
    "\n",
    "        return self.data\n",
    "\n",
    "    def create_target2(self):        \n",
    "\n",
    "        cv, oof_preds = self._prepare_cv()\n",
    "\n",
    "        for train_index, valid_index in cv.split(self.data):\n",
    "\n",
    "            train_data = self.data.iloc[train_index]\n",
    "            valid_data = self.data.iloc[valid_index]\n",
    "\n",
    "            kmf = KaplanMeierFitter()\n",
    "            kmf.fit(durations=train_data['efs_time'], event_observed=train_data['efs'])\n",
    "            \n",
    "            oof_preds[valid_index] = kmf.survival_function_at_times(valid_data['efs_time']).values\n",
    "\n",
    "        self.data['target2'] = oof_preds  \n",
    "        self.validate_model(oof_preds, 'Kaplan-Meier')\n",
    "\n",
    "        return self.data\n",
    "\n",
    "    def create_target3(self):        \n",
    "\n",
    "        cv, oof_preds = self._prepare_cv()\n",
    "\n",
    "        for train_index, valid_index in cv.split(self.data):\n",
    "\n",
    "            train_data = self.data.iloc[train_index]\n",
    "            valid_data = self.data.iloc[valid_index]\n",
    "            \n",
    "            naf = NelsonAalenFitter()\n",
    "            naf.fit(durations=train_data['efs_time'], event_observed=train_data['efs'])\n",
    "            \n",
    "            oof_preds[valid_index] = -naf.cumulative_hazard_at_times(valid_data['efs_time']).values\n",
    "\n",
    "        self.data['target3'] = oof_preds  \n",
    "        self.validate_model(oof_preds, 'Nelson-Aalen')\n",
    "\n",
    "        return self.data\n",
    "\n",
    "    def create_target4(self):\n",
    "\n",
    "        self.data['target4'] = self.data.efs_time.copy()\n",
    "        self.data.loc[self.data.efs == 0, 'target4'] *= -1\n",
    "\n",
    "        return self.data"
   ]
  },
  {
   "cell_type": "code",
   "execution_count": 15,
   "id": "9e3c6542",
   "metadata": {
    "_kg_hide-input": false,
    "execution": {
     "iopub.execute_input": "2025-01-19T11:41:09.297530Z",
     "iopub.status.busy": "2025-01-19T11:41:09.296987Z",
     "iopub.status.idle": "2025-01-19T11:41:09.318827Z",
     "shell.execute_reply": "2025-01-19T11:41:09.317535Z"
    },
    "papermill": {
     "duration": 0.045797,
     "end_time": "2025-01-19T11:41:09.321081",
     "exception": false,
     "start_time": "2025-01-19T11:41:09.275284",
     "status": "completed"
    },
    "tags": []
   },
   "outputs": [],
   "source": [
    "class MD:\n",
    "    \n",
    "    def __init__(self, colorscale, color, data, cat_cols, early_stop, penalizer, n_splits):\n",
    "        \n",
    "        self.eda = EDA(colorscale, color, data)\n",
    "        self.targets = Targets(data, cat_cols, penalizer, n_splits)\n",
    "        \n",
    "        self.data = data\n",
    "        self.cat_cols = cat_cols\n",
    "        self._early_stop = early_stop\n",
    "\n",
    "    def create_targets(self):\n",
    "\n",
    "        self.data = self.targets.create_target1()\n",
    "        self.data = self.targets.create_target2()\n",
    "        self.data = self.targets.create_target3()\n",
    "        self.data = self.targets.create_target4()\n",
    "\n",
    "        return self.data\n",
    "        \n",
    "    def train_model(self, params, target, title):\n",
    "        \n",
    "        for col in self.cat_cols:\n",
    "            self.data[col] = self.data[col].astype('category')\n",
    "            \n",
    "        X = self.data.drop(['ID', 'efs', 'efs_time', 'target1', 'target2', 'target3', 'target4'], axis=1)\n",
    "        y = self.data[target]\n",
    "        \n",
    "        models, fold_scores = [], []\n",
    "            \n",
    "        cv, oof_preds = self.targets._prepare_cv()\n",
    "    \n",
    "        for fold, (train_index, valid_index) in enumerate(cv.split(X, y)):\n",
    "                \n",
    "            X_train = X.iloc[train_index]\n",
    "            X_valid = X.iloc[valid_index]\n",
    "                \n",
    "            y_train = y.iloc[train_index]\n",
    "            y_valid = y.iloc[valid_index]\n",
    "    \n",
    "            if title.startswith('LightGBM'):\n",
    "                        \n",
    "                model = lgb.LGBMRegressor(**params)\n",
    "                        \n",
    "                model.fit(\n",
    "                    X_train, \n",
    "                    y_train,  \n",
    "                    eval_set=[(X_valid, y_valid)],\n",
    "                    eval_metric='rmse',\n",
    "                    callbacks=[lgb.early_stopping(self._early_stop, verbose=0), lgb.log_evaluation(0)]\n",
    "                )\n",
    "                        \n",
    "            elif title.startswith('CatBoost'):\n",
    "                        \n",
    "                model = CatBoostRegressor(**params, verbose=0, cat_features=self.cat_cols)\n",
    "                        \n",
    "                model.fit(\n",
    "                    X_train,\n",
    "                    y_train,\n",
    "                    eval_set=(X_valid, y_valid),\n",
    "                    early_stopping_rounds=self._early_stop, \n",
    "                    verbose=0\n",
    "                )               \n",
    "                    \n",
    "            models.append(model)\n",
    "                \n",
    "            oof_preds[valid_index] = model.predict(X_valid)\n",
    "\n",
    "            y_true_fold = self.data.iloc[valid_index][['ID', 'efs', 'efs_time', 'race_group']].copy()\n",
    "            y_pred_fold = self.data.iloc[valid_index][['ID']].copy()\n",
    "            \n",
    "            y_pred_fold['prediction'] = oof_preds[valid_index]\n",
    "    \n",
    "            fold_score = score(y_true_fold, y_pred_fold, 'ID')\n",
    "            fold_scores.append(fold_score)\n",
    "    \n",
    "        self.eda._plot_cv(fold_scores, title)\n",
    "        self.targets.validate_model(oof_preds, title)\n",
    "        \n",
    "        return models, oof_preds\n",
    "\n",
    "    def infer_model(self, data, models):\n",
    "        \n",
    "        data = data.drop(['ID'], axis=1)\n",
    "\n",
    "        for col in self.cat_cols:\n",
    "            data[col] = data[col].astype('category')\n",
    "\n",
    "        return np.mean([model.predict(data) for model in models], axis=0)"
   ]
  },
  {
   "cell_type": "code",
   "execution_count": 16,
   "id": "e5ff1004",
   "metadata": {
    "_kg_hide-input": false,
    "execution": {
     "iopub.execute_input": "2025-01-19T11:41:09.348649Z",
     "iopub.status.busy": "2025-01-19T11:41:09.348118Z",
     "iopub.status.idle": "2025-01-19T11:41:09.354562Z",
     "shell.execute_reply": "2025-01-19T11:41:09.353267Z"
    },
    "papermill": {
     "duration": 0.022399,
     "end_time": "2025-01-19T11:41:09.356796",
     "exception": false,
     "start_time": "2025-01-19T11:41:09.334397",
     "status": "completed"
    },
    "tags": []
   },
   "outputs": [],
   "source": [
    "md = MD(CFG.colorscale, CFG.color, train_data, cat_cols, CFG.early_stop, CFG.penalizer, CFG.n_splits)"
   ]
  },
  {
   "cell_type": "code",
   "execution_count": 17,
   "id": "97681a7a",
   "metadata": {
    "execution": {
     "iopub.execute_input": "2025-01-19T11:41:09.384202Z",
     "iopub.status.busy": "2025-01-19T11:41:09.383689Z",
     "iopub.status.idle": "2025-01-19T11:43:32.243148Z",
     "shell.execute_reply": "2025-01-19T11:43:32.241986Z"
    },
    "papermill": {
     "duration": 142.87517,
     "end_time": "2025-01-19T11:43:32.245400",
     "exception": false,
     "start_time": "2025-01-19T11:41:09.370230",
     "status": "completed"
    },
    "tags": []
   },
   "outputs": [
    {
     "name": "stdout",
     "output_type": "stream",
     "text": [
      "Overall Stratified C-Index Score for Cox: 0.6564\n",
      "Overall Stratified C-Index Score for Kaplan-Meier: 0.9983\n",
      "Overall Stratified C-Index Score for Nelson-Aalen: 0.9983\n"
     ]
    }
   ],
   "source": [
    "train_data = md.create_targets()"
   ]
  },
  {
   "cell_type": "code",
   "execution_count": 18,
   "id": "725a66c2",
   "metadata": {
    "execution": {
     "iopub.execute_input": "2025-01-19T11:43:32.270708Z",
     "iopub.status.busy": "2025-01-19T11:43:32.270346Z",
     "iopub.status.idle": "2025-01-19T11:43:34.089184Z",
     "shell.execute_reply": "2025-01-19T11:43:34.088167Z"
    },
    "papermill": {
     "duration": 1.834122,
     "end_time": "2025-01-19T11:43:34.091483",
     "exception": false,
     "start_time": "2025-01-19T11:43:32.257361",
     "status": "completed"
    },
    "tags": []
   },
   "outputs": [
    {
     "data": {
      "text/html": [
       "<iframe\n",
       "    scrolling=\"no\"\n",
       "    width=\"100%\"\n",
       "    height=\"740\"\n",
       "    src=\"iframe_figures/figure_18.html\"\n",
       "    frameborder=\"0\"\n",
       "    allowfullscreen\n",
       "></iframe>\n"
      ]
     },
     "metadata": {},
     "output_type": "display_data"
    }
   ],
   "source": [
    "md.eda.bar_chart('race_group')"
   ]
  },
  {
   "cell_type": "code",
   "execution_count": 19,
   "id": "0a908d8d",
   "metadata": {
    "execution": {
     "iopub.execute_input": "2025-01-19T11:43:34.117639Z",
     "iopub.status.busy": "2025-01-19T11:43:34.117198Z",
     "iopub.status.idle": "2025-01-19T11:43:34.227740Z",
     "shell.execute_reply": "2025-01-19T11:43:34.226751Z"
    },
    "papermill": {
     "duration": 0.12594,
     "end_time": "2025-01-19T11:43:34.229645",
     "exception": false,
     "start_time": "2025-01-19T11:43:34.103705",
     "status": "completed"
    },
    "tags": []
   },
   "outputs": [
    {
     "data": {
      "text/html": [
       "<iframe\n",
       "    scrolling=\"no\"\n",
       "    width=\"100%\"\n",
       "    height=\"740\"\n",
       "    src=\"iframe_figures/figure_19.html\"\n",
       "    frameborder=\"0\"\n",
       "    allowfullscreen\n",
       "></iframe>\n"
      ]
     },
     "metadata": {},
     "output_type": "display_data"
    }
   ],
   "source": [
    "md.eda.distribution_plot('target1', 'Cox Target')"
   ]
  },
  {
   "cell_type": "code",
   "execution_count": 20,
   "id": "d3e1e58d",
   "metadata": {
    "execution": {
     "iopub.execute_input": "2025-01-19T11:43:34.255671Z",
     "iopub.status.busy": "2025-01-19T11:43:34.254874Z",
     "iopub.status.idle": "2025-01-19T11:43:34.331803Z",
     "shell.execute_reply": "2025-01-19T11:43:34.330801Z"
    },
    "papermill": {
     "duration": 0.092174,
     "end_time": "2025-01-19T11:43:34.333898",
     "exception": false,
     "start_time": "2025-01-19T11:43:34.241724",
     "status": "completed"
    },
    "tags": []
   },
   "outputs": [
    {
     "data": {
      "text/html": [
       "<iframe\n",
       "    scrolling=\"no\"\n",
       "    width=\"100%\"\n",
       "    height=\"740\"\n",
       "    src=\"iframe_figures/figure_20.html\"\n",
       "    frameborder=\"0\"\n",
       "    allowfullscreen\n",
       "></iframe>\n"
      ]
     },
     "metadata": {},
     "output_type": "display_data"
    }
   ],
   "source": [
    "md.eda.distribution_plot('target2', 'Kaplan-Meier Target')"
   ]
  },
  {
   "cell_type": "code",
   "execution_count": 21,
   "id": "19dcabef",
   "metadata": {
    "execution": {
     "iopub.execute_input": "2025-01-19T11:43:34.360427Z",
     "iopub.status.busy": "2025-01-19T11:43:34.359589Z",
     "iopub.status.idle": "2025-01-19T11:43:34.436916Z",
     "shell.execute_reply": "2025-01-19T11:43:34.435834Z"
    },
    "papermill": {
     "duration": 0.092863,
     "end_time": "2025-01-19T11:43:34.438966",
     "exception": false,
     "start_time": "2025-01-19T11:43:34.346103",
     "status": "completed"
    },
    "tags": []
   },
   "outputs": [
    {
     "data": {
      "text/html": [
       "<iframe\n",
       "    scrolling=\"no\"\n",
       "    width=\"100%\"\n",
       "    height=\"740\"\n",
       "    src=\"iframe_figures/figure_21.html\"\n",
       "    frameborder=\"0\"\n",
       "    allowfullscreen\n",
       "></iframe>\n"
      ]
     },
     "metadata": {},
     "output_type": "display_data"
    }
   ],
   "source": [
    "md.eda.distribution_plot('target3', 'Nelson-Aalen Target')"
   ]
  },
  {
   "cell_type": "code",
   "execution_count": 22,
   "id": "a8da4b20",
   "metadata": {
    "execution": {
     "iopub.execute_input": "2025-01-19T11:43:34.465215Z",
     "iopub.status.busy": "2025-01-19T11:43:34.464867Z",
     "iopub.status.idle": "2025-01-19T11:43:34.538725Z",
     "shell.execute_reply": "2025-01-19T11:43:34.537680Z"
    },
    "papermill": {
     "duration": 0.089494,
     "end_time": "2025-01-19T11:43:34.540862",
     "exception": false,
     "start_time": "2025-01-19T11:43:34.451368",
     "status": "completed"
    },
    "tags": []
   },
   "outputs": [
    {
     "data": {
      "text/html": [
       "<iframe\n",
       "    scrolling=\"no\"\n",
       "    width=\"100%\"\n",
       "    height=\"740\"\n",
       "    src=\"iframe_figures/figure_22.html\"\n",
       "    frameborder=\"0\"\n",
       "    allowfullscreen\n",
       "></iframe>\n"
      ]
     },
     "metadata": {},
     "output_type": "display_data"
    }
   ],
   "source": [
    "md.eda.distribution_plot('target4', 'Cox-Loss Target')"
   ]
  },
  {
   "cell_type": "code",
   "execution_count": 23,
   "id": "ed2d23aa",
   "metadata": {
    "execution": {
     "iopub.execute_input": "2025-01-19T11:43:34.570496Z",
     "iopub.status.busy": "2025-01-19T11:43:34.569299Z",
     "iopub.status.idle": "2025-01-19T11:43:34.619762Z",
     "shell.execute_reply": "2025-01-19T11:43:34.618713Z"
    },
    "papermill": {
     "duration": 0.066464,
     "end_time": "2025-01-19T11:43:34.621703",
     "exception": false,
     "start_time": "2025-01-19T11:43:34.555239",
     "status": "completed"
    },
    "tags": []
   },
   "outputs": [
    {
     "name": "stdout",
     "output_type": "stream",
     "text": [
      "\n",
      "Shape of dataframe: (28800, 64)\n",
      "Memory usage: 11.21 MB\n",
      "\n"
     ]
    },
    {
     "data": {
      "text/html": [
       "<div>\n",
       "<style scoped>\n",
       "    .dataframe tbody tr th:only-of-type {\n",
       "        vertical-align: middle;\n",
       "    }\n",
       "\n",
       "    .dataframe tbody tr th {\n",
       "        vertical-align: top;\n",
       "    }\n",
       "\n",
       "    .dataframe thead th {\n",
       "        text-align: right;\n",
       "    }\n",
       "</style>\n",
       "<table border=\"1\" class=\"dataframe\">\n",
       "  <thead>\n",
       "    <tr style=\"text-align: right;\">\n",
       "      <th></th>\n",
       "      <th>ID</th>\n",
       "      <th>dri_score</th>\n",
       "      <th>psych_disturb</th>\n",
       "      <th>cyto_score</th>\n",
       "      <th>diabetes</th>\n",
       "      <th>hla_match_c_high</th>\n",
       "      <th>hla_high_res_8</th>\n",
       "      <th>tbi_status</th>\n",
       "      <th>arrhythmia</th>\n",
       "      <th>hla_low_res_6</th>\n",
       "      <th>graft_type</th>\n",
       "      <th>vent_hist</th>\n",
       "      <th>renal_issue</th>\n",
       "      <th>pulm_severe</th>\n",
       "      <th>prim_disease_hct</th>\n",
       "      <th>hla_high_res_6</th>\n",
       "      <th>cmv_status</th>\n",
       "      <th>hla_high_res_10</th>\n",
       "      <th>hla_match_dqb1_high</th>\n",
       "      <th>tce_imm_match</th>\n",
       "      <th>hla_nmdp_6</th>\n",
       "      <th>hla_match_c_low</th>\n",
       "      <th>rituximab</th>\n",
       "      <th>hla_match_drb1_low</th>\n",
       "      <th>hla_match_dqb1_low</th>\n",
       "      <th>prod_type</th>\n",
       "      <th>cyto_score_detail</th>\n",
       "      <th>conditioning_intensity</th>\n",
       "      <th>ethnicity</th>\n",
       "      <th>year_hct</th>\n",
       "      <th>obesity</th>\n",
       "      <th>mrd_hct</th>\n",
       "      <th>in_vivo_tcd</th>\n",
       "      <th>tce_match</th>\n",
       "      <th>hla_match_a_high</th>\n",
       "      <th>hepatic_severe</th>\n",
       "      <th>donor_age</th>\n",
       "      <th>prior_tumor</th>\n",
       "      <th>hla_match_b_low</th>\n",
       "      <th>peptic_ulcer</th>\n",
       "      <th>age_at_hct</th>\n",
       "      <th>hla_match_a_low</th>\n",
       "      <th>gvhd_proph</th>\n",
       "      <th>rheum_issue</th>\n",
       "      <th>sex_match</th>\n",
       "      <th>hla_match_b_high</th>\n",
       "      <th>race_group</th>\n",
       "      <th>comorbidity_score</th>\n",
       "      <th>karnofsky_score</th>\n",
       "      <th>hepatic_mild</th>\n",
       "      <th>tce_div_match</th>\n",
       "      <th>donor_related</th>\n",
       "      <th>melphalan_dose</th>\n",
       "      <th>hla_low_res_8</th>\n",
       "      <th>cardiac</th>\n",
       "      <th>hla_match_drb1_high</th>\n",
       "      <th>pulm_moderate</th>\n",
       "      <th>hla_low_res_10</th>\n",
       "      <th>efs</th>\n",
       "      <th>efs_time</th>\n",
       "      <th>target1</th>\n",
       "      <th>target2</th>\n",
       "      <th>target3</th>\n",
       "      <th>target4</th>\n",
       "    </tr>\n",
       "  </thead>\n",
       "  <tbody>\n",
       "    <tr>\n",
       "      <th>0</th>\n",
       "      <td>0</td>\n",
       "      <td>N/A - non-malignant indication</td>\n",
       "      <td>No</td>\n",
       "      <td>Unknown</td>\n",
       "      <td>No</td>\n",
       "      <td>-1.0</td>\n",
       "      <td>6.0</td>\n",
       "      <td>No TBI</td>\n",
       "      <td>No</td>\n",
       "      <td>6.0</td>\n",
       "      <td>Bone marrow</td>\n",
       "      <td>No</td>\n",
       "      <td>No</td>\n",
       "      <td>No</td>\n",
       "      <td>IEA</td>\n",
       "      <td>6.0</td>\n",
       "      <td>+/+</td>\n",
       "      <td>8.0</td>\n",
       "      <td>2.0</td>\n",
       "      <td>Unknown</td>\n",
       "      <td>6.0</td>\n",
       "      <td>2.0</td>\n",
       "      <td>No</td>\n",
       "      <td>2.0</td>\n",
       "      <td>2.0</td>\n",
       "      <td>BM</td>\n",
       "      <td>Unknown</td>\n",
       "      <td>Unknown</td>\n",
       "      <td>Not Hispanic or Latino</td>\n",
       "      <td>2016.0</td>\n",
       "      <td>No</td>\n",
       "      <td>Unknown</td>\n",
       "      <td>Yes</td>\n",
       "      <td>Unknown</td>\n",
       "      <td>2.0</td>\n",
       "      <td>No</td>\n",
       "      <td>-1.000000</td>\n",
       "      <td>No</td>\n",
       "      <td>2.0</td>\n",
       "      <td>No</td>\n",
       "      <td>9.942000</td>\n",
       "      <td>2.0</td>\n",
       "      <td>FKalone</td>\n",
       "      <td>No</td>\n",
       "      <td>M-F</td>\n",
       "      <td>2.0</td>\n",
       "      <td>More than one race</td>\n",
       "      <td>0.0</td>\n",
       "      <td>90.0</td>\n",
       "      <td>No</td>\n",
       "      <td>Unknown</td>\n",
       "      <td>Unrelated</td>\n",
       "      <td>N/A, Mel not given</td>\n",
       "      <td>8.0</td>\n",
       "      <td>No</td>\n",
       "      <td>2.0</td>\n",
       "      <td>No</td>\n",
       "      <td>10.0</td>\n",
       "      <td>0.0</td>\n",
       "      <td>42.355999</td>\n",
       "      <td>0.258209</td>\n",
       "      <td>0.461962</td>\n",
       "      <td>-0.772247</td>\n",
       "      <td>-42.355999</td>\n",
       "    </tr>\n",
       "    <tr>\n",
       "      <th>1</th>\n",
       "      <td>1</td>\n",
       "      <td>Intermediate</td>\n",
       "      <td>No</td>\n",
       "      <td>Intermediate</td>\n",
       "      <td>No</td>\n",
       "      <td>2.0</td>\n",
       "      <td>8.0</td>\n",
       "      <td>TBI +- Other, &gt;cGy</td>\n",
       "      <td>No</td>\n",
       "      <td>6.0</td>\n",
       "      <td>Peripheral blood</td>\n",
       "      <td>No</td>\n",
       "      <td>No</td>\n",
       "      <td>No</td>\n",
       "      <td>AML</td>\n",
       "      <td>6.0</td>\n",
       "      <td>+/+</td>\n",
       "      <td>10.0</td>\n",
       "      <td>2.0</td>\n",
       "      <td>P/P</td>\n",
       "      <td>6.0</td>\n",
       "      <td>2.0</td>\n",
       "      <td>No</td>\n",
       "      <td>2.0</td>\n",
       "      <td>2.0</td>\n",
       "      <td>PB</td>\n",
       "      <td>Intermediate</td>\n",
       "      <td>MAC</td>\n",
       "      <td>Not Hispanic or Latino</td>\n",
       "      <td>2008.0</td>\n",
       "      <td>No</td>\n",
       "      <td>Positive</td>\n",
       "      <td>No</td>\n",
       "      <td>Permissive</td>\n",
       "      <td>2.0</td>\n",
       "      <td>No</td>\n",
       "      <td>72.290001</td>\n",
       "      <td>No</td>\n",
       "      <td>2.0</td>\n",
       "      <td>No</td>\n",
       "      <td>43.705002</td>\n",
       "      <td>2.0</td>\n",
       "      <td>Other GVHD Prophylaxis</td>\n",
       "      <td>No</td>\n",
       "      <td>F-F</td>\n",
       "      <td>2.0</td>\n",
       "      <td>Asian</td>\n",
       "      <td>3.0</td>\n",
       "      <td>90.0</td>\n",
       "      <td>No</td>\n",
       "      <td>Permissive mismatched</td>\n",
       "      <td>Related</td>\n",
       "      <td>N/A, Mel not given</td>\n",
       "      <td>8.0</td>\n",
       "      <td>No</td>\n",
       "      <td>2.0</td>\n",
       "      <td>Yes</td>\n",
       "      <td>10.0</td>\n",
       "      <td>1.0</td>\n",
       "      <td>4.672000</td>\n",
       "      <td>0.964934</td>\n",
       "      <td>0.847723</td>\n",
       "      <td>-0.165197</td>\n",
       "      <td>4.672000</td>\n",
       "    </tr>\n",
       "    <tr>\n",
       "      <th>2</th>\n",
       "      <td>2</td>\n",
       "      <td>N/A - non-malignant indication</td>\n",
       "      <td>No</td>\n",
       "      <td>Unknown</td>\n",
       "      <td>No</td>\n",
       "      <td>2.0</td>\n",
       "      <td>8.0</td>\n",
       "      <td>No TBI</td>\n",
       "      <td>No</td>\n",
       "      <td>6.0</td>\n",
       "      <td>Bone marrow</td>\n",
       "      <td>No</td>\n",
       "      <td>No</td>\n",
       "      <td>No</td>\n",
       "      <td>HIS</td>\n",
       "      <td>6.0</td>\n",
       "      <td>+/+</td>\n",
       "      <td>10.0</td>\n",
       "      <td>2.0</td>\n",
       "      <td>P/P</td>\n",
       "      <td>6.0</td>\n",
       "      <td>2.0</td>\n",
       "      <td>No</td>\n",
       "      <td>2.0</td>\n",
       "      <td>2.0</td>\n",
       "      <td>BM</td>\n",
       "      <td>Unknown</td>\n",
       "      <td>Unknown</td>\n",
       "      <td>Not Hispanic or Latino</td>\n",
       "      <td>2019.0</td>\n",
       "      <td>No</td>\n",
       "      <td>Unknown</td>\n",
       "      <td>Yes</td>\n",
       "      <td>Unknown</td>\n",
       "      <td>2.0</td>\n",
       "      <td>No</td>\n",
       "      <td>-1.000000</td>\n",
       "      <td>No</td>\n",
       "      <td>2.0</td>\n",
       "      <td>No</td>\n",
       "      <td>33.997002</td>\n",
       "      <td>2.0</td>\n",
       "      <td>Cyclophosphamide alone</td>\n",
       "      <td>No</td>\n",
       "      <td>F-M</td>\n",
       "      <td>2.0</td>\n",
       "      <td>More than one race</td>\n",
       "      <td>0.0</td>\n",
       "      <td>90.0</td>\n",
       "      <td>No</td>\n",
       "      <td>Permissive mismatched</td>\n",
       "      <td>Related</td>\n",
       "      <td>N/A, Mel not given</td>\n",
       "      <td>8.0</td>\n",
       "      <td>No</td>\n",
       "      <td>2.0</td>\n",
       "      <td>No</td>\n",
       "      <td>10.0</td>\n",
       "      <td>0.0</td>\n",
       "      <td>19.792999</td>\n",
       "      <td>0.126144</td>\n",
       "      <td>0.460785</td>\n",
       "      <td>-0.774799</td>\n",
       "      <td>-19.792999</td>\n",
       "    </tr>\n",
       "    <tr>\n",
       "      <th>3</th>\n",
       "      <td>3</td>\n",
       "      <td>High</td>\n",
       "      <td>No</td>\n",
       "      <td>Intermediate</td>\n",
       "      <td>No</td>\n",
       "      <td>2.0</td>\n",
       "      <td>8.0</td>\n",
       "      <td>No TBI</td>\n",
       "      <td>No</td>\n",
       "      <td>6.0</td>\n",
       "      <td>Bone marrow</td>\n",
       "      <td>No</td>\n",
       "      <td>No</td>\n",
       "      <td>No</td>\n",
       "      <td>ALL</td>\n",
       "      <td>6.0</td>\n",
       "      <td>+/+</td>\n",
       "      <td>10.0</td>\n",
       "      <td>2.0</td>\n",
       "      <td>P/P</td>\n",
       "      <td>6.0</td>\n",
       "      <td>2.0</td>\n",
       "      <td>No</td>\n",
       "      <td>2.0</td>\n",
       "      <td>2.0</td>\n",
       "      <td>BM</td>\n",
       "      <td>Intermediate</td>\n",
       "      <td>MAC</td>\n",
       "      <td>Not Hispanic or Latino</td>\n",
       "      <td>2009.0</td>\n",
       "      <td>No</td>\n",
       "      <td>Positive</td>\n",
       "      <td>No</td>\n",
       "      <td>Permissive</td>\n",
       "      <td>2.0</td>\n",
       "      <td>No</td>\n",
       "      <td>29.230000</td>\n",
       "      <td>No</td>\n",
       "      <td>2.0</td>\n",
       "      <td>No</td>\n",
       "      <td>43.244999</td>\n",
       "      <td>2.0</td>\n",
       "      <td>FK+ MMF +- others</td>\n",
       "      <td>No</td>\n",
       "      <td>M-M</td>\n",
       "      <td>2.0</td>\n",
       "      <td>White</td>\n",
       "      <td>0.0</td>\n",
       "      <td>90.0</td>\n",
       "      <td>Yes</td>\n",
       "      <td>Permissive mismatched</td>\n",
       "      <td>Unrelated</td>\n",
       "      <td>N/A, Mel not given</td>\n",
       "      <td>8.0</td>\n",
       "      <td>No</td>\n",
       "      <td>2.0</td>\n",
       "      <td>No</td>\n",
       "      <td>10.0</td>\n",
       "      <td>0.0</td>\n",
       "      <td>102.348999</td>\n",
       "      <td>1.338445</td>\n",
       "      <td>0.455588</td>\n",
       "      <td>-0.786139</td>\n",
       "      <td>-102.348999</td>\n",
       "    </tr>\n",
       "    <tr>\n",
       "      <th>4</th>\n",
       "      <td>4</td>\n",
       "      <td>High</td>\n",
       "      <td>No</td>\n",
       "      <td>Unknown</td>\n",
       "      <td>No</td>\n",
       "      <td>2.0</td>\n",
       "      <td>8.0</td>\n",
       "      <td>No TBI</td>\n",
       "      <td>No</td>\n",
       "      <td>6.0</td>\n",
       "      <td>Peripheral blood</td>\n",
       "      <td>No</td>\n",
       "      <td>No</td>\n",
       "      <td>No</td>\n",
       "      <td>MPN</td>\n",
       "      <td>6.0</td>\n",
       "      <td>+/+</td>\n",
       "      <td>10.0</td>\n",
       "      <td>2.0</td>\n",
       "      <td>Unknown</td>\n",
       "      <td>6.0</td>\n",
       "      <td>2.0</td>\n",
       "      <td>No</td>\n",
       "      <td>2.0</td>\n",
       "      <td>2.0</td>\n",
       "      <td>PB</td>\n",
       "      <td>Unknown</td>\n",
       "      <td>MAC</td>\n",
       "      <td>Hispanic or Latino</td>\n",
       "      <td>2018.0</td>\n",
       "      <td>No</td>\n",
       "      <td>Unknown</td>\n",
       "      <td>Yes</td>\n",
       "      <td>Unknown</td>\n",
       "      <td>2.0</td>\n",
       "      <td>No</td>\n",
       "      <td>56.810001</td>\n",
       "      <td>No</td>\n",
       "      <td>2.0</td>\n",
       "      <td>No</td>\n",
       "      <td>29.740000</td>\n",
       "      <td>2.0</td>\n",
       "      <td>TDEPLETION +- other</td>\n",
       "      <td>No</td>\n",
       "      <td>M-F</td>\n",
       "      <td>2.0</td>\n",
       "      <td>American Indian or Alaska Native</td>\n",
       "      <td>1.0</td>\n",
       "      <td>90.0</td>\n",
       "      <td>No</td>\n",
       "      <td>Permissive mismatched</td>\n",
       "      <td>Related</td>\n",
       "      <td>MEL</td>\n",
       "      <td>8.0</td>\n",
       "      <td>No</td>\n",
       "      <td>2.0</td>\n",
       "      <td>No</td>\n",
       "      <td>10.0</td>\n",
       "      <td>0.0</td>\n",
       "      <td>16.223000</td>\n",
       "      <td>0.912547</td>\n",
       "      <td>0.463916</td>\n",
       "      <td>-0.768026</td>\n",
       "      <td>-16.223000</td>\n",
       "    </tr>\n",
       "  </tbody>\n",
       "</table>\n",
       "</div>"
      ],
      "text/plain": [
       "   ID                       dri_score psych_disturb    cyto_score diabetes  \\\n",
       "0   0  N/A - non-malignant indication            No       Unknown       No   \n",
       "1   1                    Intermediate            No  Intermediate       No   \n",
       "2   2  N/A - non-malignant indication            No       Unknown       No   \n",
       "3   3                            High            No  Intermediate       No   \n",
       "4   4                            High            No       Unknown       No   \n",
       "\n",
       "   hla_match_c_high  hla_high_res_8          tbi_status arrhythmia  \\\n",
       "0              -1.0             6.0              No TBI         No   \n",
       "1               2.0             8.0  TBI +- Other, >cGy         No   \n",
       "2               2.0             8.0              No TBI         No   \n",
       "3               2.0             8.0              No TBI         No   \n",
       "4               2.0             8.0              No TBI         No   \n",
       "\n",
       "   hla_low_res_6        graft_type vent_hist renal_issue pulm_severe  \\\n",
       "0            6.0       Bone marrow        No          No          No   \n",
       "1            6.0  Peripheral blood        No          No          No   \n",
       "2            6.0       Bone marrow        No          No          No   \n",
       "3            6.0       Bone marrow        No          No          No   \n",
       "4            6.0  Peripheral blood        No          No          No   \n",
       "\n",
       "  prim_disease_hct  hla_high_res_6 cmv_status  hla_high_res_10  \\\n",
       "0              IEA             6.0        +/+              8.0   \n",
       "1              AML             6.0        +/+             10.0   \n",
       "2              HIS             6.0        +/+             10.0   \n",
       "3              ALL             6.0        +/+             10.0   \n",
       "4              MPN             6.0        +/+             10.0   \n",
       "\n",
       "   hla_match_dqb1_high tce_imm_match  hla_nmdp_6  hla_match_c_low rituximab  \\\n",
       "0                  2.0       Unknown         6.0              2.0        No   \n",
       "1                  2.0           P/P         6.0              2.0        No   \n",
       "2                  2.0           P/P         6.0              2.0        No   \n",
       "3                  2.0           P/P         6.0              2.0        No   \n",
       "4                  2.0       Unknown         6.0              2.0        No   \n",
       "\n",
       "   hla_match_drb1_low  hla_match_dqb1_low prod_type cyto_score_detail  \\\n",
       "0                 2.0                 2.0        BM           Unknown   \n",
       "1                 2.0                 2.0        PB      Intermediate   \n",
       "2                 2.0                 2.0        BM           Unknown   \n",
       "3                 2.0                 2.0        BM      Intermediate   \n",
       "4                 2.0                 2.0        PB           Unknown   \n",
       "\n",
       "  conditioning_intensity               ethnicity  year_hct obesity   mrd_hct  \\\n",
       "0                Unknown  Not Hispanic or Latino    2016.0      No   Unknown   \n",
       "1                    MAC  Not Hispanic or Latino    2008.0      No  Positive   \n",
       "2                Unknown  Not Hispanic or Latino    2019.0      No   Unknown   \n",
       "3                    MAC  Not Hispanic or Latino    2009.0      No  Positive   \n",
       "4                    MAC      Hispanic or Latino    2018.0      No   Unknown   \n",
       "\n",
       "  in_vivo_tcd   tce_match  hla_match_a_high hepatic_severe  donor_age  \\\n",
       "0         Yes     Unknown               2.0             No  -1.000000   \n",
       "1          No  Permissive               2.0             No  72.290001   \n",
       "2         Yes     Unknown               2.0             No  -1.000000   \n",
       "3          No  Permissive               2.0             No  29.230000   \n",
       "4         Yes     Unknown               2.0             No  56.810001   \n",
       "\n",
       "  prior_tumor  hla_match_b_low peptic_ulcer  age_at_hct  hla_match_a_low  \\\n",
       "0          No              2.0           No    9.942000              2.0   \n",
       "1          No              2.0           No   43.705002              2.0   \n",
       "2          No              2.0           No   33.997002              2.0   \n",
       "3          No              2.0           No   43.244999              2.0   \n",
       "4          No              2.0           No   29.740000              2.0   \n",
       "\n",
       "               gvhd_proph rheum_issue sex_match  hla_match_b_high  \\\n",
       "0                 FKalone          No       M-F               2.0   \n",
       "1  Other GVHD Prophylaxis          No       F-F               2.0   \n",
       "2  Cyclophosphamide alone          No       F-M               2.0   \n",
       "3       FK+ MMF +- others          No       M-M               2.0   \n",
       "4     TDEPLETION +- other          No       M-F               2.0   \n",
       "\n",
       "                         race_group  comorbidity_score  karnofsky_score  \\\n",
       "0                More than one race                0.0             90.0   \n",
       "1                             Asian                3.0             90.0   \n",
       "2                More than one race                0.0             90.0   \n",
       "3                             White                0.0             90.0   \n",
       "4  American Indian or Alaska Native                1.0             90.0   \n",
       "\n",
       "  hepatic_mild          tce_div_match donor_related      melphalan_dose  \\\n",
       "0           No                Unknown     Unrelated  N/A, Mel not given   \n",
       "1           No  Permissive mismatched       Related  N/A, Mel not given   \n",
       "2           No  Permissive mismatched       Related  N/A, Mel not given   \n",
       "3          Yes  Permissive mismatched     Unrelated  N/A, Mel not given   \n",
       "4           No  Permissive mismatched       Related                 MEL   \n",
       "\n",
       "   hla_low_res_8 cardiac  hla_match_drb1_high pulm_moderate  hla_low_res_10  \\\n",
       "0            8.0      No                  2.0            No            10.0   \n",
       "1            8.0      No                  2.0           Yes            10.0   \n",
       "2            8.0      No                  2.0            No            10.0   \n",
       "3            8.0      No                  2.0            No            10.0   \n",
       "4            8.0      No                  2.0            No            10.0   \n",
       "\n",
       "   efs    efs_time   target1   target2   target3     target4  \n",
       "0  0.0   42.355999  0.258209  0.461962 -0.772247  -42.355999  \n",
       "1  1.0    4.672000  0.964934  0.847723 -0.165197    4.672000  \n",
       "2  0.0   19.792999  0.126144  0.460785 -0.774799  -19.792999  \n",
       "3  0.0  102.348999  1.338445  0.455588 -0.786139 -102.348999  \n",
       "4  0.0   16.223000  0.912547  0.463916 -0.768026  -16.223000  "
      ]
     },
     "metadata": {},
     "output_type": "display_data"
    }
   ],
   "source": [
    "fe.info(train_data)"
   ]
  },
  {
   "cell_type": "markdown",
   "id": "20fcf020",
   "metadata": {
    "papermill": {
     "duration": 0.012682,
     "end_time": "2025-01-19T11:43:34.647601",
     "exception": false,
     "start_time": "2025-01-19T11:43:34.634919",
     "status": "completed"
    },
    "tags": []
   },
   "source": [
    "<p style=\"background-color: rgb(247, 230, 202); font-size: 300%; text-align: center; border-radius: 40px 40px; color: rgb(162, 87, 79); font-weight: bold; font-family: 'Roboto'; border: 4px solid rgb(162, 87, 79);\">Models with Cox Target</p>"
   ]
  },
  {
   "cell_type": "code",
   "execution_count": 24,
   "id": "4ed7ed25",
   "metadata": {
    "execution": {
     "iopub.execute_input": "2025-01-19T11:43:34.675737Z",
     "iopub.status.busy": "2025-01-19T11:43:34.675356Z",
     "iopub.status.idle": "2025-01-19T13:02:27.234917Z",
     "shell.execute_reply": "2025-01-19T13:02:27.233261Z"
    },
    "papermill": {
     "duration": 4732.576653,
     "end_time": "2025-01-19T13:02:27.237446",
     "exception": false,
     "start_time": "2025-01-19T11:43:34.660793",
     "status": "completed"
    },
    "tags": []
   },
   "outputs": [
    {
     "data": {
      "text/html": [
       "<iframe\n",
       "    scrolling=\"no\"\n",
       "    width=\"100%\"\n",
       "    height=\"545px\"\n",
       "    src=\"iframe_figures/figure_24.html\"\n",
       "    frameborder=\"0\"\n",
       "    allowfullscreen\n",
       "></iframe>\n"
      ]
     },
     "metadata": {},
     "output_type": "display_data"
    },
    {
     "name": "stdout",
     "output_type": "stream",
     "text": [
      "Overall Stratified C-Index Score for CatBoost: 0.6614\n"
     ]
    }
   ],
   "source": [
    "ctb1_models, ctb1_oof_preds = md.train_model(CFG.ctb_params, target='target1', title='CatBoost')"
   ]
  },
  {
   "cell_type": "code",
   "execution_count": 25,
   "id": "ee77f25a",
   "metadata": {
    "execution": {
     "iopub.execute_input": "2025-01-19T13:02:27.266335Z",
     "iopub.status.busy": "2025-01-19T13:02:27.265882Z",
     "iopub.status.idle": "2025-01-19T13:07:25.476609Z",
     "shell.execute_reply": "2025-01-19T13:07:25.475451Z"
    },
    "papermill": {
     "duration": 298.22811,
     "end_time": "2025-01-19T13:07:25.478934",
     "exception": false,
     "start_time": "2025-01-19T13:02:27.250824",
     "status": "completed"
    },
    "tags": []
   },
   "outputs": [
    {
     "data": {
      "text/html": [
       "<iframe\n",
       "    scrolling=\"no\"\n",
       "    width=\"100%\"\n",
       "    height=\"545px\"\n",
       "    src=\"iframe_figures/figure_25.html\"\n",
       "    frameborder=\"0\"\n",
       "    allowfullscreen\n",
       "></iframe>\n"
      ]
     },
     "metadata": {},
     "output_type": "display_data"
    },
    {
     "name": "stdout",
     "output_type": "stream",
     "text": [
      "Overall Stratified C-Index Score for LightGBM: 0.6596\n"
     ]
    }
   ],
   "source": [
    "lgb1_models, lgb1_oof_preds = md.train_model(CFG.lgb_params, target='target1', title='LightGBM')"
   ]
  },
  {
   "cell_type": "code",
   "execution_count": 26,
   "id": "530ed178",
   "metadata": {
    "execution": {
     "iopub.execute_input": "2025-01-19T13:07:25.507982Z",
     "iopub.status.busy": "2025-01-19T13:07:25.507560Z",
     "iopub.status.idle": "2025-01-19T13:07:25.564094Z",
     "shell.execute_reply": "2025-01-19T13:07:25.563066Z"
    },
    "papermill": {
     "duration": 0.073756,
     "end_time": "2025-01-19T13:07:25.566393",
     "exception": false,
     "start_time": "2025-01-19T13:07:25.492637",
     "status": "completed"
    },
    "tags": []
   },
   "outputs": [],
   "source": [
    "ctb1_preds = md.infer_model(test_data, ctb1_models)"
   ]
  },
  {
   "cell_type": "code",
   "execution_count": 27,
   "id": "192ba4bd",
   "metadata": {
    "execution": {
     "iopub.execute_input": "2025-01-19T13:07:25.595472Z",
     "iopub.status.busy": "2025-01-19T13:07:25.595058Z",
     "iopub.status.idle": "2025-01-19T13:07:25.793493Z",
     "shell.execute_reply": "2025-01-19T13:07:25.792458Z"
    },
    "papermill": {
     "duration": 0.215688,
     "end_time": "2025-01-19T13:07:25.795798",
     "exception": false,
     "start_time": "2025-01-19T13:07:25.580110",
     "status": "completed"
    },
    "tags": []
   },
   "outputs": [],
   "source": [
    "lgb1_preds = md.infer_model(test_data, lgb1_models)"
   ]
  },
  {
   "cell_type": "markdown",
   "id": "8a3ffbd3",
   "metadata": {
    "papermill": {
     "duration": 0.013315,
     "end_time": "2025-01-19T13:07:25.823031",
     "exception": false,
     "start_time": "2025-01-19T13:07:25.809716",
     "status": "completed"
    },
    "tags": []
   },
   "source": [
    "<p style=\"background-color: rgb(247, 230, 202); font-size: 300%; text-align: center; border-radius: 40px 40px; color: rgb(162, 87, 79); font-weight: bold; font-family: 'Roboto'; border: 4px solid rgb(162, 87, 79);\">Models with Kaplan-Meier Target</p>"
   ]
  },
  {
   "cell_type": "code",
   "execution_count": 28,
   "id": "8a937125",
   "metadata": {
    "execution": {
     "iopub.execute_input": "2025-01-19T13:07:25.853314Z",
     "iopub.status.busy": "2025-01-19T13:07:25.852104Z",
     "iopub.status.idle": "2025-01-19T14:05:03.265014Z",
     "shell.execute_reply": "2025-01-19T14:05:03.263556Z"
    },
    "papermill": {
     "duration": 3457.430225,
     "end_time": "2025-01-19T14:05:03.267380",
     "exception": false,
     "start_time": "2025-01-19T13:07:25.837155",
     "status": "completed"
    },
    "tags": []
   },
   "outputs": [
    {
     "data": {
      "text/html": [
       "<iframe\n",
       "    scrolling=\"no\"\n",
       "    width=\"100%\"\n",
       "    height=\"545px\"\n",
       "    src=\"iframe_figures/figure_28.html\"\n",
       "    frameborder=\"0\"\n",
       "    allowfullscreen\n",
       "></iframe>\n"
      ]
     },
     "metadata": {},
     "output_type": "display_data"
    },
    {
     "name": "stdout",
     "output_type": "stream",
     "text": [
      "Overall Stratified C-Index Score for CatBoost: 0.6748\n"
     ]
    }
   ],
   "source": [
    "ctb2_models, ctb2_oof_preds = md.train_model(CFG.ctb_params, target='target2', title='CatBoost')"
   ]
  },
  {
   "cell_type": "code",
   "execution_count": 29,
   "id": "6a3094c8",
   "metadata": {
    "execution": {
     "iopub.execute_input": "2025-01-19T14:05:03.297176Z",
     "iopub.status.busy": "2025-01-19T14:05:03.296762Z",
     "iopub.status.idle": "2025-01-19T14:05:41.519207Z",
     "shell.execute_reply": "2025-01-19T14:05:41.518038Z"
    },
    "papermill": {
     "duration": 38.240111,
     "end_time": "2025-01-19T14:05:41.521420",
     "exception": false,
     "start_time": "2025-01-19T14:05:03.281309",
     "status": "completed"
    },
    "tags": []
   },
   "outputs": [
    {
     "data": {
      "text/html": [
       "<iframe\n",
       "    scrolling=\"no\"\n",
       "    width=\"100%\"\n",
       "    height=\"545px\"\n",
       "    src=\"iframe_figures/figure_29.html\"\n",
       "    frameborder=\"0\"\n",
       "    allowfullscreen\n",
       "></iframe>\n"
      ]
     },
     "metadata": {},
     "output_type": "display_data"
    },
    {
     "name": "stdout",
     "output_type": "stream",
     "text": [
      "Overall Stratified C-Index Score for LightGBM: 0.6668\n"
     ]
    }
   ],
   "source": [
    "lgb2_models, lgb2_oof_preds = md.train_model(CFG.lgb_params, target='target2', title='LightGBM')"
   ]
  },
  {
   "cell_type": "code",
   "execution_count": 30,
   "id": "5d415856",
   "metadata": {
    "execution": {
     "iopub.execute_input": "2025-01-19T14:05:41.551287Z",
     "iopub.status.busy": "2025-01-19T14:05:41.550859Z",
     "iopub.status.idle": "2025-01-19T14:05:41.611765Z",
     "shell.execute_reply": "2025-01-19T14:05:41.610692Z"
    },
    "papermill": {
     "duration": 0.078703,
     "end_time": "2025-01-19T14:05:41.614246",
     "exception": false,
     "start_time": "2025-01-19T14:05:41.535543",
     "status": "completed"
    },
    "tags": []
   },
   "outputs": [],
   "source": [
    "ctb2_preds = md.infer_model(test_data, ctb2_models)"
   ]
  },
  {
   "cell_type": "code",
   "execution_count": 31,
   "id": "df034f1d",
   "metadata": {
    "execution": {
     "iopub.execute_input": "2025-01-19T14:05:41.645283Z",
     "iopub.status.busy": "2025-01-19T14:05:41.644866Z",
     "iopub.status.idle": "2025-01-19T14:05:41.805482Z",
     "shell.execute_reply": "2025-01-19T14:05:41.804372Z"
    },
    "papermill": {
     "duration": 0.179299,
     "end_time": "2025-01-19T14:05:41.808187",
     "exception": false,
     "start_time": "2025-01-19T14:05:41.628888",
     "status": "completed"
    },
    "tags": []
   },
   "outputs": [],
   "source": [
    "lgb2_preds = md.infer_model(test_data, lgb2_models)"
   ]
  },
  {
   "cell_type": "markdown",
   "id": "56da1dcb",
   "metadata": {
    "papermill": {
     "duration": 0.013742,
     "end_time": "2025-01-19T14:05:41.836231",
     "exception": false,
     "start_time": "2025-01-19T14:05:41.822489",
     "status": "completed"
    },
    "tags": []
   },
   "source": [
    "<p style=\"background-color: rgb(247, 230, 202); font-size: 300%; text-align: center; border-radius: 40px 40px; color: rgb(162, 87, 79); font-weight: bold; font-family: 'Roboto'; border: 4px solid rgb(162, 87, 79);\">Models with Nelson-Aalen Target</p>"
   ]
  },
  {
   "cell_type": "code",
   "execution_count": 32,
   "id": "fb1bbc08",
   "metadata": {
    "execution": {
     "iopub.execute_input": "2025-01-19T14:05:41.867570Z",
     "iopub.status.busy": "2025-01-19T14:05:41.867151Z",
     "iopub.status.idle": "2025-01-19T14:55:04.695974Z",
     "shell.execute_reply": "2025-01-19T14:55:04.694806Z"
    },
    "papermill": {
     "duration": 2962.848054,
     "end_time": "2025-01-19T14:55:04.698548",
     "exception": false,
     "start_time": "2025-01-19T14:05:41.850494",
     "status": "completed"
    },
    "tags": []
   },
   "outputs": [
    {
     "data": {
      "text/html": [
       "<iframe\n",
       "    scrolling=\"no\"\n",
       "    width=\"100%\"\n",
       "    height=\"545px\"\n",
       "    src=\"iframe_figures/figure_32.html\"\n",
       "    frameborder=\"0\"\n",
       "    allowfullscreen\n",
       "></iframe>\n"
      ]
     },
     "metadata": {},
     "output_type": "display_data"
    },
    {
     "name": "stdout",
     "output_type": "stream",
     "text": [
      "Overall Stratified C-Index Score for CatBoost: 0.6766\n"
     ]
    }
   ],
   "source": [
    "ctb3_models, ctb3_oof_preds = md.train_model(CFG.ctb_params, target='target3', title='CatBoost')"
   ]
  },
  {
   "cell_type": "code",
   "execution_count": 33,
   "id": "626e7358",
   "metadata": {
    "execution": {
     "iopub.execute_input": "2025-01-19T14:55:04.738396Z",
     "iopub.status.busy": "2025-01-19T14:55:04.737190Z",
     "iopub.status.idle": "2025-01-19T14:55:42.233379Z",
     "shell.execute_reply": "2025-01-19T14:55:42.232203Z"
    },
    "papermill": {
     "duration": 37.517682,
     "end_time": "2025-01-19T14:55:42.235835",
     "exception": false,
     "start_time": "2025-01-19T14:55:04.718153",
     "status": "completed"
    },
    "tags": []
   },
   "outputs": [
    {
     "data": {
      "text/html": [
       "<iframe\n",
       "    scrolling=\"no\"\n",
       "    width=\"100%\"\n",
       "    height=\"545px\"\n",
       "    src=\"iframe_figures/figure_33.html\"\n",
       "    frameborder=\"0\"\n",
       "    allowfullscreen\n",
       "></iframe>\n"
      ]
     },
     "metadata": {},
     "output_type": "display_data"
    },
    {
     "name": "stdout",
     "output_type": "stream",
     "text": [
      "Overall Stratified C-Index Score for LightGBM: 0.6691\n"
     ]
    }
   ],
   "source": [
    "lgb3_models, lgb3_oof_preds = md.train_model(CFG.lgb_params, target='target3', title='LightGBM')"
   ]
  },
  {
   "cell_type": "code",
   "execution_count": 34,
   "id": "d62b34f3",
   "metadata": {
    "execution": {
     "iopub.execute_input": "2025-01-19T14:55:42.267353Z",
     "iopub.status.busy": "2025-01-19T14:55:42.266925Z",
     "iopub.status.idle": "2025-01-19T14:55:42.326372Z",
     "shell.execute_reply": "2025-01-19T14:55:42.325205Z"
    },
    "papermill": {
     "duration": 0.078276,
     "end_time": "2025-01-19T14:55:42.328998",
     "exception": false,
     "start_time": "2025-01-19T14:55:42.250722",
     "status": "completed"
    },
    "tags": []
   },
   "outputs": [],
   "source": [
    "ctb3_preds = md.infer_model(test_data, ctb3_models)"
   ]
  },
  {
   "cell_type": "code",
   "execution_count": 35,
   "id": "173d3e00",
   "metadata": {
    "execution": {
     "iopub.execute_input": "2025-01-19T14:55:42.359747Z",
     "iopub.status.busy": "2025-01-19T14:55:42.359384Z",
     "iopub.status.idle": "2025-01-19T14:55:42.506454Z",
     "shell.execute_reply": "2025-01-19T14:55:42.505252Z"
    },
    "papermill": {
     "duration": 0.165253,
     "end_time": "2025-01-19T14:55:42.508850",
     "exception": false,
     "start_time": "2025-01-19T14:55:42.343597",
     "status": "completed"
    },
    "tags": []
   },
   "outputs": [],
   "source": [
    "lgb3_preds = md.infer_model(test_data, lgb3_models)"
   ]
  },
  {
   "cell_type": "markdown",
   "id": "9a41bb9e",
   "metadata": {
    "papermill": {
     "duration": 0.014632,
     "end_time": "2025-01-19T14:55:42.538811",
     "exception": false,
     "start_time": "2025-01-19T14:55:42.524179",
     "status": "completed"
    },
    "tags": []
   },
   "source": [
    "<p style=\"background-color: rgb(247, 230, 202); font-size: 300%; text-align: center; border-radius: 40px 40px; color: rgb(162, 87, 79); font-weight: bold; font-family: 'Roboto'; border: 4px solid rgb(162, 87, 79);\">Models with Cox-Loss Target</p>"
   ]
  },
  {
   "cell_type": "code",
   "execution_count": 36,
   "id": "5557b420",
   "metadata": {
    "execution": {
     "iopub.execute_input": "2025-01-19T14:55:42.570780Z",
     "iopub.status.busy": "2025-01-19T14:55:42.570383Z",
     "iopub.status.idle": "2025-01-19T15:02:04.214017Z",
     "shell.execute_reply": "2025-01-19T15:02:04.212827Z"
    },
    "papermill": {
     "duration": 381.662629,
     "end_time": "2025-01-19T15:02:04.216517",
     "exception": false,
     "start_time": "2025-01-19T14:55:42.553888",
     "status": "completed"
    },
    "tags": []
   },
   "outputs": [
    {
     "data": {
      "text/html": [
       "<iframe\n",
       "    scrolling=\"no\"\n",
       "    width=\"100%\"\n",
       "    height=\"545px\"\n",
       "    src=\"iframe_figures/figure_36.html\"\n",
       "    frameborder=\"0\"\n",
       "    allowfullscreen\n",
       "></iframe>\n"
      ]
     },
     "metadata": {},
     "output_type": "display_data"
    },
    {
     "name": "stdout",
     "output_type": "stream",
     "text": [
      "Overall Stratified C-Index Score for CatBoost: 0.6705\n"
     ]
    }
   ],
   "source": [
    "cox1_models, cox1_oof_preds = md.train_model(CFG.cox1_params, target='target4', title='CatBoost')"
   ]
  },
  {
   "cell_type": "code",
   "execution_count": 37,
   "id": "1b642b30",
   "metadata": {
    "execution": {
     "iopub.execute_input": "2025-01-19T15:02:04.248080Z",
     "iopub.status.busy": "2025-01-19T15:02:04.247706Z",
     "iopub.status.idle": "2025-01-19T15:12:42.424288Z",
     "shell.execute_reply": "2025-01-19T15:12:42.423061Z"
    },
    "papermill": {
     "duration": 638.194942,
     "end_time": "2025-01-19T15:12:42.426540",
     "exception": false,
     "start_time": "2025-01-19T15:02:04.231598",
     "status": "completed"
    },
    "tags": []
   },
   "outputs": [
    {
     "data": {
      "text/html": [
       "<iframe\n",
       "    scrolling=\"no\"\n",
       "    width=\"100%\"\n",
       "    height=\"545px\"\n",
       "    src=\"iframe_figures/figure_37.html\"\n",
       "    frameborder=\"0\"\n",
       "    allowfullscreen\n",
       "></iframe>\n"
      ]
     },
     "metadata": {},
     "output_type": "display_data"
    },
    {
     "name": "stdout",
     "output_type": "stream",
     "text": [
      "Overall Stratified C-Index Score for CatBoost: 0.6712\n"
     ]
    }
   ],
   "source": [
    "cox2_models, cox2_oof_preds = md.train_model(CFG.cox2_params, target='target4', title='CatBoost')"
   ]
  },
  {
   "cell_type": "code",
   "execution_count": 38,
   "id": "8a2f393c",
   "metadata": {
    "execution": {
     "iopub.execute_input": "2025-01-19T15:12:42.458651Z",
     "iopub.status.busy": "2025-01-19T15:12:42.457876Z",
     "iopub.status.idle": "2025-01-19T15:12:42.498391Z",
     "shell.execute_reply": "2025-01-19T15:12:42.497481Z"
    },
    "papermill": {
     "duration": 0.05926,
     "end_time": "2025-01-19T15:12:42.500877",
     "exception": false,
     "start_time": "2025-01-19T15:12:42.441617",
     "status": "completed"
    },
    "tags": []
   },
   "outputs": [],
   "source": [
    "cox1_preds = md.infer_model(test_data, cox1_models)"
   ]
  },
  {
   "cell_type": "code",
   "execution_count": 39,
   "id": "0b277856",
   "metadata": {
    "execution": {
     "iopub.execute_input": "2025-01-19T15:12:42.532778Z",
     "iopub.status.busy": "2025-01-19T15:12:42.532414Z",
     "iopub.status.idle": "2025-01-19T15:12:42.575630Z",
     "shell.execute_reply": "2025-01-19T15:12:42.574544Z"
    },
    "papermill": {
     "duration": 0.062221,
     "end_time": "2025-01-19T15:12:42.578187",
     "exception": false,
     "start_time": "2025-01-19T15:12:42.515966",
     "status": "completed"
    },
    "tags": []
   },
   "outputs": [],
   "source": [
    "cox2_preds = md.infer_model(test_data, cox2_models)"
   ]
  },
  {
   "cell_type": "markdown",
   "id": "5ec7e9c7",
   "metadata": {
    "papermill": {
     "duration": 0.01464,
     "end_time": "2025-01-19T15:12:42.608018",
     "exception": false,
     "start_time": "2025-01-19T15:12:42.593378",
     "status": "completed"
    },
    "tags": []
   },
   "source": [
    "<p style=\"background-color: rgb(247, 230, 202); font-size: 300%; text-align: center; border-radius: 40px 40px; color: rgb(162, 87, 79); font-weight: bold; font-family: 'Roboto'; border: 4px solid rgb(162, 87, 79);\">Ensemble Model</p>"
   ]
  },
  {
   "cell_type": "code",
   "execution_count": 40,
   "id": "9f2d5a71",
   "metadata": {
    "execution": {
     "iopub.execute_input": "2025-01-19T15:12:42.640684Z",
     "iopub.status.busy": "2025-01-19T15:12:42.640327Z",
     "iopub.status.idle": "2025-01-19T15:12:42.645668Z",
     "shell.execute_reply": "2025-01-19T15:12:42.644474Z"
    },
    "papermill": {
     "duration": 0.024708,
     "end_time": "2025-01-19T15:12:42.647728",
     "exception": false,
     "start_time": "2025-01-19T15:12:42.623020",
     "status": "completed"
    },
    "tags": []
   },
   "outputs": [],
   "source": [
    "oof_preds = [\n",
    "    ctb1_oof_preds, \n",
    "    lgb1_oof_preds, \n",
    "    ctb2_oof_preds, \n",
    "    lgb2_oof_preds, \n",
    "    ctb3_oof_preds, \n",
    "    lgb3_oof_preds, \n",
    "    cox1_oof_preds,\n",
    "    cox2_oof_preds\n",
    "]"
   ]
  },
  {
   "cell_type": "code",
   "execution_count": 41,
   "id": "21ca3c44",
   "metadata": {
    "execution": {
     "iopub.execute_input": "2025-01-19T15:12:42.680096Z",
     "iopub.status.busy": "2025-01-19T15:12:42.679669Z",
     "iopub.status.idle": "2025-01-19T15:12:42.684982Z",
     "shell.execute_reply": "2025-01-19T15:12:42.683847Z"
    },
    "papermill": {
     "duration": 0.023967,
     "end_time": "2025-01-19T15:12:42.687146",
     "exception": false,
     "start_time": "2025-01-19T15:12:42.663179",
     "status": "completed"
    },
    "tags": []
   },
   "outputs": [],
   "source": [
    "preds = [\n",
    "    ctb1_preds, \n",
    "    lgb1_preds, \n",
    "    ctb2_preds, \n",
    "    lgb2_preds, \n",
    "    ctb3_preds, \n",
    "    lgb3_preds,\n",
    "    cox1_preds,\n",
    "    cox2_preds\n",
    "]"
   ]
  },
  {
   "cell_type": "markdown",
   "id": "aba25423",
   "metadata": {
    "papermill": {
     "duration": 0.014563,
     "end_time": "2025-01-19T15:12:42.717016",
     "exception": false,
     "start_time": "2025-01-19T15:12:42.702453",
     "status": "completed"
    },
    "tags": []
   },
   "source": [
    "<div style=\"background-color: rgb(247, 230, 202); border: 4px solid rgb(162, 87, 79); border-radius: 40px; padding: 20px; font-family: 'Roboto'; color: rgb(162, 87, 79); text-align: left; font-size: 140%;\">\n",
    "    <b>Calculate C-Index score for Ensemble model using Out-of-Fold (OOF) predictions.</b>\n",
    "</div>"
   ]
  },
  {
   "cell_type": "code",
   "execution_count": 42,
   "id": "5d9c0373",
   "metadata": {
    "execution": {
     "iopub.execute_input": "2025-01-19T15:12:42.748587Z",
     "iopub.status.busy": "2025-01-19T15:12:42.748160Z",
     "iopub.status.idle": "2025-01-19T15:12:42.785223Z",
     "shell.execute_reply": "2025-01-19T15:12:42.784050Z"
    },
    "papermill": {
     "duration": 0.055562,
     "end_time": "2025-01-19T15:12:42.787703",
     "exception": false,
     "start_time": "2025-01-19T15:12:42.732141",
     "status": "completed"
    },
    "tags": []
   },
   "outputs": [],
   "source": [
    "ranked_oof_preds = np.array([rankdata(p) for p in oof_preds])"
   ]
  },
  {
   "cell_type": "code",
   "execution_count": 43,
   "id": "f0e1f4cf",
   "metadata": {
    "execution": {
     "iopub.execute_input": "2025-01-19T15:12:42.819909Z",
     "iopub.status.busy": "2025-01-19T15:12:42.819484Z",
     "iopub.status.idle": "2025-01-19T15:12:42.824919Z",
     "shell.execute_reply": "2025-01-19T15:12:42.823753Z"
    },
    "papermill": {
     "duration": 0.024257,
     "end_time": "2025-01-19T15:12:42.827188",
     "exception": false,
     "start_time": "2025-01-19T15:12:42.802931",
     "status": "completed"
    },
    "tags": []
   },
   "outputs": [],
   "source": [
    "ensemble_oof_preds = np.dot(CFG.weights, ranked_oof_preds)"
   ]
  },
  {
   "cell_type": "code",
   "execution_count": 44,
   "id": "92055b27",
   "metadata": {
    "execution": {
     "iopub.execute_input": "2025-01-19T15:12:42.913293Z",
     "iopub.status.busy": "2025-01-19T15:12:42.912633Z",
     "iopub.status.idle": "2025-01-19T15:12:43.315426Z",
     "shell.execute_reply": "2025-01-19T15:12:43.314068Z"
    },
    "papermill": {
     "duration": 0.452535,
     "end_time": "2025-01-19T15:12:43.317945",
     "exception": false,
     "start_time": "2025-01-19T15:12:42.865410",
     "status": "completed"
    },
    "tags": []
   },
   "outputs": [
    {
     "name": "stdout",
     "output_type": "stream",
     "text": [
      "Overall Stratified C-Index Score for Ensemble Model: 0.6808\n"
     ]
    }
   ],
   "source": [
    "md.targets.validate_model(ensemble_oof_preds, 'Ensemble Model')"
   ]
  },
  {
   "cell_type": "markdown",
   "id": "c820e142",
   "metadata": {
    "papermill": {
     "duration": 0.014912,
     "end_time": "2025-01-19T15:12:43.348239",
     "exception": false,
     "start_time": "2025-01-19T15:12:43.333327",
     "status": "completed"
    },
    "tags": []
   },
   "source": [
    "<div style=\"background-color: rgb(247, 230, 202); border: 4px solid rgb(162, 87, 79); border-radius: 40px; padding: 20px; font-family: 'Roboto'; color: rgb(162, 87, 79); text-align: left; font-size: 140%;\">\n",
    "    <b>Ensemble predictions for the test data.</b>\n",
    "</div>"
   ]
  },
  {
   "cell_type": "code",
   "execution_count": 45,
   "id": "ccad11d0",
   "metadata": {
    "execution": {
     "iopub.execute_input": "2025-01-19T15:12:43.380976Z",
     "iopub.status.busy": "2025-01-19T15:12:43.380525Z",
     "iopub.status.idle": "2025-01-19T15:12:43.388250Z",
     "shell.execute_reply": "2025-01-19T15:12:43.387124Z"
    },
    "papermill": {
     "duration": 0.027147,
     "end_time": "2025-01-19T15:12:43.390778",
     "exception": false,
     "start_time": "2025-01-19T15:12:43.363631",
     "status": "completed"
    },
    "tags": []
   },
   "outputs": [],
   "source": [
    "ranked_preds = np.array([rankdata(p) for p in preds])"
   ]
  },
  {
   "cell_type": "code",
   "execution_count": 46,
   "id": "edca5aab",
   "metadata": {
    "execution": {
     "iopub.execute_input": "2025-01-19T15:12:43.424004Z",
     "iopub.status.busy": "2025-01-19T15:12:43.423053Z",
     "iopub.status.idle": "2025-01-19T15:12:43.427860Z",
     "shell.execute_reply": "2025-01-19T15:12:43.426942Z"
    },
    "papermill": {
     "duration": 0.023663,
     "end_time": "2025-01-19T15:12:43.429876",
     "exception": false,
     "start_time": "2025-01-19T15:12:43.406213",
     "status": "completed"
    },
    "tags": []
   },
   "outputs": [],
   "source": [
    "ensemble_preds = np.dot(CFG.weights, ranked_preds)"
   ]
  },
  {
   "cell_type": "code",
   "execution_count": 47,
   "id": "77dafa87",
   "metadata": {
    "execution": {
     "iopub.execute_input": "2025-01-19T15:12:43.462808Z",
     "iopub.status.busy": "2025-01-19T15:12:43.462402Z",
     "iopub.status.idle": "2025-01-19T15:12:43.482716Z",
     "shell.execute_reply": "2025-01-19T15:12:43.481397Z"
    },
    "papermill": {
     "duration": 0.039781,
     "end_time": "2025-01-19T15:12:43.485360",
     "exception": false,
     "start_time": "2025-01-19T15:12:43.445579",
     "status": "completed"
    },
    "tags": []
   },
   "outputs": [],
   "source": [
    "subm_data = pd.read_csv(CFG.subm_path)\n",
    "subm_data['prediction'] = ensemble_preds"
   ]
  },
  {
   "cell_type": "code",
   "execution_count": 48,
   "id": "ce498eaf",
   "metadata": {
    "execution": {
     "iopub.execute_input": "2025-01-19T15:12:43.518018Z",
     "iopub.status.busy": "2025-01-19T15:12:43.517610Z",
     "iopub.status.idle": "2025-01-19T15:12:43.533614Z",
     "shell.execute_reply": "2025-01-19T15:12:43.532496Z"
    },
    "papermill": {
     "duration": 0.035095,
     "end_time": "2025-01-19T15:12:43.535932",
     "exception": false,
     "start_time": "2025-01-19T15:12:43.500837",
     "status": "completed"
    },
    "tags": []
   },
   "outputs": [
    {
     "data": {
      "text/html": [
       "<div>\n",
       "<style scoped>\n",
       "    .dataframe tbody tr th:only-of-type {\n",
       "        vertical-align: middle;\n",
       "    }\n",
       "\n",
       "    .dataframe tbody tr th {\n",
       "        vertical-align: top;\n",
       "    }\n",
       "\n",
       "    .dataframe thead th {\n",
       "        text-align: right;\n",
       "    }\n",
       "</style>\n",
       "<table border=\"1\" class=\"dataframe\">\n",
       "  <thead>\n",
       "    <tr style=\"text-align: right;\">\n",
       "      <th></th>\n",
       "      <th>ID</th>\n",
       "      <th>prediction</th>\n",
       "    </tr>\n",
       "  </thead>\n",
       "  <tbody>\n",
       "    <tr>\n",
       "      <th>0</th>\n",
       "      <td>28800</td>\n",
       "      <td>66.0</td>\n",
       "    </tr>\n",
       "    <tr>\n",
       "      <th>1</th>\n",
       "      <td>28801</td>\n",
       "      <td>99.0</td>\n",
       "    </tr>\n",
       "    <tr>\n",
       "      <th>2</th>\n",
       "      <td>28802</td>\n",
       "      <td>33.0</td>\n",
       "    </tr>\n",
       "  </tbody>\n",
       "</table>\n",
       "</div>"
      ],
      "text/plain": [
       "      ID  prediction\n",
       "0  28800        66.0\n",
       "1  28801        99.0\n",
       "2  28802        33.0"
      ]
     },
     "metadata": {},
     "output_type": "display_data"
    }
   ],
   "source": [
    "subm_data.to_csv('submission.csv', index=False)\n",
    "display(subm_data.head())"
   ]
  }
 ],
 "metadata": {
  "kaggle": {
   "accelerator": "none",
   "dataSources": [
    {
     "databundleVersionId": 10381525,
     "sourceId": 70942,
     "sourceType": "competition"
    },
    {
     "sourceId": 211253469,
     "sourceType": "kernelVersion"
    },
    {
     "sourceId": 211322530,
     "sourceType": "kernelVersion"
    }
   ],
   "dockerImageVersionId": 30804,
   "isGpuEnabled": false,
   "isInternetEnabled": false,
   "language": "python",
   "sourceType": "notebook"
  },
  "kernelspec": {
   "display_name": "devp",
   "language": "python",
   "name": "python3"
  },
  "language_info": {
   "codemirror_mode": {
    "name": "ipython",
    "version": 3
   },
   "file_extension": ".py",
   "mimetype": "text/x-python",
   "name": "python",
   "nbconvert_exporter": "python",
   "pygments_lexer": "ipython3",
   "version": "3.11.7"
  },
  "papermill": {
   "default_parameters": {},
   "duration": 12920.873493,
   "end_time": "2025-01-19T15:12:45.177984",
   "environment_variables": {},
   "exception": null,
   "input_path": "__notebook__.ipynb",
   "output_path": "__notebook__.ipynb",
   "parameters": {},
   "start_time": "2025-01-19T11:37:24.304491",
   "version": "2.6.0"
  }
 },
 "nbformat": 4,
 "nbformat_minor": 5
}
